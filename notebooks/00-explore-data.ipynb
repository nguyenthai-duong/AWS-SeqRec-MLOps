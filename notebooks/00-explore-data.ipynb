{
 "cells": [
  {
   "cell_type": "code",
   "execution_count": null,
   "metadata": {},
   "outputs": [],
   "source": [
    "import sys\n",
    "\n",
    "import datasets\n",
    "import pandas as pd\n",
    "import plotly.express as px\n",
    "from datasets import load_dataset\n",
    "from pydantic import BaseModel\n",
    "\n",
    "datasets.logging.set_verbosity_error()\n",
    "\n",
    "sys.path.insert(0, \"..\")\n",
    "\n",
    "from src.data_prep_utils import handle_dtypes, parse_dt"
   ]
  },
  {
   "cell_type": "code",
   "execution_count": 10,
   "metadata": {},
   "outputs": [
    {
     "name": "stdout",
     "output_type": "stream",
     "text": [
      "{\"hf_dataset_path\":\"McAuley-Lab/Amazon-Reviews-2023\",\"report_sample_num_rows\":10000,\"random_seed\":41}\n"
     ]
    }
   ],
   "source": [
    "class Args(BaseModel):\n",
    "    hf_dataset_path: str = \"McAuley-Lab/Amazon-Reviews-2023\"\n",
    "    report_sample_num_rows: int = 10000\n",
    "    random_seed: int = 41\n",
    "\n",
    "\n",
    "args = Args()\n",
    "\n",
    "print(args.model_dump_json())"
   ]
  },
  {
   "cell_type": "code",
   "execution_count": 4,
   "metadata": {},
   "outputs": [
    {
     "data": {
      "text/plain": [
       "{'main_category': 'Toys & Games',\n",
       " 'title': 'KUNGOON Happy Anniversary Balloon Banner,Wedding Anniversary Party Decorations,Love Party and Anniversary Party Supplies,16 Inch Gold Aluminum Foil.',\n",
       " 'average_rating': 4.5,\n",
       " 'rating_number': 241,\n",
       " 'features': [],\n",
       " 'description': [],\n",
       " 'price': 'None',\n",
       " 'images': {'hi_res': ['https://m.media-amazon.com/images/I/51tskkWgFmL._AC_SL1000_.jpg',\n",
       "   'https://m.media-amazon.com/images/I/51pCkL9l5LL._AC_SL1000_.jpg',\n",
       "   'https://m.media-amazon.com/images/I/61vjFq1pe1L._AC_SL1000_.jpg'],\n",
       "  'large': ['https://m.media-amazon.com/images/I/41enwmDCoZL._AC_.jpg',\n",
       "   'https://m.media-amazon.com/images/I/414NxCPIOmL._AC_.jpg',\n",
       "   'https://m.media-amazon.com/images/I/516olygyHAL._AC_.jpg'],\n",
       "  'thumb': ['https://m.media-amazon.com/images/I/41enwmDCoZL._AC_US40_.jpg',\n",
       "   'https://m.media-amazon.com/images/I/414NxCPIOmL._AC_US40_.jpg',\n",
       "   'https://m.media-amazon.com/images/I/516olygyHAL._AC_US40_.jpg'],\n",
       "  'variant': ['MAIN', 'PT01', 'PT02']},\n",
       " 'videos': {'title': ['Pretty Cool!',\n",
       "   'Product assembly and renderings.',\n",
       "   'Silver Happy Anniversary Balloons for Party',\n",
       "   'Red Happy Anniversary Balloons for Party Decorations',\n",
       "   'AULE Gold Number Balloons',\n",
       "   'EFAY  Inflation Video of 20 inch Pre-Stretched Clear BoBo Balloons ',\n",
       "   'COKAOBE 120PCS Black Gold White Confetti Balloons Arch Kit',\n",
       "   'How to tie clear bobo balloons '],\n",
       "  'url': ['https://www.amazon.com/vdp/0143c17cceb14b109027a2d0a5017220?ref=dp_vse_rvc_0',\n",
       "   'https://www.amazon.com/vdp/02f17a3228a84e70a5d81787a4a9bd7c?ref=dp_vse_rvc_1',\n",
       "   'https://www.amazon.com/vdp/076a6a74c39247d5999f2ce6b0151f3f?ref=dp_vse_rvc_2',\n",
       "   'https://www.amazon.com/vdp/0202ba851bf14fc1a0b77882c0f711c0?ref=dp_vse_rvc_3',\n",
       "   'https://www.amazon.com/vdp/e6d66dc848a8448fbf8fa60077b523fe?ref=dp_vse_rvc_4',\n",
       "   'https://www.amazon.com/vdp/06ef89743e2242f787adb1b84b1dd8e3?ref=dp_vse_rvc_5',\n",
       "   'https://www.amazon.com/vdp/0d7d7f64fb1a433cbee51bb05000039a?ref=dp_vse_rvc_6',\n",
       "   'https://www.amazon.com/vdp/01fe12664be2426494a002dbee492be3?ref=dp_vse_rvc_7'],\n",
       "  'user_id': ['AFQUT3ROCJWTQSNJ2GONWHYRFPCA', '', '', '', '', '', '', '']},\n",
       " 'store': 'Kunggo',\n",
       " 'categories': [],\n",
       " 'details': '{\"Package Dimensions\": \"10.12 x 8.03 x 0.51 inches\", \"Item Weight\": \"3.87 ounces\", \"Occasion\": \"Wedding, Anniversary\", \"Color\": \"Gold\", \"Cartoon Character\": \"Tango\", \"Material\": \"Aluminum\", \"Unit Count\": \"1 Count\", \"Number Theme\": \"Number 16\", \"Brand\": \"Kunggo\", \"CPSIA Cautionary Statement\": \"Choking Hazard - Balloon\"}',\n",
       " 'parent_asin': 'B08GPM7CQN',\n",
       " 'bought_together': None,\n",
       " 'subtitle': None,\n",
       " 'author': None}"
      ]
     },
     "execution_count": 4,
     "metadata": {},
     "output_type": "execute_result"
    }
   ],
   "source": [
    "metadata = load_dataset(\n",
    "    args.hf_dataset_path,\n",
    "    name=\"raw_meta_Toys_and_Games\",\n",
    "    split=\"full\",\n",
    "    trust_remote_code=True,\n",
    ")\n",
    "metadata[0]"
   ]
  },
  {
   "cell_type": "code",
   "execution_count": 5,
   "metadata": {},
   "outputs": [
    {
     "data": {
      "text/html": [
       "<div>\n",
       "<style scoped>\n",
       "    .dataframe tbody tr th:only-of-type {\n",
       "        vertical-align: middle;\n",
       "    }\n",
       "\n",
       "    .dataframe tbody tr th {\n",
       "        vertical-align: top;\n",
       "    }\n",
       "\n",
       "    .dataframe thead th {\n",
       "        text-align: right;\n",
       "    }\n",
       "</style>\n",
       "<table border=\"1\" class=\"dataframe\">\n",
       "  <thead>\n",
       "    <tr style=\"text-align: right;\">\n",
       "      <th></th>\n",
       "      <th>user_id</th>\n",
       "      <th>parent_asin</th>\n",
       "      <th>rating</th>\n",
       "      <th>timestamp</th>\n",
       "    </tr>\n",
       "  </thead>\n",
       "  <tbody>\n",
       "    <tr>\n",
       "      <th>0</th>\n",
       "      <td>AGKASBHYZPGTEPO6LWZPVJWB2BVA</td>\n",
       "      <td>B006GBITXC</td>\n",
       "      <td>3.0</td>\n",
       "      <td>1452647382000</td>\n",
       "    </tr>\n",
       "    <tr>\n",
       "      <th>1</th>\n",
       "      <td>AGKASBHYZPGTEPO6LWZPVJWB2BVA</td>\n",
       "      <td>B00TLEMSVK</td>\n",
       "      <td>4.0</td>\n",
       "      <td>1454675785000</td>\n",
       "    </tr>\n",
       "    <tr>\n",
       "      <th>2</th>\n",
       "      <td>AGKASBHYZPGTEPO6LWZPVJWB2BVA</td>\n",
       "      <td>B00SO7HF6I</td>\n",
       "      <td>3.0</td>\n",
       "      <td>1454676014000</td>\n",
       "    </tr>\n",
       "    <tr>\n",
       "      <th>3</th>\n",
       "      <td>AGKASBHYZPGTEPO6LWZPVJWB2BVA</td>\n",
       "      <td>B00MZG6OO8</td>\n",
       "      <td>3.0</td>\n",
       "      <td>1471541996000</td>\n",
       "    </tr>\n",
       "    <tr>\n",
       "      <th>4</th>\n",
       "      <td>AGKASBHYZPGTEPO6LWZPVJWB2BVA</td>\n",
       "      <td>B007JWWUDW</td>\n",
       "      <td>5.0</td>\n",
       "      <td>1471542588000</td>\n",
       "    </tr>\n",
       "    <tr>\n",
       "      <th>...</th>\n",
       "      <td>...</td>\n",
       "      <td>...</td>\n",
       "      <td>...</td>\n",
       "      <td>...</td>\n",
       "    </tr>\n",
       "    <tr>\n",
       "      <th>3114942</th>\n",
       "      <td>AHMDS2PYZIJWE6SBXGDTBSJ4SRLA</td>\n",
       "      <td>B00BY2ER66</td>\n",
       "      <td>1.0</td>\n",
       "      <td>1379154911000</td>\n",
       "    </tr>\n",
       "    <tr>\n",
       "      <th>3114943</th>\n",
       "      <td>AHMDS2PYZIJWE6SBXGDTBSJ4SRLA</td>\n",
       "      <td>B00CVDMCH8</td>\n",
       "      <td>3.0</td>\n",
       "      <td>1379155054000</td>\n",
       "    </tr>\n",
       "    <tr>\n",
       "      <th>3114944</th>\n",
       "      <td>AHMDS2PYZIJWE6SBXGDTBSJ4SRLA</td>\n",
       "      <td>B00BY2ER6G</td>\n",
       "      <td>5.0</td>\n",
       "      <td>1379155144000</td>\n",
       "    </tr>\n",
       "    <tr>\n",
       "      <th>3114945</th>\n",
       "      <td>AHMDS2PYZIJWE6SBXGDTBSJ4SRLA</td>\n",
       "      <td>B00I8Z6GAM</td>\n",
       "      <td>5.0</td>\n",
       "      <td>1420664276000</td>\n",
       "    </tr>\n",
       "    <tr>\n",
       "      <th>3114946</th>\n",
       "      <td>AHMDS2PYZIJWE6SBXGDTBSJ4SRLA</td>\n",
       "      <td>B008VGOJS4</td>\n",
       "      <td>5.0</td>\n",
       "      <td>1420664388000</td>\n",
       "    </tr>\n",
       "  </tbody>\n",
       "</table>\n",
       "<p>3114947 rows × 4 columns</p>\n",
       "</div>"
      ],
      "text/plain": [
       "                              user_id parent_asin rating      timestamp\n",
       "0        AGKASBHYZPGTEPO6LWZPVJWB2BVA  B006GBITXC    3.0  1452647382000\n",
       "1        AGKASBHYZPGTEPO6LWZPVJWB2BVA  B00TLEMSVK    4.0  1454675785000\n",
       "2        AGKASBHYZPGTEPO6LWZPVJWB2BVA  B00SO7HF6I    3.0  1454676014000\n",
       "3        AGKASBHYZPGTEPO6LWZPVJWB2BVA  B00MZG6OO8    3.0  1471541996000\n",
       "4        AGKASBHYZPGTEPO6LWZPVJWB2BVA  B007JWWUDW    5.0  1471542588000\n",
       "...                               ...         ...    ...            ...\n",
       "3114942  AHMDS2PYZIJWE6SBXGDTBSJ4SRLA  B00BY2ER66    1.0  1379154911000\n",
       "3114943  AHMDS2PYZIJWE6SBXGDTBSJ4SRLA  B00CVDMCH8    3.0  1379155054000\n",
       "3114944  AHMDS2PYZIJWE6SBXGDTBSJ4SRLA  B00BY2ER6G    5.0  1379155144000\n",
       "3114945  AHMDS2PYZIJWE6SBXGDTBSJ4SRLA  B00I8Z6GAM    5.0  1420664276000\n",
       "3114946  AHMDS2PYZIJWE6SBXGDTBSJ4SRLA  B008VGOJS4    5.0  1420664388000\n",
       "\n",
       "[3114947 rows x 4 columns]"
      ]
     },
     "execution_count": 5,
     "metadata": {},
     "output_type": "execute_result"
    }
   ],
   "source": [
    "dataset = load_dataset(\n",
    "    args.hf_dataset_path, name=\"5core_timestamp_Toys_and_Games\", trust_remote_code=True\n",
    ")\n",
    "train_raw_df = dataset[\"train\"].to_pandas()\n",
    "train_raw_df"
   ]
  },
  {
   "cell_type": "code",
   "execution_count": 6,
   "metadata": {},
   "outputs": [
    {
     "data": {
      "text/html": [
       "<div>\n",
       "<style scoped>\n",
       "    .dataframe tbody tr th:only-of-type {\n",
       "        vertical-align: middle;\n",
       "    }\n",
       "\n",
       "    .dataframe tbody tr th {\n",
       "        vertical-align: top;\n",
       "    }\n",
       "\n",
       "    .dataframe thead th {\n",
       "        text-align: right;\n",
       "    }\n",
       "</style>\n",
       "<table border=\"1\" class=\"dataframe\">\n",
       "  <thead>\n",
       "    <tr style=\"text-align: right;\">\n",
       "      <th></th>\n",
       "      <th>main_category</th>\n",
       "      <th>title</th>\n",
       "      <th>average_rating</th>\n",
       "      <th>rating_number</th>\n",
       "      <th>features</th>\n",
       "      <th>description</th>\n",
       "      <th>price</th>\n",
       "      <th>images</th>\n",
       "      <th>videos</th>\n",
       "      <th>store</th>\n",
       "      <th>categories</th>\n",
       "      <th>details</th>\n",
       "      <th>parent_asin</th>\n",
       "      <th>bought_together</th>\n",
       "      <th>subtitle</th>\n",
       "      <th>author</th>\n",
       "    </tr>\n",
       "  </thead>\n",
       "  <tbody>\n",
       "    <tr>\n",
       "      <th>0</th>\n",
       "      <td>Toys &amp; Games</td>\n",
       "      <td>KUNGOON Happy Anniversary Balloon Banner,Weddi...</td>\n",
       "      <td>4.5</td>\n",
       "      <td>241</td>\n",
       "      <td>[]</td>\n",
       "      <td>[]</td>\n",
       "      <td>None</td>\n",
       "      <td>{'hi_res': ['https://m.media-amazon.com/images...</td>\n",
       "      <td>{'title': ['Pretty Cool!', 'Product assembly a...</td>\n",
       "      <td>Kunggo</td>\n",
       "      <td>[]</td>\n",
       "      <td>{\"Package Dimensions\": \"10.12 x 8.03 x 0.51 in...</td>\n",
       "      <td>B08GPM7CQN</td>\n",
       "      <td>None</td>\n",
       "      <td>None</td>\n",
       "      <td>None</td>\n",
       "    </tr>\n",
       "    <tr>\n",
       "      <th>1</th>\n",
       "      <td>Toys &amp; Games</td>\n",
       "      <td>Gothic Mothman Plushie Doll with Bright Red Ey...</td>\n",
       "      <td>1.3</td>\n",
       "      <td>2</td>\n",
       "      <td>[🦋 Mothman’s bright red eyes could stare you d...</td>\n",
       "      <td>[🦋 Description: Mothman’s bright red eyes coul...</td>\n",
       "      <td>18.99</td>\n",
       "      <td>{'hi_res': ['https://m.media-amazon.com/images...</td>\n",
       "      <td>{'title': [], 'url': [], 'user_id': []}</td>\n",
       "      <td>Felicy</td>\n",
       "      <td>[Toys &amp; Games, Stuffed Animals &amp; Plush Toys, P...</td>\n",
       "      <td>{\"Item Weight\": \"2.47 ounces\", \"Manufacturer r...</td>\n",
       "      <td>B09X9XW42H</td>\n",
       "      <td>None</td>\n",
       "      <td>None</td>\n",
       "      <td>None</td>\n",
       "    </tr>\n",
       "    <tr>\n",
       "      <th>2</th>\n",
       "      <td>Toys &amp; Games</td>\n",
       "      <td>Melody Jane Dollhouse Builders DIY 1:24 Scale ...</td>\n",
       "      <td>4.2</td>\n",
       "      <td>67</td>\n",
       "      <td>[1:24 Scale - Plastic - Approximate cut out si...</td>\n",
       "      <td>[]</td>\n",
       "      <td>None</td>\n",
       "      <td>{'hi_res': [None, 'https://m.media-amazon.com/...</td>\n",
       "      <td>{'title': ['Cutemini wooden window double door...</td>\n",
       "      <td>Melody Jane Dolls Houses</td>\n",
       "      <td>[Toys &amp; Games, Dolls &amp; Accessories, Dollhouse ...</td>\n",
       "      <td>{\"Item Weight\": \"0.48 ounces\", \"Manufacturer r...</td>\n",
       "      <td>B01I9QET6M</td>\n",
       "      <td>None</td>\n",
       "      <td>None</td>\n",
       "      <td>None</td>\n",
       "    </tr>\n",
       "    <tr>\n",
       "      <th>3</th>\n",
       "      <td>Toys &amp; Games</td>\n",
       "      <td>Traxxas Stampede 4X4: 1/10 Scale 4wd Monster T...</td>\n",
       "      <td>4.5</td>\n",
       "      <td>48</td>\n",
       "      <td>[Waterproof electronics for all-weather drivin...</td>\n",
       "      <td>[Stampede 4X4 is built Traxxas Tough to withst...</td>\n",
       "      <td>None</td>\n",
       "      <td>{'hi_res': ['https://m.media-amazon.com/images...</td>\n",
       "      <td>{'title': ['Traxxas Slash 2WD Short Course Rac...</td>\n",
       "      <td>Traxxas</td>\n",
       "      <td>[Toys &amp; Games, Remote &amp; App Controlled Vehicle...</td>\n",
       "      <td>{\"Product Dimensions\": \"15.63 x 13.39 x 8.94 i...</td>\n",
       "      <td>B019XEEX1A</td>\n",
       "      <td>None</td>\n",
       "      <td>None</td>\n",
       "      <td>None</td>\n",
       "    </tr>\n",
       "    <tr>\n",
       "      <th>4</th>\n",
       "      <td>Toys &amp; Games</td>\n",
       "      <td>Hot Wheels Monster Truck 1:24 Scale 2022 Bone ...</td>\n",
       "      <td>4.8</td>\n",
       "      <td>17699</td>\n",
       "      <td>[Designed in 1:24 scale with durable die-cast ...</td>\n",
       "      <td>[The Hot Wheels Monster Trucks 1:24 scale die-...</td>\n",
       "      <td>27.98</td>\n",
       "      <td>{'hi_res': ['https://m.media-amazon.com/images...</td>\n",
       "      <td>{'title': ['Hot Wheels 1:24 Scale Monster Truc...</td>\n",
       "      <td>Hot Wheels</td>\n",
       "      <td>[Toys &amp; Games, Preschool, Pre-Kindergarten Toys]</td>\n",
       "      <td>{\"Product Dimensions\": \"5 x 6.27 x 5.5 inches\"...</td>\n",
       "      <td>B09G7K3JWQ</td>\n",
       "      <td>None</td>\n",
       "      <td>None</td>\n",
       "      <td>None</td>\n",
       "    </tr>\n",
       "    <tr>\n",
       "      <th>...</th>\n",
       "      <td>...</td>\n",
       "      <td>...</td>\n",
       "      <td>...</td>\n",
       "      <td>...</td>\n",
       "      <td>...</td>\n",
       "      <td>...</td>\n",
       "      <td>...</td>\n",
       "      <td>...</td>\n",
       "      <td>...</td>\n",
       "      <td>...</td>\n",
       "      <td>...</td>\n",
       "      <td>...</td>\n",
       "      <td>...</td>\n",
       "      <td>...</td>\n",
       "      <td>...</td>\n",
       "      <td>...</td>\n",
       "    </tr>\n",
       "    <tr>\n",
       "      <th>890869</th>\n",
       "      <td>Toys &amp; Games</td>\n",
       "      <td>Dollhouse Miniature 1:12 Scale Fire Place Acce...</td>\n",
       "      <td>4.6</td>\n",
       "      <td>2</td>\n",
       "      <td>[]</td>\n",
       "      <td>[Unless stated otherwise this item is 1:12 sca...</td>\n",
       "      <td>16.09</td>\n",
       "      <td>{'hi_res': ['https://m.media-amazon.com/images...</td>\n",
       "      <td>{'title': [], 'url': [], 'user_id': []}</td>\n",
       "      <td>Melody Jane Dolls Houses</td>\n",
       "      <td>[Toys &amp; Games, Dolls &amp; Accessories, Dollhouse ...</td>\n",
       "      <td>{\"Product Dimensions\": \"2.99 x 2.52 x 0.08 inc...</td>\n",
       "      <td>B00BGO1PDU</td>\n",
       "      <td>None</td>\n",
       "      <td>None</td>\n",
       "      <td>None</td>\n",
       "    </tr>\n",
       "    <tr>\n",
       "      <th>890870</th>\n",
       "      <td>Sports &amp; Outdoors</td>\n",
       "      <td>Hacko Games Pride Deck Poker Cards</td>\n",
       "      <td>4.6</td>\n",
       "      <td>5</td>\n",
       "      <td>[Custom deck of playing cards]</td>\n",
       "      <td>[Pride is a fantastically color card system. A...</td>\n",
       "      <td>None</td>\n",
       "      <td>{'hi_res': ['https://m.media-amazon.com/images...</td>\n",
       "      <td>{'title': [], 'url': [], 'user_id': []}</td>\n",
       "      <td>Hacko Games</td>\n",
       "      <td>[Toys &amp; Games, Games &amp; Accessories, Card Games...</td>\n",
       "      <td>{\"Item Package Dimensions L x W x H\": \"3.54 x ...</td>\n",
       "      <td>B07T16B3W1</td>\n",
       "      <td>None</td>\n",
       "      <td>None</td>\n",
       "      <td>None</td>\n",
       "    </tr>\n",
       "    <tr>\n",
       "      <th>890871</th>\n",
       "      <td>Toys &amp; Games</td>\n",
       "      <td>Mini Squee-Z-Bubs &amp; Bubbles (Sold Individually...</td>\n",
       "      <td>3.7</td>\n",
       "      <td>7</td>\n",
       "      <td>[Toysmith 774546 Mini Squee-z Bubbles, Educati...</td>\n",
       "      <td>[Toysmith 774546 Mini Squee-z Bubbles. Toysmit...</td>\n",
       "      <td>None</td>\n",
       "      <td>{'hi_res': ['https://m.media-amazon.com/images...</td>\n",
       "      <td>{'title': [], 'url': [], 'user_id': []}</td>\n",
       "      <td>Toysmith</td>\n",
       "      <td>[Toys &amp; Games, Sports &amp; Outdoor Play, Bubbles,...</td>\n",
       "      <td>{\"Product Dimensions\": \"2 x 4.2 x 1.1 inches\",...</td>\n",
       "      <td>B002IOZ92K</td>\n",
       "      <td>None</td>\n",
       "      <td>None</td>\n",
       "      <td>None</td>\n",
       "    </tr>\n",
       "    <tr>\n",
       "      <th>890872</th>\n",
       "      <td>Toys &amp; Games</td>\n",
       "      <td>Sentosphère Aquarellum Junior Butterflies &amp; Fl...</td>\n",
       "      <td>4.6</td>\n",
       "      <td>141</td>\n",
       "      <td>[Complete kit., Paint without going over the l...</td>\n",
       "      <td>[Fantastic. A few drops of paint and any child...</td>\n",
       "      <td>None</td>\n",
       "      <td>{'hi_res': ['https://m.media-amazon.com/images...</td>\n",
       "      <td>{'title': [], 'url': [], 'user_id': []}</td>\n",
       "      <td>Sentosphère</td>\n",
       "      <td>[Toys &amp; Games, Arts &amp; Crafts, Craft Kits, Pain...</td>\n",
       "      <td>{\"Product Dimensions\": \"10.43 x 7.68 x 1.18 in...</td>\n",
       "      <td>B06XJVLKDD</td>\n",
       "      <td>None</td>\n",
       "      <td>None</td>\n",
       "      <td>None</td>\n",
       "    </tr>\n",
       "    <tr>\n",
       "      <th>890873</th>\n",
       "      <td>Amazon Home</td>\n",
       "      <td>HenTuha T.Y.G.F Demon Slayer Anime Figure Stat...</td>\n",
       "      <td>4.1</td>\n",
       "      <td>13</td>\n",
       "      <td>[]</td>\n",
       "      <td>[]</td>\n",
       "      <td>None</td>\n",
       "      <td>{'hi_res': [None, 'https://m.media-amazon.com/...</td>\n",
       "      <td>{'title': [], 'url': [], 'user_id': []}</td>\n",
       "      <td>HenTuha</td>\n",
       "      <td>[Toys &amp; Games, Toy Figures &amp; Playsets, Action ...</td>\n",
       "      <td>{}</td>\n",
       "      <td>B09F9RC26X</td>\n",
       "      <td>None</td>\n",
       "      <td>None</td>\n",
       "      <td>None</td>\n",
       "    </tr>\n",
       "  </tbody>\n",
       "</table>\n",
       "<p>890874 rows × 16 columns</p>\n",
       "</div>"
      ],
      "text/plain": [
       "            main_category                                              title  \\\n",
       "0            Toys & Games  KUNGOON Happy Anniversary Balloon Banner,Weddi...   \n",
       "1            Toys & Games  Gothic Mothman Plushie Doll with Bright Red Ey...   \n",
       "2            Toys & Games  Melody Jane Dollhouse Builders DIY 1:24 Scale ...   \n",
       "3            Toys & Games  Traxxas Stampede 4X4: 1/10 Scale 4wd Monster T...   \n",
       "4            Toys & Games  Hot Wheels Monster Truck 1:24 Scale 2022 Bone ...   \n",
       "...                   ...                                                ...   \n",
       "890869       Toys & Games  Dollhouse Miniature 1:12 Scale Fire Place Acce...   \n",
       "890870  Sports & Outdoors                 Hacko Games Pride Deck Poker Cards   \n",
       "890871       Toys & Games  Mini Squee-Z-Bubs & Bubbles (Sold Individually...   \n",
       "890872       Toys & Games  Sentosphère Aquarellum Junior Butterflies & Fl...   \n",
       "890873        Amazon Home  HenTuha T.Y.G.F Demon Slayer Anime Figure Stat...   \n",
       "\n",
       "        average_rating  rating_number  \\\n",
       "0                  4.5            241   \n",
       "1                  1.3              2   \n",
       "2                  4.2             67   \n",
       "3                  4.5             48   \n",
       "4                  4.8          17699   \n",
       "...                ...            ...   \n",
       "890869             4.6              2   \n",
       "890870             4.6              5   \n",
       "890871             3.7              7   \n",
       "890872             4.6            141   \n",
       "890873             4.1             13   \n",
       "\n",
       "                                                 features  \\\n",
       "0                                                      []   \n",
       "1       [🦋 Mothman’s bright red eyes could stare you d...   \n",
       "2       [1:24 Scale - Plastic - Approximate cut out si...   \n",
       "3       [Waterproof electronics for all-weather drivin...   \n",
       "4       [Designed in 1:24 scale with durable die-cast ...   \n",
       "...                                                   ...   \n",
       "890869                                                 []   \n",
       "890870                     [Custom deck of playing cards]   \n",
       "890871  [Toysmith 774546 Mini Squee-z Bubbles, Educati...   \n",
       "890872  [Complete kit., Paint without going over the l...   \n",
       "890873                                                 []   \n",
       "\n",
       "                                              description  price  \\\n",
       "0                                                      []   None   \n",
       "1       [🦋 Description: Mothman’s bright red eyes coul...  18.99   \n",
       "2                                                      []   None   \n",
       "3       [Stampede 4X4 is built Traxxas Tough to withst...   None   \n",
       "4       [The Hot Wheels Monster Trucks 1:24 scale die-...  27.98   \n",
       "...                                                   ...    ...   \n",
       "890869  [Unless stated otherwise this item is 1:12 sca...  16.09   \n",
       "890870  [Pride is a fantastically color card system. A...   None   \n",
       "890871  [Toysmith 774546 Mini Squee-z Bubbles. Toysmit...   None   \n",
       "890872  [Fantastic. A few drops of paint and any child...   None   \n",
       "890873                                                 []   None   \n",
       "\n",
       "                                                   images  \\\n",
       "0       {'hi_res': ['https://m.media-amazon.com/images...   \n",
       "1       {'hi_res': ['https://m.media-amazon.com/images...   \n",
       "2       {'hi_res': [None, 'https://m.media-amazon.com/...   \n",
       "3       {'hi_res': ['https://m.media-amazon.com/images...   \n",
       "4       {'hi_res': ['https://m.media-amazon.com/images...   \n",
       "...                                                   ...   \n",
       "890869  {'hi_res': ['https://m.media-amazon.com/images...   \n",
       "890870  {'hi_res': ['https://m.media-amazon.com/images...   \n",
       "890871  {'hi_res': ['https://m.media-amazon.com/images...   \n",
       "890872  {'hi_res': ['https://m.media-amazon.com/images...   \n",
       "890873  {'hi_res': [None, 'https://m.media-amazon.com/...   \n",
       "\n",
       "                                                   videos  \\\n",
       "0       {'title': ['Pretty Cool!', 'Product assembly a...   \n",
       "1                 {'title': [], 'url': [], 'user_id': []}   \n",
       "2       {'title': ['Cutemini wooden window double door...   \n",
       "3       {'title': ['Traxxas Slash 2WD Short Course Rac...   \n",
       "4       {'title': ['Hot Wheels 1:24 Scale Monster Truc...   \n",
       "...                                                   ...   \n",
       "890869            {'title': [], 'url': [], 'user_id': []}   \n",
       "890870            {'title': [], 'url': [], 'user_id': []}   \n",
       "890871            {'title': [], 'url': [], 'user_id': []}   \n",
       "890872            {'title': [], 'url': [], 'user_id': []}   \n",
       "890873            {'title': [], 'url': [], 'user_id': []}   \n",
       "\n",
       "                           store  \\\n",
       "0                         Kunggo   \n",
       "1                         Felicy   \n",
       "2       Melody Jane Dolls Houses   \n",
       "3                        Traxxas   \n",
       "4                     Hot Wheels   \n",
       "...                          ...   \n",
       "890869  Melody Jane Dolls Houses   \n",
       "890870               Hacko Games   \n",
       "890871                  Toysmith   \n",
       "890872               Sentosphère   \n",
       "890873                   HenTuha   \n",
       "\n",
       "                                               categories  \\\n",
       "0                                                      []   \n",
       "1       [Toys & Games, Stuffed Animals & Plush Toys, P...   \n",
       "2       [Toys & Games, Dolls & Accessories, Dollhouse ...   \n",
       "3       [Toys & Games, Remote & App Controlled Vehicle...   \n",
       "4        [Toys & Games, Preschool, Pre-Kindergarten Toys]   \n",
       "...                                                   ...   \n",
       "890869  [Toys & Games, Dolls & Accessories, Dollhouse ...   \n",
       "890870  [Toys & Games, Games & Accessories, Card Games...   \n",
       "890871  [Toys & Games, Sports & Outdoor Play, Bubbles,...   \n",
       "890872  [Toys & Games, Arts & Crafts, Craft Kits, Pain...   \n",
       "890873  [Toys & Games, Toy Figures & Playsets, Action ...   \n",
       "\n",
       "                                                  details parent_asin  \\\n",
       "0       {\"Package Dimensions\": \"10.12 x 8.03 x 0.51 in...  B08GPM7CQN   \n",
       "1       {\"Item Weight\": \"2.47 ounces\", \"Manufacturer r...  B09X9XW42H   \n",
       "2       {\"Item Weight\": \"0.48 ounces\", \"Manufacturer r...  B01I9QET6M   \n",
       "3       {\"Product Dimensions\": \"15.63 x 13.39 x 8.94 i...  B019XEEX1A   \n",
       "4       {\"Product Dimensions\": \"5 x 6.27 x 5.5 inches\"...  B09G7K3JWQ   \n",
       "...                                                   ...         ...   \n",
       "890869  {\"Product Dimensions\": \"2.99 x 2.52 x 0.08 inc...  B00BGO1PDU   \n",
       "890870  {\"Item Package Dimensions L x W x H\": \"3.54 x ...  B07T16B3W1   \n",
       "890871  {\"Product Dimensions\": \"2 x 4.2 x 1.1 inches\",...  B002IOZ92K   \n",
       "890872  {\"Product Dimensions\": \"10.43 x 7.68 x 1.18 in...  B06XJVLKDD   \n",
       "890873                                                 {}  B09F9RC26X   \n",
       "\n",
       "       bought_together subtitle author  \n",
       "0                 None     None   None  \n",
       "1                 None     None   None  \n",
       "2                 None     None   None  \n",
       "3                 None     None   None  \n",
       "4                 None     None   None  \n",
       "...                ...      ...    ...  \n",
       "890869            None     None   None  \n",
       "890870            None     None   None  \n",
       "890871            None     None   None  \n",
       "890872            None     None   None  \n",
       "890873            None     None   None  \n",
       "\n",
       "[890874 rows x 16 columns]"
      ]
     },
     "execution_count": 6,
     "metadata": {},
     "output_type": "execute_result"
    }
   ],
   "source": [
    "metadata_raw_df = metadata.to_pandas()\n",
    "metadata_raw_df"
   ]
  },
  {
   "cell_type": "code",
   "execution_count": 7,
   "metadata": {},
   "outputs": [
    {
     "data": {
      "text/html": [
       "<div>\n",
       "<style scoped>\n",
       "    .dataframe tbody tr th:only-of-type {\n",
       "        vertical-align: middle;\n",
       "    }\n",
       "\n",
       "    .dataframe tbody tr th {\n",
       "        vertical-align: top;\n",
       "    }\n",
       "\n",
       "    .dataframe thead th {\n",
       "        text-align: right;\n",
       "    }\n",
       "</style>\n",
       "<table border=\"1\" class=\"dataframe\">\n",
       "  <thead>\n",
       "    <tr style=\"text-align: right;\">\n",
       "      <th></th>\n",
       "      <th>user_id</th>\n",
       "      <th>parent_asin</th>\n",
       "      <th>rating</th>\n",
       "      <th>timestamp</th>\n",
       "    </tr>\n",
       "  </thead>\n",
       "  <tbody>\n",
       "    <tr>\n",
       "      <th>0</th>\n",
       "      <td>AGKASBHYZPGTEPO6LWZPVJWB2BVA</td>\n",
       "      <td>B006GBITXC</td>\n",
       "      <td>3.0</td>\n",
       "      <td>2016-01-13 01:09:42</td>\n",
       "    </tr>\n",
       "    <tr>\n",
       "      <th>1</th>\n",
       "      <td>AGKASBHYZPGTEPO6LWZPVJWB2BVA</td>\n",
       "      <td>B00TLEMSVK</td>\n",
       "      <td>4.0</td>\n",
       "      <td>2016-02-05 12:36:25</td>\n",
       "    </tr>\n",
       "    <tr>\n",
       "      <th>2</th>\n",
       "      <td>AGKASBHYZPGTEPO6LWZPVJWB2BVA</td>\n",
       "      <td>B00SO7HF6I</td>\n",
       "      <td>3.0</td>\n",
       "      <td>2016-02-05 12:40:14</td>\n",
       "    </tr>\n",
       "    <tr>\n",
       "      <th>3</th>\n",
       "      <td>AGKASBHYZPGTEPO6LWZPVJWB2BVA</td>\n",
       "      <td>B00MZG6OO8</td>\n",
       "      <td>3.0</td>\n",
       "      <td>2016-08-18 17:39:56</td>\n",
       "    </tr>\n",
       "    <tr>\n",
       "      <th>4</th>\n",
       "      <td>AGKASBHYZPGTEPO6LWZPVJWB2BVA</td>\n",
       "      <td>B007JWWUDW</td>\n",
       "      <td>5.0</td>\n",
       "      <td>2016-08-18 17:49:48</td>\n",
       "    </tr>\n",
       "    <tr>\n",
       "      <th>...</th>\n",
       "      <td>...</td>\n",
       "      <td>...</td>\n",
       "      <td>...</td>\n",
       "      <td>...</td>\n",
       "    </tr>\n",
       "    <tr>\n",
       "      <th>3114942</th>\n",
       "      <td>AHMDS2PYZIJWE6SBXGDTBSJ4SRLA</td>\n",
       "      <td>B00BY2ER66</td>\n",
       "      <td>1.0</td>\n",
       "      <td>2013-09-14 10:35:11</td>\n",
       "    </tr>\n",
       "    <tr>\n",
       "      <th>3114943</th>\n",
       "      <td>AHMDS2PYZIJWE6SBXGDTBSJ4SRLA</td>\n",
       "      <td>B00CVDMCH8</td>\n",
       "      <td>3.0</td>\n",
       "      <td>2013-09-14 10:37:34</td>\n",
       "    </tr>\n",
       "    <tr>\n",
       "      <th>3114944</th>\n",
       "      <td>AHMDS2PYZIJWE6SBXGDTBSJ4SRLA</td>\n",
       "      <td>B00BY2ER6G</td>\n",
       "      <td>5.0</td>\n",
       "      <td>2013-09-14 10:39:04</td>\n",
       "    </tr>\n",
       "    <tr>\n",
       "      <th>3114945</th>\n",
       "      <td>AHMDS2PYZIJWE6SBXGDTBSJ4SRLA</td>\n",
       "      <td>B00I8Z6GAM</td>\n",
       "      <td>5.0</td>\n",
       "      <td>2015-01-07 20:57:56</td>\n",
       "    </tr>\n",
       "    <tr>\n",
       "      <th>3114946</th>\n",
       "      <td>AHMDS2PYZIJWE6SBXGDTBSJ4SRLA</td>\n",
       "      <td>B008VGOJS4</td>\n",
       "      <td>5.0</td>\n",
       "      <td>2015-01-07 20:59:48</td>\n",
       "    </tr>\n",
       "  </tbody>\n",
       "</table>\n",
       "<p>3114947 rows × 4 columns</p>\n",
       "</div>"
      ],
      "text/plain": [
       "                              user_id parent_asin  rating           timestamp\n",
       "0        AGKASBHYZPGTEPO6LWZPVJWB2BVA  B006GBITXC     3.0 2016-01-13 01:09:42\n",
       "1        AGKASBHYZPGTEPO6LWZPVJWB2BVA  B00TLEMSVK     4.0 2016-02-05 12:36:25\n",
       "2        AGKASBHYZPGTEPO6LWZPVJWB2BVA  B00SO7HF6I     3.0 2016-02-05 12:40:14\n",
       "3        AGKASBHYZPGTEPO6LWZPVJWB2BVA  B00MZG6OO8     3.0 2016-08-18 17:39:56\n",
       "4        AGKASBHYZPGTEPO6LWZPVJWB2BVA  B007JWWUDW     5.0 2016-08-18 17:49:48\n",
       "...                               ...         ...     ...                 ...\n",
       "3114942  AHMDS2PYZIJWE6SBXGDTBSJ4SRLA  B00BY2ER66     1.0 2013-09-14 10:35:11\n",
       "3114943  AHMDS2PYZIJWE6SBXGDTBSJ4SRLA  B00CVDMCH8     3.0 2013-09-14 10:37:34\n",
       "3114944  AHMDS2PYZIJWE6SBXGDTBSJ4SRLA  B00BY2ER6G     5.0 2013-09-14 10:39:04\n",
       "3114945  AHMDS2PYZIJWE6SBXGDTBSJ4SRLA  B00I8Z6GAM     5.0 2015-01-07 20:57:56\n",
       "3114946  AHMDS2PYZIJWE6SBXGDTBSJ4SRLA  B008VGOJS4     5.0 2015-01-07 20:59:48\n",
       "\n",
       "[3114947 rows x 4 columns]"
      ]
     },
     "execution_count": 7,
     "metadata": {},
     "output_type": "execute_result"
    }
   ],
   "source": [
    "# convert timestamp\n",
    "train_df = train_raw_df.pipe(parse_dt).pipe(handle_dtypes)\n",
    "train_df"
   ]
  },
  {
   "cell_type": "markdown",
   "metadata": {},
   "source": [
    "## Distribution per time "
   ]
  },
  {
   "cell_type": "code",
   "execution_count": 13,
   "metadata": {},
   "outputs": [
    {
     "data": {
      "application/vnd.plotly.v1+json": {
       "config": {
        "plotlyServerURL": "https://plot.ly"
       },
       "data": [
        {
         "alignmentgroup": "True",
         "hovertemplate": "Day of the Week=%{x}<br>Number of Interactions=%{y}<br>text=%{text}<extra></extra>",
         "legendgroup": "",
         "marker": {
          "color": "#636efa",
          "pattern": {
           "shape": ""
          }
         },
         "name": "",
         "offsetgroup": "",
         "orientation": "v",
         "showlegend": false,
         "text": [
          "1,620",
          "1,537",
          "1,516",
          "1,415",
          "1,385",
          "1,252",
          "1,275"
         ],
         "textposition": "auto",
         "type": "bar",
         "x": [
          "Monday",
          "Tuesday",
          "Wednesday",
          "Thursday",
          "Friday",
          "Saturday",
          "Sunday"
         ],
         "xaxis": "x",
         "y": [
          1620,
          1537,
          1516,
          1415,
          1385,
          1252,
          1275
         ],
         "yaxis": "y"
        }
       ],
       "layout": {
        "barmode": "relative",
        "height": 500,
        "legend": {
         "tracegroupgap": 0
        },
        "template": {
         "data": {
          "bar": [
           {
            "error_x": {
             "color": "#2a3f5f"
            },
            "error_y": {
             "color": "#2a3f5f"
            },
            "marker": {
             "line": {
              "color": "#E5ECF6",
              "width": 0.5
             },
             "pattern": {
              "fillmode": "overlay",
              "size": 10,
              "solidity": 0.2
             }
            },
            "type": "bar"
           }
          ],
          "barpolar": [
           {
            "marker": {
             "line": {
              "color": "#E5ECF6",
              "width": 0.5
             },
             "pattern": {
              "fillmode": "overlay",
              "size": 10,
              "solidity": 0.2
             }
            },
            "type": "barpolar"
           }
          ],
          "carpet": [
           {
            "aaxis": {
             "endlinecolor": "#2a3f5f",
             "gridcolor": "white",
             "linecolor": "white",
             "minorgridcolor": "white",
             "startlinecolor": "#2a3f5f"
            },
            "baxis": {
             "endlinecolor": "#2a3f5f",
             "gridcolor": "white",
             "linecolor": "white",
             "minorgridcolor": "white",
             "startlinecolor": "#2a3f5f"
            },
            "type": "carpet"
           }
          ],
          "choropleth": [
           {
            "colorbar": {
             "outlinewidth": 0,
             "ticks": ""
            },
            "type": "choropleth"
           }
          ],
          "contour": [
           {
            "colorbar": {
             "outlinewidth": 0,
             "ticks": ""
            },
            "colorscale": [
             [
              0,
              "#0d0887"
             ],
             [
              0.1111111111111111,
              "#46039f"
             ],
             [
              0.2222222222222222,
              "#7201a8"
             ],
             [
              0.3333333333333333,
              "#9c179e"
             ],
             [
              0.4444444444444444,
              "#bd3786"
             ],
             [
              0.5555555555555556,
              "#d8576b"
             ],
             [
              0.6666666666666666,
              "#ed7953"
             ],
             [
              0.7777777777777778,
              "#fb9f3a"
             ],
             [
              0.8888888888888888,
              "#fdca26"
             ],
             [
              1,
              "#f0f921"
             ]
            ],
            "type": "contour"
           }
          ],
          "contourcarpet": [
           {
            "colorbar": {
             "outlinewidth": 0,
             "ticks": ""
            },
            "type": "contourcarpet"
           }
          ],
          "heatmap": [
           {
            "colorbar": {
             "outlinewidth": 0,
             "ticks": ""
            },
            "colorscale": [
             [
              0,
              "#0d0887"
             ],
             [
              0.1111111111111111,
              "#46039f"
             ],
             [
              0.2222222222222222,
              "#7201a8"
             ],
             [
              0.3333333333333333,
              "#9c179e"
             ],
             [
              0.4444444444444444,
              "#bd3786"
             ],
             [
              0.5555555555555556,
              "#d8576b"
             ],
             [
              0.6666666666666666,
              "#ed7953"
             ],
             [
              0.7777777777777778,
              "#fb9f3a"
             ],
             [
              0.8888888888888888,
              "#fdca26"
             ],
             [
              1,
              "#f0f921"
             ]
            ],
            "type": "heatmap"
           }
          ],
          "heatmapgl": [
           {
            "colorbar": {
             "outlinewidth": 0,
             "ticks": ""
            },
            "colorscale": [
             [
              0,
              "#0d0887"
             ],
             [
              0.1111111111111111,
              "#46039f"
             ],
             [
              0.2222222222222222,
              "#7201a8"
             ],
             [
              0.3333333333333333,
              "#9c179e"
             ],
             [
              0.4444444444444444,
              "#bd3786"
             ],
             [
              0.5555555555555556,
              "#d8576b"
             ],
             [
              0.6666666666666666,
              "#ed7953"
             ],
             [
              0.7777777777777778,
              "#fb9f3a"
             ],
             [
              0.8888888888888888,
              "#fdca26"
             ],
             [
              1,
              "#f0f921"
             ]
            ],
            "type": "heatmapgl"
           }
          ],
          "histogram": [
           {
            "marker": {
             "pattern": {
              "fillmode": "overlay",
              "size": 10,
              "solidity": 0.2
             }
            },
            "type": "histogram"
           }
          ],
          "histogram2d": [
           {
            "colorbar": {
             "outlinewidth": 0,
             "ticks": ""
            },
            "colorscale": [
             [
              0,
              "#0d0887"
             ],
             [
              0.1111111111111111,
              "#46039f"
             ],
             [
              0.2222222222222222,
              "#7201a8"
             ],
             [
              0.3333333333333333,
              "#9c179e"
             ],
             [
              0.4444444444444444,
              "#bd3786"
             ],
             [
              0.5555555555555556,
              "#d8576b"
             ],
             [
              0.6666666666666666,
              "#ed7953"
             ],
             [
              0.7777777777777778,
              "#fb9f3a"
             ],
             [
              0.8888888888888888,
              "#fdca26"
             ],
             [
              1,
              "#f0f921"
             ]
            ],
            "type": "histogram2d"
           }
          ],
          "histogram2dcontour": [
           {
            "colorbar": {
             "outlinewidth": 0,
             "ticks": ""
            },
            "colorscale": [
             [
              0,
              "#0d0887"
             ],
             [
              0.1111111111111111,
              "#46039f"
             ],
             [
              0.2222222222222222,
              "#7201a8"
             ],
             [
              0.3333333333333333,
              "#9c179e"
             ],
             [
              0.4444444444444444,
              "#bd3786"
             ],
             [
              0.5555555555555556,
              "#d8576b"
             ],
             [
              0.6666666666666666,
              "#ed7953"
             ],
             [
              0.7777777777777778,
              "#fb9f3a"
             ],
             [
              0.8888888888888888,
              "#fdca26"
             ],
             [
              1,
              "#f0f921"
             ]
            ],
            "type": "histogram2dcontour"
           }
          ],
          "mesh3d": [
           {
            "colorbar": {
             "outlinewidth": 0,
             "ticks": ""
            },
            "type": "mesh3d"
           }
          ],
          "parcoords": [
           {
            "line": {
             "colorbar": {
              "outlinewidth": 0,
              "ticks": ""
             }
            },
            "type": "parcoords"
           }
          ],
          "pie": [
           {
            "automargin": true,
            "type": "pie"
           }
          ],
          "scatter": [
           {
            "fillpattern": {
             "fillmode": "overlay",
             "size": 10,
             "solidity": 0.2
            },
            "type": "scatter"
           }
          ],
          "scatter3d": [
           {
            "line": {
             "colorbar": {
              "outlinewidth": 0,
              "ticks": ""
             }
            },
            "marker": {
             "colorbar": {
              "outlinewidth": 0,
              "ticks": ""
             }
            },
            "type": "scatter3d"
           }
          ],
          "scattercarpet": [
           {
            "marker": {
             "colorbar": {
              "outlinewidth": 0,
              "ticks": ""
             }
            },
            "type": "scattercarpet"
           }
          ],
          "scattergeo": [
           {
            "marker": {
             "colorbar": {
              "outlinewidth": 0,
              "ticks": ""
             }
            },
            "type": "scattergeo"
           }
          ],
          "scattergl": [
           {
            "marker": {
             "colorbar": {
              "outlinewidth": 0,
              "ticks": ""
             }
            },
            "type": "scattergl"
           }
          ],
          "scattermapbox": [
           {
            "marker": {
             "colorbar": {
              "outlinewidth": 0,
              "ticks": ""
             }
            },
            "type": "scattermapbox"
           }
          ],
          "scatterpolar": [
           {
            "marker": {
             "colorbar": {
              "outlinewidth": 0,
              "ticks": ""
             }
            },
            "type": "scatterpolar"
           }
          ],
          "scatterpolargl": [
           {
            "marker": {
             "colorbar": {
              "outlinewidth": 0,
              "ticks": ""
             }
            },
            "type": "scatterpolargl"
           }
          ],
          "scatterternary": [
           {
            "marker": {
             "colorbar": {
              "outlinewidth": 0,
              "ticks": ""
             }
            },
            "type": "scatterternary"
           }
          ],
          "surface": [
           {
            "colorbar": {
             "outlinewidth": 0,
             "ticks": ""
            },
            "colorscale": [
             [
              0,
              "#0d0887"
             ],
             [
              0.1111111111111111,
              "#46039f"
             ],
             [
              0.2222222222222222,
              "#7201a8"
             ],
             [
              0.3333333333333333,
              "#9c179e"
             ],
             [
              0.4444444444444444,
              "#bd3786"
             ],
             [
              0.5555555555555556,
              "#d8576b"
             ],
             [
              0.6666666666666666,
              "#ed7953"
             ],
             [
              0.7777777777777778,
              "#fb9f3a"
             ],
             [
              0.8888888888888888,
              "#fdca26"
             ],
             [
              1,
              "#f0f921"
             ]
            ],
            "type": "surface"
           }
          ],
          "table": [
           {
            "cells": {
             "fill": {
              "color": "#EBF0F8"
             },
             "line": {
              "color": "white"
             }
            },
            "header": {
             "fill": {
              "color": "#C8D4E3"
             },
             "line": {
              "color": "white"
             }
            },
            "type": "table"
           }
          ]
         },
         "layout": {
          "annotationdefaults": {
           "arrowcolor": "#2a3f5f",
           "arrowhead": 0,
           "arrowwidth": 1
          },
          "autotypenumbers": "strict",
          "coloraxis": {
           "colorbar": {
            "outlinewidth": 0,
            "ticks": ""
           }
          },
          "colorscale": {
           "diverging": [
            [
             0,
             "#8e0152"
            ],
            [
             0.1,
             "#c51b7d"
            ],
            [
             0.2,
             "#de77ae"
            ],
            [
             0.3,
             "#f1b6da"
            ],
            [
             0.4,
             "#fde0ef"
            ],
            [
             0.5,
             "#f7f7f7"
            ],
            [
             0.6,
             "#e6f5d0"
            ],
            [
             0.7,
             "#b8e186"
            ],
            [
             0.8,
             "#7fbc41"
            ],
            [
             0.9,
             "#4d9221"
            ],
            [
             1,
             "#276419"
            ]
           ],
           "sequential": [
            [
             0,
             "#0d0887"
            ],
            [
             0.1111111111111111,
             "#46039f"
            ],
            [
             0.2222222222222222,
             "#7201a8"
            ],
            [
             0.3333333333333333,
             "#9c179e"
            ],
            [
             0.4444444444444444,
             "#bd3786"
            ],
            [
             0.5555555555555556,
             "#d8576b"
            ],
            [
             0.6666666666666666,
             "#ed7953"
            ],
            [
             0.7777777777777778,
             "#fb9f3a"
            ],
            [
             0.8888888888888888,
             "#fdca26"
            ],
            [
             1,
             "#f0f921"
            ]
           ],
           "sequentialminus": [
            [
             0,
             "#0d0887"
            ],
            [
             0.1111111111111111,
             "#46039f"
            ],
            [
             0.2222222222222222,
             "#7201a8"
            ],
            [
             0.3333333333333333,
             "#9c179e"
            ],
            [
             0.4444444444444444,
             "#bd3786"
            ],
            [
             0.5555555555555556,
             "#d8576b"
            ],
            [
             0.6666666666666666,
             "#ed7953"
            ],
            [
             0.7777777777777778,
             "#fb9f3a"
            ],
            [
             0.8888888888888888,
             "#fdca26"
            ],
            [
             1,
             "#f0f921"
            ]
           ]
          },
          "colorway": [
           "#636efa",
           "#EF553B",
           "#00cc96",
           "#ab63fa",
           "#FFA15A",
           "#19d3f3",
           "#FF6692",
           "#B6E880",
           "#FF97FF",
           "#FECB52"
          ],
          "font": {
           "color": "#2a3f5f"
          },
          "geo": {
           "bgcolor": "white",
           "lakecolor": "white",
           "landcolor": "#E5ECF6",
           "showlakes": true,
           "showland": true,
           "subunitcolor": "white"
          },
          "hoverlabel": {
           "align": "left"
          },
          "hovermode": "closest",
          "mapbox": {
           "style": "light"
          },
          "paper_bgcolor": "white",
          "plot_bgcolor": "#E5ECF6",
          "polar": {
           "angularaxis": {
            "gridcolor": "white",
            "linecolor": "white",
            "ticks": ""
           },
           "bgcolor": "#E5ECF6",
           "radialaxis": {
            "gridcolor": "white",
            "linecolor": "white",
            "ticks": ""
           }
          },
          "scene": {
           "xaxis": {
            "backgroundcolor": "#E5ECF6",
            "gridcolor": "white",
            "gridwidth": 2,
            "linecolor": "white",
            "showbackground": true,
            "ticks": "",
            "zerolinecolor": "white"
           },
           "yaxis": {
            "backgroundcolor": "#E5ECF6",
            "gridcolor": "white",
            "gridwidth": 2,
            "linecolor": "white",
            "showbackground": true,
            "ticks": "",
            "zerolinecolor": "white"
           },
           "zaxis": {
            "backgroundcolor": "#E5ECF6",
            "gridcolor": "white",
            "gridwidth": 2,
            "linecolor": "white",
            "showbackground": true,
            "ticks": "",
            "zerolinecolor": "white"
           }
          },
          "shapedefaults": {
           "line": {
            "color": "#2a3f5f"
           }
          },
          "ternary": {
           "aaxis": {
            "gridcolor": "white",
            "linecolor": "white",
            "ticks": ""
           },
           "baxis": {
            "gridcolor": "white",
            "linecolor": "white",
            "ticks": ""
           },
           "bgcolor": "#E5ECF6",
           "caxis": {
            "gridcolor": "white",
            "linecolor": "white",
            "ticks": ""
           }
          },
          "title": {
           "x": 0.05
          },
          "xaxis": {
           "automargin": true,
           "gridcolor": "white",
           "linecolor": "white",
           "ticks": "",
           "title": {
            "standoff": 15
           },
           "zerolinecolor": "white",
           "zerolinewidth": 2
          },
          "yaxis": {
           "automargin": true,
           "gridcolor": "white",
           "linecolor": "white",
           "ticks": "",
           "title": {
            "standoff": 15
           },
           "zerolinecolor": "white",
           "zerolinewidth": 2
          }
         }
        },
        "title": {
         "text": "Interaction Count by Day of the Week (assuming US/Eastern timezone)"
        },
        "width": 700,
        "xaxis": {
         "anchor": "y",
         "domain": [
          0,
          1
         ],
         "tickmode": "linear",
         "title": {
          "text": "Day of the Week"
         }
        },
        "yaxis": {
         "anchor": "x",
         "domain": [
          0,
          1
         ],
         "title": {
          "text": "Number of Interactions"
         }
        }
       }
      }
     },
     "metadata": {},
     "output_type": "display_data"
    }
   ],
   "source": [
    "def plot_interaction_by_dayofweek(df, timezone=\"US/Eastern\"):\n",
    "    plot_df = df.assign(\n",
    "        day_of_week=df[\"timestamp\"]\n",
    "        .dt.tz_localize(\"UTC\")\n",
    "        .dt.tz_convert(timezone)\n",
    "        .dt.day_name()\n",
    "    )\n",
    "\n",
    "    interaction_count_by_day = (\n",
    "        plot_df.groupby(\"day_of_week\")\n",
    "        .size()\n",
    "        .reindex(\n",
    "            [\n",
    "                \"Monday\",\n",
    "                \"Tuesday\",\n",
    "                \"Wednesday\",\n",
    "                \"Thursday\",\n",
    "                \"Friday\",\n",
    "                \"Saturday\",\n",
    "                \"Sunday\",\n",
    "            ]\n",
    "        )\n",
    "    )\n",
    "\n",
    "    # Create the plot\n",
    "    fig = px.bar(\n",
    "        x=interaction_count_by_day.index,\n",
    "        y=interaction_count_by_day.values,\n",
    "        labels={\"x\": \"Day of the Week\", \"y\": \"Number of Interactions\"},\n",
    "        title=f\"Interaction Count by Day of the Week (assuming {timezone} timezone)\",\n",
    "        text=[f\"{val:,.0f}\" for val in interaction_count_by_day.values],\n",
    "        height=500,\n",
    "        width=700,\n",
    "    )\n",
    "\n",
    "    fig.update_layout(xaxis_tickmode=\"linear\")\n",
    "\n",
    "    fig.show()\n",
    "\n",
    "\n",
    "timezone = \"US/Eastern\"  # Assume this time zone because the data is Amazon Data\n",
    "train_sample_df = train_df.sample(\n",
    "    args.report_sample_num_rows, replace=False, random_state=args.random_seed\n",
    ")\n",
    "plot_interaction_by_dayofweek(train_sample_df, timezone)"
   ]
  },
  {
   "cell_type": "code",
   "execution_count": 14,
   "metadata": {},
   "outputs": [
    {
     "data": {
      "application/vnd.plotly.v1+json": {
       "config": {
        "plotlyServerURL": "https://plot.ly"
       },
       "data": [
        {
         "alignmentgroup": "True",
         "hovertemplate": "Hour of the Day=%{x}<br>Number of Interactions=%{y}<br>text=%{text}<extra></extra>",
         "legendgroup": "",
         "marker": {
          "color": "#636efa",
          "pattern": {
           "shape": ""
          }
         },
         "name": "",
         "offsetgroup": "",
         "orientation": "v",
         "showlegend": false,
         "text": [
          "336",
          "239",
          "124",
          "99",
          "100",
          "90",
          "140",
          "254",
          "357",
          "485",
          "562",
          "585",
          "563",
          "693",
          "620",
          "604",
          "580",
          "541",
          "481",
          "509",
          "518",
          "542",
          "558",
          "420"
         ],
         "textposition": "auto",
         "type": "bar",
         "x": [
          0,
          1,
          2,
          3,
          4,
          5,
          6,
          7,
          8,
          9,
          10,
          11,
          12,
          13,
          14,
          15,
          16,
          17,
          18,
          19,
          20,
          21,
          22,
          23
         ],
         "xaxis": "x",
         "y": [
          336,
          239,
          124,
          99,
          100,
          90,
          140,
          254,
          357,
          485,
          562,
          585,
          563,
          693,
          620,
          604,
          580,
          541,
          481,
          509,
          518,
          542,
          558,
          420
         ],
         "yaxis": "y"
        }
       ],
       "layout": {
        "barmode": "relative",
        "height": 500,
        "legend": {
         "tracegroupgap": 0
        },
        "template": {
         "data": {
          "bar": [
           {
            "error_x": {
             "color": "#2a3f5f"
            },
            "error_y": {
             "color": "#2a3f5f"
            },
            "marker": {
             "line": {
              "color": "#E5ECF6",
              "width": 0.5
             },
             "pattern": {
              "fillmode": "overlay",
              "size": 10,
              "solidity": 0.2
             }
            },
            "type": "bar"
           }
          ],
          "barpolar": [
           {
            "marker": {
             "line": {
              "color": "#E5ECF6",
              "width": 0.5
             },
             "pattern": {
              "fillmode": "overlay",
              "size": 10,
              "solidity": 0.2
             }
            },
            "type": "barpolar"
           }
          ],
          "carpet": [
           {
            "aaxis": {
             "endlinecolor": "#2a3f5f",
             "gridcolor": "white",
             "linecolor": "white",
             "minorgridcolor": "white",
             "startlinecolor": "#2a3f5f"
            },
            "baxis": {
             "endlinecolor": "#2a3f5f",
             "gridcolor": "white",
             "linecolor": "white",
             "minorgridcolor": "white",
             "startlinecolor": "#2a3f5f"
            },
            "type": "carpet"
           }
          ],
          "choropleth": [
           {
            "colorbar": {
             "outlinewidth": 0,
             "ticks": ""
            },
            "type": "choropleth"
           }
          ],
          "contour": [
           {
            "colorbar": {
             "outlinewidth": 0,
             "ticks": ""
            },
            "colorscale": [
             [
              0,
              "#0d0887"
             ],
             [
              0.1111111111111111,
              "#46039f"
             ],
             [
              0.2222222222222222,
              "#7201a8"
             ],
             [
              0.3333333333333333,
              "#9c179e"
             ],
             [
              0.4444444444444444,
              "#bd3786"
             ],
             [
              0.5555555555555556,
              "#d8576b"
             ],
             [
              0.6666666666666666,
              "#ed7953"
             ],
             [
              0.7777777777777778,
              "#fb9f3a"
             ],
             [
              0.8888888888888888,
              "#fdca26"
             ],
             [
              1,
              "#f0f921"
             ]
            ],
            "type": "contour"
           }
          ],
          "contourcarpet": [
           {
            "colorbar": {
             "outlinewidth": 0,
             "ticks": ""
            },
            "type": "contourcarpet"
           }
          ],
          "heatmap": [
           {
            "colorbar": {
             "outlinewidth": 0,
             "ticks": ""
            },
            "colorscale": [
             [
              0,
              "#0d0887"
             ],
             [
              0.1111111111111111,
              "#46039f"
             ],
             [
              0.2222222222222222,
              "#7201a8"
             ],
             [
              0.3333333333333333,
              "#9c179e"
             ],
             [
              0.4444444444444444,
              "#bd3786"
             ],
             [
              0.5555555555555556,
              "#d8576b"
             ],
             [
              0.6666666666666666,
              "#ed7953"
             ],
             [
              0.7777777777777778,
              "#fb9f3a"
             ],
             [
              0.8888888888888888,
              "#fdca26"
             ],
             [
              1,
              "#f0f921"
             ]
            ],
            "type": "heatmap"
           }
          ],
          "heatmapgl": [
           {
            "colorbar": {
             "outlinewidth": 0,
             "ticks": ""
            },
            "colorscale": [
             [
              0,
              "#0d0887"
             ],
             [
              0.1111111111111111,
              "#46039f"
             ],
             [
              0.2222222222222222,
              "#7201a8"
             ],
             [
              0.3333333333333333,
              "#9c179e"
             ],
             [
              0.4444444444444444,
              "#bd3786"
             ],
             [
              0.5555555555555556,
              "#d8576b"
             ],
             [
              0.6666666666666666,
              "#ed7953"
             ],
             [
              0.7777777777777778,
              "#fb9f3a"
             ],
             [
              0.8888888888888888,
              "#fdca26"
             ],
             [
              1,
              "#f0f921"
             ]
            ],
            "type": "heatmapgl"
           }
          ],
          "histogram": [
           {
            "marker": {
             "pattern": {
              "fillmode": "overlay",
              "size": 10,
              "solidity": 0.2
             }
            },
            "type": "histogram"
           }
          ],
          "histogram2d": [
           {
            "colorbar": {
             "outlinewidth": 0,
             "ticks": ""
            },
            "colorscale": [
             [
              0,
              "#0d0887"
             ],
             [
              0.1111111111111111,
              "#46039f"
             ],
             [
              0.2222222222222222,
              "#7201a8"
             ],
             [
              0.3333333333333333,
              "#9c179e"
             ],
             [
              0.4444444444444444,
              "#bd3786"
             ],
             [
              0.5555555555555556,
              "#d8576b"
             ],
             [
              0.6666666666666666,
              "#ed7953"
             ],
             [
              0.7777777777777778,
              "#fb9f3a"
             ],
             [
              0.8888888888888888,
              "#fdca26"
             ],
             [
              1,
              "#f0f921"
             ]
            ],
            "type": "histogram2d"
           }
          ],
          "histogram2dcontour": [
           {
            "colorbar": {
             "outlinewidth": 0,
             "ticks": ""
            },
            "colorscale": [
             [
              0,
              "#0d0887"
             ],
             [
              0.1111111111111111,
              "#46039f"
             ],
             [
              0.2222222222222222,
              "#7201a8"
             ],
             [
              0.3333333333333333,
              "#9c179e"
             ],
             [
              0.4444444444444444,
              "#bd3786"
             ],
             [
              0.5555555555555556,
              "#d8576b"
             ],
             [
              0.6666666666666666,
              "#ed7953"
             ],
             [
              0.7777777777777778,
              "#fb9f3a"
             ],
             [
              0.8888888888888888,
              "#fdca26"
             ],
             [
              1,
              "#f0f921"
             ]
            ],
            "type": "histogram2dcontour"
           }
          ],
          "mesh3d": [
           {
            "colorbar": {
             "outlinewidth": 0,
             "ticks": ""
            },
            "type": "mesh3d"
           }
          ],
          "parcoords": [
           {
            "line": {
             "colorbar": {
              "outlinewidth": 0,
              "ticks": ""
             }
            },
            "type": "parcoords"
           }
          ],
          "pie": [
           {
            "automargin": true,
            "type": "pie"
           }
          ],
          "scatter": [
           {
            "fillpattern": {
             "fillmode": "overlay",
             "size": 10,
             "solidity": 0.2
            },
            "type": "scatter"
           }
          ],
          "scatter3d": [
           {
            "line": {
             "colorbar": {
              "outlinewidth": 0,
              "ticks": ""
             }
            },
            "marker": {
             "colorbar": {
              "outlinewidth": 0,
              "ticks": ""
             }
            },
            "type": "scatter3d"
           }
          ],
          "scattercarpet": [
           {
            "marker": {
             "colorbar": {
              "outlinewidth": 0,
              "ticks": ""
             }
            },
            "type": "scattercarpet"
           }
          ],
          "scattergeo": [
           {
            "marker": {
             "colorbar": {
              "outlinewidth": 0,
              "ticks": ""
             }
            },
            "type": "scattergeo"
           }
          ],
          "scattergl": [
           {
            "marker": {
             "colorbar": {
              "outlinewidth": 0,
              "ticks": ""
             }
            },
            "type": "scattergl"
           }
          ],
          "scattermapbox": [
           {
            "marker": {
             "colorbar": {
              "outlinewidth": 0,
              "ticks": ""
             }
            },
            "type": "scattermapbox"
           }
          ],
          "scatterpolar": [
           {
            "marker": {
             "colorbar": {
              "outlinewidth": 0,
              "ticks": ""
             }
            },
            "type": "scatterpolar"
           }
          ],
          "scatterpolargl": [
           {
            "marker": {
             "colorbar": {
              "outlinewidth": 0,
              "ticks": ""
             }
            },
            "type": "scatterpolargl"
           }
          ],
          "scatterternary": [
           {
            "marker": {
             "colorbar": {
              "outlinewidth": 0,
              "ticks": ""
             }
            },
            "type": "scatterternary"
           }
          ],
          "surface": [
           {
            "colorbar": {
             "outlinewidth": 0,
             "ticks": ""
            },
            "colorscale": [
             [
              0,
              "#0d0887"
             ],
             [
              0.1111111111111111,
              "#46039f"
             ],
             [
              0.2222222222222222,
              "#7201a8"
             ],
             [
              0.3333333333333333,
              "#9c179e"
             ],
             [
              0.4444444444444444,
              "#bd3786"
             ],
             [
              0.5555555555555556,
              "#d8576b"
             ],
             [
              0.6666666666666666,
              "#ed7953"
             ],
             [
              0.7777777777777778,
              "#fb9f3a"
             ],
             [
              0.8888888888888888,
              "#fdca26"
             ],
             [
              1,
              "#f0f921"
             ]
            ],
            "type": "surface"
           }
          ],
          "table": [
           {
            "cells": {
             "fill": {
              "color": "#EBF0F8"
             },
             "line": {
              "color": "white"
             }
            },
            "header": {
             "fill": {
              "color": "#C8D4E3"
             },
             "line": {
              "color": "white"
             }
            },
            "type": "table"
           }
          ]
         },
         "layout": {
          "annotationdefaults": {
           "arrowcolor": "#2a3f5f",
           "arrowhead": 0,
           "arrowwidth": 1
          },
          "autotypenumbers": "strict",
          "coloraxis": {
           "colorbar": {
            "outlinewidth": 0,
            "ticks": ""
           }
          },
          "colorscale": {
           "diverging": [
            [
             0,
             "#8e0152"
            ],
            [
             0.1,
             "#c51b7d"
            ],
            [
             0.2,
             "#de77ae"
            ],
            [
             0.3,
             "#f1b6da"
            ],
            [
             0.4,
             "#fde0ef"
            ],
            [
             0.5,
             "#f7f7f7"
            ],
            [
             0.6,
             "#e6f5d0"
            ],
            [
             0.7,
             "#b8e186"
            ],
            [
             0.8,
             "#7fbc41"
            ],
            [
             0.9,
             "#4d9221"
            ],
            [
             1,
             "#276419"
            ]
           ],
           "sequential": [
            [
             0,
             "#0d0887"
            ],
            [
             0.1111111111111111,
             "#46039f"
            ],
            [
             0.2222222222222222,
             "#7201a8"
            ],
            [
             0.3333333333333333,
             "#9c179e"
            ],
            [
             0.4444444444444444,
             "#bd3786"
            ],
            [
             0.5555555555555556,
             "#d8576b"
            ],
            [
             0.6666666666666666,
             "#ed7953"
            ],
            [
             0.7777777777777778,
             "#fb9f3a"
            ],
            [
             0.8888888888888888,
             "#fdca26"
            ],
            [
             1,
             "#f0f921"
            ]
           ],
           "sequentialminus": [
            [
             0,
             "#0d0887"
            ],
            [
             0.1111111111111111,
             "#46039f"
            ],
            [
             0.2222222222222222,
             "#7201a8"
            ],
            [
             0.3333333333333333,
             "#9c179e"
            ],
            [
             0.4444444444444444,
             "#bd3786"
            ],
            [
             0.5555555555555556,
             "#d8576b"
            ],
            [
             0.6666666666666666,
             "#ed7953"
            ],
            [
             0.7777777777777778,
             "#fb9f3a"
            ],
            [
             0.8888888888888888,
             "#fdca26"
            ],
            [
             1,
             "#f0f921"
            ]
           ]
          },
          "colorway": [
           "#636efa",
           "#EF553B",
           "#00cc96",
           "#ab63fa",
           "#FFA15A",
           "#19d3f3",
           "#FF6692",
           "#B6E880",
           "#FF97FF",
           "#FECB52"
          ],
          "font": {
           "color": "#2a3f5f"
          },
          "geo": {
           "bgcolor": "white",
           "lakecolor": "white",
           "landcolor": "#E5ECF6",
           "showlakes": true,
           "showland": true,
           "subunitcolor": "white"
          },
          "hoverlabel": {
           "align": "left"
          },
          "hovermode": "closest",
          "mapbox": {
           "style": "light"
          },
          "paper_bgcolor": "white",
          "plot_bgcolor": "#E5ECF6",
          "polar": {
           "angularaxis": {
            "gridcolor": "white",
            "linecolor": "white",
            "ticks": ""
           },
           "bgcolor": "#E5ECF6",
           "radialaxis": {
            "gridcolor": "white",
            "linecolor": "white",
            "ticks": ""
           }
          },
          "scene": {
           "xaxis": {
            "backgroundcolor": "#E5ECF6",
            "gridcolor": "white",
            "gridwidth": 2,
            "linecolor": "white",
            "showbackground": true,
            "ticks": "",
            "zerolinecolor": "white"
           },
           "yaxis": {
            "backgroundcolor": "#E5ECF6",
            "gridcolor": "white",
            "gridwidth": 2,
            "linecolor": "white",
            "showbackground": true,
            "ticks": "",
            "zerolinecolor": "white"
           },
           "zaxis": {
            "backgroundcolor": "#E5ECF6",
            "gridcolor": "white",
            "gridwidth": 2,
            "linecolor": "white",
            "showbackground": true,
            "ticks": "",
            "zerolinecolor": "white"
           }
          },
          "shapedefaults": {
           "line": {
            "color": "#2a3f5f"
           }
          },
          "ternary": {
           "aaxis": {
            "gridcolor": "white",
            "linecolor": "white",
            "ticks": ""
           },
           "baxis": {
            "gridcolor": "white",
            "linecolor": "white",
            "ticks": ""
           },
           "bgcolor": "#E5ECF6",
           "caxis": {
            "gridcolor": "white",
            "linecolor": "white",
            "ticks": ""
           }
          },
          "title": {
           "x": 0.05
          },
          "xaxis": {
           "automargin": true,
           "gridcolor": "white",
           "linecolor": "white",
           "ticks": "",
           "title": {
            "standoff": 15
           },
           "zerolinecolor": "white",
           "zerolinewidth": 2
          },
          "yaxis": {
           "automargin": true,
           "gridcolor": "white",
           "linecolor": "white",
           "ticks": "",
           "title": {
            "standoff": 15
           },
           "zerolinecolor": "white",
           "zerolinewidth": 2
          }
         }
        },
        "title": {
         "text": "Interaction Count by Hour of the Day (assuming US/Eastern timezone)"
        },
        "width": 1200,
        "xaxis": {
         "anchor": "y",
         "domain": [
          0,
          1
         ],
         "tickmode": "linear",
         "title": {
          "text": "Hour of the Day"
         }
        },
        "yaxis": {
         "anchor": "x",
         "domain": [
          0,
          1
         ],
         "title": {
          "text": "Number of Interactions"
         }
        }
       }
      }
     },
     "metadata": {},
     "output_type": "display_data"
    }
   ],
   "source": [
    "def plot_interaction_by_hour(df, timezone=\"US/Eastern\"):\n",
    "    # Extract the hour from the timestamp\n",
    "    plot_df = df.assign(\n",
    "        hour_of_day=df[\"timestamp\"]\n",
    "        .dt.tz_localize(\"UTC\")\n",
    "        .dt.tz_convert(timezone)\n",
    "        .dt.hour\n",
    "    )\n",
    "\n",
    "    # Group by the hour of the day and count the number of interactions\n",
    "    interaction_count_by_hour = (\n",
    "        plot_df.groupby(\"hour_of_day\").size().reindex(range(24), fill_value=0)\n",
    "    )\n",
    "\n",
    "    # Create the plot\n",
    "    fig = px.bar(\n",
    "        x=interaction_count_by_hour.index,\n",
    "        y=interaction_count_by_hour.values,\n",
    "        labels={\"x\": \"Hour of the Day\", \"y\": \"Number of Interactions\"},\n",
    "        title=f\"Interaction Count by Hour of the Day (assuming {timezone} timezone)\",\n",
    "        text=[f\"{val:,.0f}\" for val in interaction_count_by_hour.values],\n",
    "        height=500,\n",
    "        width=1200,\n",
    "    )\n",
    "\n",
    "    fig.update_layout(xaxis_tickmode=\"linear\")\n",
    "\n",
    "    fig.show()\n",
    "\n",
    "\n",
    "timezone = \"US/Eastern\"  # Assume this time zone because the data is Amazon Data\n",
    "plot_interaction_by_hour(train_sample_df, timezone)"
   ]
  },
  {
   "cell_type": "code",
   "execution_count": 15,
   "metadata": {},
   "outputs": [
    {
     "data": {
      "application/vnd.plotly.v1+json": {
       "config": {
        "plotlyServerURL": "https://plot.ly"
       },
       "data": [
        {
         "alignmentgroup": "True",
         "hovertemplate": "Month=%{x}<br>Number of Interactions=%{y}<br>text=%{text}<extra></extra>",
         "legendgroup": "",
         "marker": {
          "color": "#636efa",
          "pattern": {
           "shape": ""
          }
         },
         "name": "",
         "offsetgroup": "",
         "orientation": "v",
         "showlegend": false,
         "text": [
          "1,483",
          "794",
          "783",
          "778",
          "718",
          "695",
          "812",
          "723",
          "584",
          "642",
          "687",
          "1,301"
         ],
         "textposition": "auto",
         "type": "bar",
         "x": [
          1,
          2,
          3,
          4,
          5,
          6,
          7,
          8,
          9,
          10,
          11,
          12
         ],
         "xaxis": "x",
         "y": [
          1483,
          794,
          783,
          778,
          718,
          695,
          812,
          723,
          584,
          642,
          687,
          1301
         ],
         "yaxis": "y"
        }
       ],
       "layout": {
        "barmode": "relative",
        "height": 500,
        "legend": {
         "tracegroupgap": 0
        },
        "template": {
         "data": {
          "bar": [
           {
            "error_x": {
             "color": "#2a3f5f"
            },
            "error_y": {
             "color": "#2a3f5f"
            },
            "marker": {
             "line": {
              "color": "#E5ECF6",
              "width": 0.5
             },
             "pattern": {
              "fillmode": "overlay",
              "size": 10,
              "solidity": 0.2
             }
            },
            "type": "bar"
           }
          ],
          "barpolar": [
           {
            "marker": {
             "line": {
              "color": "#E5ECF6",
              "width": 0.5
             },
             "pattern": {
              "fillmode": "overlay",
              "size": 10,
              "solidity": 0.2
             }
            },
            "type": "barpolar"
           }
          ],
          "carpet": [
           {
            "aaxis": {
             "endlinecolor": "#2a3f5f",
             "gridcolor": "white",
             "linecolor": "white",
             "minorgridcolor": "white",
             "startlinecolor": "#2a3f5f"
            },
            "baxis": {
             "endlinecolor": "#2a3f5f",
             "gridcolor": "white",
             "linecolor": "white",
             "minorgridcolor": "white",
             "startlinecolor": "#2a3f5f"
            },
            "type": "carpet"
           }
          ],
          "choropleth": [
           {
            "colorbar": {
             "outlinewidth": 0,
             "ticks": ""
            },
            "type": "choropleth"
           }
          ],
          "contour": [
           {
            "colorbar": {
             "outlinewidth": 0,
             "ticks": ""
            },
            "colorscale": [
             [
              0,
              "#0d0887"
             ],
             [
              0.1111111111111111,
              "#46039f"
             ],
             [
              0.2222222222222222,
              "#7201a8"
             ],
             [
              0.3333333333333333,
              "#9c179e"
             ],
             [
              0.4444444444444444,
              "#bd3786"
             ],
             [
              0.5555555555555556,
              "#d8576b"
             ],
             [
              0.6666666666666666,
              "#ed7953"
             ],
             [
              0.7777777777777778,
              "#fb9f3a"
             ],
             [
              0.8888888888888888,
              "#fdca26"
             ],
             [
              1,
              "#f0f921"
             ]
            ],
            "type": "contour"
           }
          ],
          "contourcarpet": [
           {
            "colorbar": {
             "outlinewidth": 0,
             "ticks": ""
            },
            "type": "contourcarpet"
           }
          ],
          "heatmap": [
           {
            "colorbar": {
             "outlinewidth": 0,
             "ticks": ""
            },
            "colorscale": [
             [
              0,
              "#0d0887"
             ],
             [
              0.1111111111111111,
              "#46039f"
             ],
             [
              0.2222222222222222,
              "#7201a8"
             ],
             [
              0.3333333333333333,
              "#9c179e"
             ],
             [
              0.4444444444444444,
              "#bd3786"
             ],
             [
              0.5555555555555556,
              "#d8576b"
             ],
             [
              0.6666666666666666,
              "#ed7953"
             ],
             [
              0.7777777777777778,
              "#fb9f3a"
             ],
             [
              0.8888888888888888,
              "#fdca26"
             ],
             [
              1,
              "#f0f921"
             ]
            ],
            "type": "heatmap"
           }
          ],
          "heatmapgl": [
           {
            "colorbar": {
             "outlinewidth": 0,
             "ticks": ""
            },
            "colorscale": [
             [
              0,
              "#0d0887"
             ],
             [
              0.1111111111111111,
              "#46039f"
             ],
             [
              0.2222222222222222,
              "#7201a8"
             ],
             [
              0.3333333333333333,
              "#9c179e"
             ],
             [
              0.4444444444444444,
              "#bd3786"
             ],
             [
              0.5555555555555556,
              "#d8576b"
             ],
             [
              0.6666666666666666,
              "#ed7953"
             ],
             [
              0.7777777777777778,
              "#fb9f3a"
             ],
             [
              0.8888888888888888,
              "#fdca26"
             ],
             [
              1,
              "#f0f921"
             ]
            ],
            "type": "heatmapgl"
           }
          ],
          "histogram": [
           {
            "marker": {
             "pattern": {
              "fillmode": "overlay",
              "size": 10,
              "solidity": 0.2
             }
            },
            "type": "histogram"
           }
          ],
          "histogram2d": [
           {
            "colorbar": {
             "outlinewidth": 0,
             "ticks": ""
            },
            "colorscale": [
             [
              0,
              "#0d0887"
             ],
             [
              0.1111111111111111,
              "#46039f"
             ],
             [
              0.2222222222222222,
              "#7201a8"
             ],
             [
              0.3333333333333333,
              "#9c179e"
             ],
             [
              0.4444444444444444,
              "#bd3786"
             ],
             [
              0.5555555555555556,
              "#d8576b"
             ],
             [
              0.6666666666666666,
              "#ed7953"
             ],
             [
              0.7777777777777778,
              "#fb9f3a"
             ],
             [
              0.8888888888888888,
              "#fdca26"
             ],
             [
              1,
              "#f0f921"
             ]
            ],
            "type": "histogram2d"
           }
          ],
          "histogram2dcontour": [
           {
            "colorbar": {
             "outlinewidth": 0,
             "ticks": ""
            },
            "colorscale": [
             [
              0,
              "#0d0887"
             ],
             [
              0.1111111111111111,
              "#46039f"
             ],
             [
              0.2222222222222222,
              "#7201a8"
             ],
             [
              0.3333333333333333,
              "#9c179e"
             ],
             [
              0.4444444444444444,
              "#bd3786"
             ],
             [
              0.5555555555555556,
              "#d8576b"
             ],
             [
              0.6666666666666666,
              "#ed7953"
             ],
             [
              0.7777777777777778,
              "#fb9f3a"
             ],
             [
              0.8888888888888888,
              "#fdca26"
             ],
             [
              1,
              "#f0f921"
             ]
            ],
            "type": "histogram2dcontour"
           }
          ],
          "mesh3d": [
           {
            "colorbar": {
             "outlinewidth": 0,
             "ticks": ""
            },
            "type": "mesh3d"
           }
          ],
          "parcoords": [
           {
            "line": {
             "colorbar": {
              "outlinewidth": 0,
              "ticks": ""
             }
            },
            "type": "parcoords"
           }
          ],
          "pie": [
           {
            "automargin": true,
            "type": "pie"
           }
          ],
          "scatter": [
           {
            "fillpattern": {
             "fillmode": "overlay",
             "size": 10,
             "solidity": 0.2
            },
            "type": "scatter"
           }
          ],
          "scatter3d": [
           {
            "line": {
             "colorbar": {
              "outlinewidth": 0,
              "ticks": ""
             }
            },
            "marker": {
             "colorbar": {
              "outlinewidth": 0,
              "ticks": ""
             }
            },
            "type": "scatter3d"
           }
          ],
          "scattercarpet": [
           {
            "marker": {
             "colorbar": {
              "outlinewidth": 0,
              "ticks": ""
             }
            },
            "type": "scattercarpet"
           }
          ],
          "scattergeo": [
           {
            "marker": {
             "colorbar": {
              "outlinewidth": 0,
              "ticks": ""
             }
            },
            "type": "scattergeo"
           }
          ],
          "scattergl": [
           {
            "marker": {
             "colorbar": {
              "outlinewidth": 0,
              "ticks": ""
             }
            },
            "type": "scattergl"
           }
          ],
          "scattermapbox": [
           {
            "marker": {
             "colorbar": {
              "outlinewidth": 0,
              "ticks": ""
             }
            },
            "type": "scattermapbox"
           }
          ],
          "scatterpolar": [
           {
            "marker": {
             "colorbar": {
              "outlinewidth": 0,
              "ticks": ""
             }
            },
            "type": "scatterpolar"
           }
          ],
          "scatterpolargl": [
           {
            "marker": {
             "colorbar": {
              "outlinewidth": 0,
              "ticks": ""
             }
            },
            "type": "scatterpolargl"
           }
          ],
          "scatterternary": [
           {
            "marker": {
             "colorbar": {
              "outlinewidth": 0,
              "ticks": ""
             }
            },
            "type": "scatterternary"
           }
          ],
          "surface": [
           {
            "colorbar": {
             "outlinewidth": 0,
             "ticks": ""
            },
            "colorscale": [
             [
              0,
              "#0d0887"
             ],
             [
              0.1111111111111111,
              "#46039f"
             ],
             [
              0.2222222222222222,
              "#7201a8"
             ],
             [
              0.3333333333333333,
              "#9c179e"
             ],
             [
              0.4444444444444444,
              "#bd3786"
             ],
             [
              0.5555555555555556,
              "#d8576b"
             ],
             [
              0.6666666666666666,
              "#ed7953"
             ],
             [
              0.7777777777777778,
              "#fb9f3a"
             ],
             [
              0.8888888888888888,
              "#fdca26"
             ],
             [
              1,
              "#f0f921"
             ]
            ],
            "type": "surface"
           }
          ],
          "table": [
           {
            "cells": {
             "fill": {
              "color": "#EBF0F8"
             },
             "line": {
              "color": "white"
             }
            },
            "header": {
             "fill": {
              "color": "#C8D4E3"
             },
             "line": {
              "color": "white"
             }
            },
            "type": "table"
           }
          ]
         },
         "layout": {
          "annotationdefaults": {
           "arrowcolor": "#2a3f5f",
           "arrowhead": 0,
           "arrowwidth": 1
          },
          "autotypenumbers": "strict",
          "coloraxis": {
           "colorbar": {
            "outlinewidth": 0,
            "ticks": ""
           }
          },
          "colorscale": {
           "diverging": [
            [
             0,
             "#8e0152"
            ],
            [
             0.1,
             "#c51b7d"
            ],
            [
             0.2,
             "#de77ae"
            ],
            [
             0.3,
             "#f1b6da"
            ],
            [
             0.4,
             "#fde0ef"
            ],
            [
             0.5,
             "#f7f7f7"
            ],
            [
             0.6,
             "#e6f5d0"
            ],
            [
             0.7,
             "#b8e186"
            ],
            [
             0.8,
             "#7fbc41"
            ],
            [
             0.9,
             "#4d9221"
            ],
            [
             1,
             "#276419"
            ]
           ],
           "sequential": [
            [
             0,
             "#0d0887"
            ],
            [
             0.1111111111111111,
             "#46039f"
            ],
            [
             0.2222222222222222,
             "#7201a8"
            ],
            [
             0.3333333333333333,
             "#9c179e"
            ],
            [
             0.4444444444444444,
             "#bd3786"
            ],
            [
             0.5555555555555556,
             "#d8576b"
            ],
            [
             0.6666666666666666,
             "#ed7953"
            ],
            [
             0.7777777777777778,
             "#fb9f3a"
            ],
            [
             0.8888888888888888,
             "#fdca26"
            ],
            [
             1,
             "#f0f921"
            ]
           ],
           "sequentialminus": [
            [
             0,
             "#0d0887"
            ],
            [
             0.1111111111111111,
             "#46039f"
            ],
            [
             0.2222222222222222,
             "#7201a8"
            ],
            [
             0.3333333333333333,
             "#9c179e"
            ],
            [
             0.4444444444444444,
             "#bd3786"
            ],
            [
             0.5555555555555556,
             "#d8576b"
            ],
            [
             0.6666666666666666,
             "#ed7953"
            ],
            [
             0.7777777777777778,
             "#fb9f3a"
            ],
            [
             0.8888888888888888,
             "#fdca26"
            ],
            [
             1,
             "#f0f921"
            ]
           ]
          },
          "colorway": [
           "#636efa",
           "#EF553B",
           "#00cc96",
           "#ab63fa",
           "#FFA15A",
           "#19d3f3",
           "#FF6692",
           "#B6E880",
           "#FF97FF",
           "#FECB52"
          ],
          "font": {
           "color": "#2a3f5f"
          },
          "geo": {
           "bgcolor": "white",
           "lakecolor": "white",
           "landcolor": "#E5ECF6",
           "showlakes": true,
           "showland": true,
           "subunitcolor": "white"
          },
          "hoverlabel": {
           "align": "left"
          },
          "hovermode": "closest",
          "mapbox": {
           "style": "light"
          },
          "paper_bgcolor": "white",
          "plot_bgcolor": "#E5ECF6",
          "polar": {
           "angularaxis": {
            "gridcolor": "white",
            "linecolor": "white",
            "ticks": ""
           },
           "bgcolor": "#E5ECF6",
           "radialaxis": {
            "gridcolor": "white",
            "linecolor": "white",
            "ticks": ""
           }
          },
          "scene": {
           "xaxis": {
            "backgroundcolor": "#E5ECF6",
            "gridcolor": "white",
            "gridwidth": 2,
            "linecolor": "white",
            "showbackground": true,
            "ticks": "",
            "zerolinecolor": "white"
           },
           "yaxis": {
            "backgroundcolor": "#E5ECF6",
            "gridcolor": "white",
            "gridwidth": 2,
            "linecolor": "white",
            "showbackground": true,
            "ticks": "",
            "zerolinecolor": "white"
           },
           "zaxis": {
            "backgroundcolor": "#E5ECF6",
            "gridcolor": "white",
            "gridwidth": 2,
            "linecolor": "white",
            "showbackground": true,
            "ticks": "",
            "zerolinecolor": "white"
           }
          },
          "shapedefaults": {
           "line": {
            "color": "#2a3f5f"
           }
          },
          "ternary": {
           "aaxis": {
            "gridcolor": "white",
            "linecolor": "white",
            "ticks": ""
           },
           "baxis": {
            "gridcolor": "white",
            "linecolor": "white",
            "ticks": ""
           },
           "bgcolor": "#E5ECF6",
           "caxis": {
            "gridcolor": "white",
            "linecolor": "white",
            "ticks": ""
           }
          },
          "title": {
           "x": 0.05
          },
          "xaxis": {
           "automargin": true,
           "gridcolor": "white",
           "linecolor": "white",
           "ticks": "",
           "title": {
            "standoff": 15
           },
           "zerolinecolor": "white",
           "zerolinewidth": 2
          },
          "yaxis": {
           "automargin": true,
           "gridcolor": "white",
           "linecolor": "white",
           "ticks": "",
           "title": {
            "standoff": 15
           },
           "zerolinecolor": "white",
           "zerolinewidth": 2
          }
         }
        },
        "title": {
         "text": "Interaction Count by Month (assuming US/Eastern timezone)"
        },
        "width": 1200,
        "xaxis": {
         "anchor": "y",
         "domain": [
          0,
          1
         ],
         "tickmode": "linear",
         "ticktext": [
          "January",
          "February",
          "March",
          "April",
          "May",
          "June",
          "July",
          "August",
          "September",
          "October",
          "November",
          "December"
         ],
         "tickvals": [
          1,
          2,
          3,
          4,
          5,
          6,
          7,
          8,
          9,
          10,
          11,
          12
         ],
         "title": {
          "text": "Month"
         }
        },
        "yaxis": {
         "anchor": "x",
         "domain": [
          0,
          1
         ],
         "title": {
          "text": "Number of Interactions"
         }
        }
       }
      }
     },
     "metadata": {},
     "output_type": "display_data"
    }
   ],
   "source": [
    "def plot_interaction_by_month(df, timezone=\"US/Eastern\"):\n",
    "    # Ensure timestamp is in datetime format\n",
    "    if not pd.api.types.is_datetime64_any_dtype(df[\"timestamp\"]):\n",
    "        df[\"timestamp\"] = pd.to_datetime(df[\"timestamp\"])\n",
    "\n",
    "    # Extract the month from the timestamp (localized)\n",
    "    plot_df = df.assign(\n",
    "        month_of_year=df[\"timestamp\"]\n",
    "        .dt.tz_localize(\"UTC\")\n",
    "        .dt.tz_convert(timezone)\n",
    "        .dt.month\n",
    "    )\n",
    "\n",
    "    # Group by month and count number of interactions\n",
    "    interaction_count_by_month = (\n",
    "        plot_df.groupby(\"month_of_year\").size().reindex(range(1, 13), fill_value=0)\n",
    "    )\n",
    "\n",
    "    # Plot\n",
    "    fig = px.bar(\n",
    "        x=interaction_count_by_month.index,\n",
    "        y=interaction_count_by_month.values,\n",
    "        labels={\"x\": \"Month\", \"y\": \"Number of Interactions\"},\n",
    "        title=f\"Interaction Count by Month (assuming {timezone} timezone)\",\n",
    "        text=[f\"{val:,.0f}\" for val in interaction_count_by_month.values],\n",
    "        height=500,\n",
    "        width=1200,\n",
    "    )\n",
    "\n",
    "    fig.update_layout(\n",
    "        xaxis_tickmode=\"linear\",\n",
    "        xaxis_tickvals=interaction_count_by_month.index,\n",
    "        xaxis_ticktext=[\n",
    "            pd.to_datetime(str(month), format=\"%m\").strftime(\"%B\")\n",
    "            for month in interaction_count_by_month.index\n",
    "        ],\n",
    "    )\n",
    "\n",
    "    fig.show()\n",
    "\n",
    "\n",
    "timezone = \"US/Eastern\"\n",
    "plot_interaction_by_month(train_sample_df, timezone)"
   ]
  },
  {
   "cell_type": "markdown",
   "metadata": {},
   "source": [
    "## Sparsity\n"
   ]
  },
  {
   "cell_type": "code",
   "execution_count": 16,
   "metadata": {},
   "outputs": [
    {
     "name": "stdout",
     "output_type": "stream",
     "text": [
      "Sparsity: 99.9944%\n"
     ]
    }
   ],
   "source": [
    "def calculate_sparsity(df, user_col=\"user_id\", item_col=\"parent_asin\"):\n",
    "    return 1 - df.shape[0] / (df[user_col].nunique() * df[item_col].nunique())\n",
    "\n",
    "\n",
    "print(f\"Sparsity: {calculate_sparsity(train_df):,.4%}\")"
   ]
  }
 ],
 "metadata": {
  "kernelspec": {
   "display_name": "Python (datn-recsys)",
   "language": "python",
   "name": "datn-recsys"
  },
  "language_info": {
   "codemirror_mode": {
    "name": "ipython",
    "version": 3
   },
   "file_extension": ".py",
   "mimetype": "text/x-python",
   "name": "python",
   "nbconvert_exporter": "python",
   "pygments_lexer": "ipython3",
   "version": "3.11.9"
  }
 },
 "nbformat": 4,
 "nbformat_minor": 2
}
