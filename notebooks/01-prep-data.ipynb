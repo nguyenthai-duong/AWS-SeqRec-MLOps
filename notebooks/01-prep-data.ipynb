{
 "cells": [
  {
   "cell_type": "markdown",
   "metadata": {},
   "source": [
    "## Setup\n"
   ]
  },
  {
   "cell_type": "code",
   "execution_count": null,
   "metadata": {},
   "outputs": [],
   "source": [
    "import os\n",
    "import sys\n",
    "\n",
    "from datasets import load_dataset\n",
    "from loguru import logger\n",
    "from pydantic import BaseModel\n",
    "\n",
    "sys.path.insert(0, \"..\")\n",
    "\n",
    "from src.sampling_raw_data import InteractionDataSampler"
   ]
  },
  {
   "cell_type": "code",
   "execution_count": 2,
   "metadata": {},
   "outputs": [
    {
     "name": "stdout",
     "output_type": "stream",
     "text": [
      "{\n",
      "  \"run_name\": \"00-prep-data\",\n",
      "  \"testing\": true,\n",
      "  \"notebook_persist_dp\": \"/home/duong/Documents/datn1/notebooks/data/00-prep-data\",\n",
      "  \"random_seed\": 42,\n",
      "  \"user_col\": \"user_id\",\n",
      "  \"item_col\": \"parent_asin\",\n",
      "  \"rating_col\": \"rating\",\n",
      "  \"timestamp_col\": \"timestamp\",\n",
      "  \"sample_users\": 1000,\n",
      "  \"min_user_interactions\": 5,\n",
      "  \"min_item_interactions\": 10\n",
      "}\n"
     ]
    }
   ],
   "source": [
    "class Args(BaseModel):\n",
    "    run_name: str = \"00-prep-data\"\n",
    "    testing: bool = True\n",
    "    notebook_persist_dp: str = None\n",
    "    random_seed: int = 42\n",
    "\n",
    "    user_col: str = \"user_id\"\n",
    "    item_col: str = \"parent_asin\"\n",
    "    rating_col: str = \"rating\"\n",
    "    timestamp_col: str = \"timestamp\"\n",
    "\n",
    "    sample_users: int = 1000\n",
    "    min_user_interactions: int = 5\n",
    "    min_item_interactions: int = 10\n",
    "\n",
    "    def init(self):\n",
    "        self.notebook_persist_dp = os.path.abspath(f\"data/{self.run_name}\")\n",
    "        if not self.testing:\n",
    "            os.makedirs(self.notebook_persist_dp, exist_ok=True)\n",
    "\n",
    "        return self\n",
    "\n",
    "\n",
    "args = Args().init()\n",
    "\n",
    "print(args.model_dump_json(indent=2))"
   ]
  },
  {
   "cell_type": "markdown",
   "metadata": {},
   "source": [
    "## Load data\n"
   ]
  },
  {
   "cell_type": "code",
   "execution_count": 3,
   "metadata": {},
   "outputs": [],
   "source": [
    "dataset = load_dataset(\n",
    "    \"McAuley-Lab/Amazon-Reviews-2023\",\n",
    "    \"5core_timestamp_Toys_and_Games\",\n",
    "    trust_remote_code=True,\n",
    ")\n",
    "\n",
    "\n",
    "def parse_dtype(df):\n",
    "    return df.assign(\n",
    "        rating=lambda df: df[args.rating_col].astype(float),\n",
    "        timestamp=lambda df: df[args.timestamp_col].astype(int),\n",
    "    )\n",
    "\n",
    "\n",
    "train_raw = dataset[\"train\"].to_pandas().pipe(parse_dtype)\n",
    "val_raw = dataset[\"valid\"].to_pandas().pipe(parse_dtype)\n",
    "test_raw = dataset[\"test\"].to_pandas().pipe(parse_dtype)"
   ]
  },
  {
   "cell_type": "code",
   "execution_count": 4,
   "metadata": {},
   "outputs": [
    {
     "name": "stdout",
     "output_type": "stream",
     "text": [
      "\n",
      "Train:\n",
      "- Min timestamp (raw): 952575870000 → Datetime (UTC): 2000-03-09 04:24:30+00:00 → PST: 2000-03-08 20:24:30-08:00\n",
      "- Max timestamp (raw): 1628643348297 → Datetime (UTC): 2021-08-11 00:55:48.297000+00:00 → PST: 2021-08-10 17:55:48.297000-07:00\n",
      "\n",
      "Validation:\n",
      "- Min timestamp (raw): 1628643494904 → Datetime (UTC): 2021-08-11 00:58:14.904000+00:00 → PST: 2021-08-10 17:58:14.904000-07:00\n",
      "- Max timestamp (raw): 1658002608846 → Datetime (UTC): 2022-07-16 20:16:48.846000+00:00 → PST: 2022-07-16 13:16:48.846000-07:00\n",
      "\n",
      "Test:\n",
      "- Min timestamp (raw): 1658002857227 → Datetime (UTC): 2022-07-16 20:20:57.227000+00:00 → PST: 2022-07-16 13:20:57.227000-07:00\n",
      "- Max timestamp (raw): 1694444496685 → Datetime (UTC): 2023-09-11 15:01:36.685000+00:00 → PST: 2023-09-11 08:01:36.685000-07:00\n"
     ]
    }
   ],
   "source": [
    "import pandas as pd\n",
    "\n",
    "\n",
    "def print_min_max_time(df, df_name):\n",
    "    # Lấy min và max timestamp\n",
    "    min_time = df[\"timestamp\"].min()\n",
    "    max_time = df[\"timestamp\"].max()\n",
    "\n",
    "    # Chuyển đổi từ milliseconds sang seconds và thành datetime (UTC)\n",
    "    min_datetime = pd.to_datetime(min_time, unit=\"ms\").tz_localize(\"UTC\")\n",
    "    max_datetime = pd.to_datetime(max_time, unit=\"ms\").tz_localize(\"UTC\")\n",
    "\n",
    "    # Chuyển đổi sang timezone khác (ví dụ: 'US/Pacific')\n",
    "    min_datetime_pst = min_datetime.tz_convert(\"US/Pacific\")\n",
    "    max_datetime_pst = max_datetime.tz_convert(\"US/Pacific\")\n",
    "\n",
    "    print(f\"\\n{df_name}:\")\n",
    "    print(\n",
    "        f\"- Min timestamp (raw): {min_time} → Datetime (UTC): {min_datetime} → PST: {min_datetime_pst}\"\n",
    "    )\n",
    "    print(\n",
    "        f\"- Max timestamp (raw): {max_time} → Datetime (UTC): {max_datetime} → PST: {max_datetime_pst}\"\n",
    "    )\n",
    "\n",
    "\n",
    "# Áp dụng cho từng tập dữ liệu\n",
    "print_min_max_time(train_raw, \"Train\")\n",
    "print_min_max_time(val_raw, \"Validation\")\n",
    "print_min_max_time(test_raw, \"Test\")"
   ]
  },
  {
   "cell_type": "code",
   "execution_count": 5,
   "metadata": {},
   "outputs": [
    {
     "data": {
      "text/html": [
       "<div>\n",
       "<style scoped>\n",
       "    .dataframe tbody tr th:only-of-type {\n",
       "        vertical-align: middle;\n",
       "    }\n",
       "\n",
       "    .dataframe tbody tr th {\n",
       "        vertical-align: top;\n",
       "    }\n",
       "\n",
       "    .dataframe thead th {\n",
       "        text-align: right;\n",
       "    }\n",
       "</style>\n",
       "<table border=\"1\" class=\"dataframe\">\n",
       "  <thead>\n",
       "    <tr style=\"text-align: right;\">\n",
       "      <th></th>\n",
       "      <th>user_id</th>\n",
       "      <th>parent_asin</th>\n",
       "      <th>rating</th>\n",
       "      <th>timestamp</th>\n",
       "    </tr>\n",
       "  </thead>\n",
       "  <tbody>\n",
       "    <tr>\n",
       "      <th>0</th>\n",
       "      <td>AGKASBHYZPGTEPO6LWZPVJWB2BVA</td>\n",
       "      <td>B006GBITXC</td>\n",
       "      <td>3.0</td>\n",
       "      <td>1452647382000</td>\n",
       "    </tr>\n",
       "    <tr>\n",
       "      <th>1</th>\n",
       "      <td>AGKASBHYZPGTEPO6LWZPVJWB2BVA</td>\n",
       "      <td>B00TLEMSVK</td>\n",
       "      <td>4.0</td>\n",
       "      <td>1454675785000</td>\n",
       "    </tr>\n",
       "    <tr>\n",
       "      <th>2</th>\n",
       "      <td>AGKASBHYZPGTEPO6LWZPVJWB2BVA</td>\n",
       "      <td>B00SO7HF6I</td>\n",
       "      <td>3.0</td>\n",
       "      <td>1454676014000</td>\n",
       "    </tr>\n",
       "    <tr>\n",
       "      <th>3</th>\n",
       "      <td>AGKASBHYZPGTEPO6LWZPVJWB2BVA</td>\n",
       "      <td>B00MZG6OO8</td>\n",
       "      <td>3.0</td>\n",
       "      <td>1471541996000</td>\n",
       "    </tr>\n",
       "    <tr>\n",
       "      <th>4</th>\n",
       "      <td>AGKASBHYZPGTEPO6LWZPVJWB2BVA</td>\n",
       "      <td>B007JWWUDW</td>\n",
       "      <td>5.0</td>\n",
       "      <td>1471542588000</td>\n",
       "    </tr>\n",
       "    <tr>\n",
       "      <th>...</th>\n",
       "      <td>...</td>\n",
       "      <td>...</td>\n",
       "      <td>...</td>\n",
       "      <td>...</td>\n",
       "    </tr>\n",
       "    <tr>\n",
       "      <th>3114942</th>\n",
       "      <td>AHMDS2PYZIJWE6SBXGDTBSJ4SRLA</td>\n",
       "      <td>B00BY2ER66</td>\n",
       "      <td>1.0</td>\n",
       "      <td>1379154911000</td>\n",
       "    </tr>\n",
       "    <tr>\n",
       "      <th>3114943</th>\n",
       "      <td>AHMDS2PYZIJWE6SBXGDTBSJ4SRLA</td>\n",
       "      <td>B00CVDMCH8</td>\n",
       "      <td>3.0</td>\n",
       "      <td>1379155054000</td>\n",
       "    </tr>\n",
       "    <tr>\n",
       "      <th>3114944</th>\n",
       "      <td>AHMDS2PYZIJWE6SBXGDTBSJ4SRLA</td>\n",
       "      <td>B00BY2ER6G</td>\n",
       "      <td>5.0</td>\n",
       "      <td>1379155144000</td>\n",
       "    </tr>\n",
       "    <tr>\n",
       "      <th>3114945</th>\n",
       "      <td>AHMDS2PYZIJWE6SBXGDTBSJ4SRLA</td>\n",
       "      <td>B00I8Z6GAM</td>\n",
       "      <td>5.0</td>\n",
       "      <td>1420664276000</td>\n",
       "    </tr>\n",
       "    <tr>\n",
       "      <th>3114946</th>\n",
       "      <td>AHMDS2PYZIJWE6SBXGDTBSJ4SRLA</td>\n",
       "      <td>B008VGOJS4</td>\n",
       "      <td>5.0</td>\n",
       "      <td>1420664388000</td>\n",
       "    </tr>\n",
       "  </tbody>\n",
       "</table>\n",
       "<p>3114947 rows × 4 columns</p>\n",
       "</div>"
      ],
      "text/plain": [
       "                              user_id parent_asin  rating      timestamp\n",
       "0        AGKASBHYZPGTEPO6LWZPVJWB2BVA  B006GBITXC     3.0  1452647382000\n",
       "1        AGKASBHYZPGTEPO6LWZPVJWB2BVA  B00TLEMSVK     4.0  1454675785000\n",
       "2        AGKASBHYZPGTEPO6LWZPVJWB2BVA  B00SO7HF6I     3.0  1454676014000\n",
       "3        AGKASBHYZPGTEPO6LWZPVJWB2BVA  B00MZG6OO8     3.0  1471541996000\n",
       "4        AGKASBHYZPGTEPO6LWZPVJWB2BVA  B007JWWUDW     5.0  1471542588000\n",
       "...                               ...         ...     ...            ...\n",
       "3114942  AHMDS2PYZIJWE6SBXGDTBSJ4SRLA  B00BY2ER66     1.0  1379154911000\n",
       "3114943  AHMDS2PYZIJWE6SBXGDTBSJ4SRLA  B00CVDMCH8     3.0  1379155054000\n",
       "3114944  AHMDS2PYZIJWE6SBXGDTBSJ4SRLA  B00BY2ER6G     5.0  1379155144000\n",
       "3114945  AHMDS2PYZIJWE6SBXGDTBSJ4SRLA  B00I8Z6GAM     5.0  1420664276000\n",
       "3114946  AHMDS2PYZIJWE6SBXGDTBSJ4SRLA  B008VGOJS4     5.0  1420664388000\n",
       "\n",
       "[3114947 rows x 4 columns]"
      ]
     },
     "execution_count": 5,
     "metadata": {},
     "output_type": "execute_result"
    }
   ],
   "source": [
    "train_raw"
   ]
  },
  {
   "cell_type": "code",
   "execution_count": 6,
   "metadata": {},
   "outputs": [
    {
     "name": "stdout",
     "output_type": "stream",
     "text": [
      "Max datetime: 2021-08-11 07:55:48.297000\n"
     ]
    }
   ],
   "source": [
    "import datetime\n",
    "\n",
    "max_timestamp = train_raw[\"timestamp\"].max()\n",
    "max_datetime = datetime.datetime.fromtimestamp(max_timestamp / 1000)\n",
    "print(\"Max datetime:\", max_datetime)"
   ]
  },
  {
   "cell_type": "code",
   "execution_count": 7,
   "metadata": {},
   "outputs": [
    {
     "name": "stdout",
     "output_type": "stream",
     "text": [
      "Max datetime: 2022-07-17 03:16:48.846000\n"
     ]
    }
   ],
   "source": [
    "import datetime\n",
    "\n",
    "max_timestamp = val_raw[\"timestamp\"].max()\n",
    "max_datetime = datetime.datetime.fromtimestamp(max_timestamp / 1000)\n",
    "print(\"Max datetime:\", max_datetime)"
   ]
  },
  {
   "cell_type": "markdown",
   "metadata": {},
   "source": [
    "## Sample"
   ]
  },
  {
   "cell_type": "code",
   "execution_count": 8,
   "metadata": {},
   "outputs": [
    {
     "name": "stderr",
     "output_type": "stream",
     "text": [
      "\u001b[32m2025-06-19 02:02:40.177\u001b[0m | \u001b[1mINFO    \u001b[0m | \u001b[36msrc.sample\u001b[0m:\u001b[36msample\u001b[0m:\u001b[36m119\u001b[0m - \u001b[1mAfter randomly removing users - round 1: num_users=407,842\u001b[0m\n",
      "\u001b[32m2025-06-19 02:02:40.178\u001b[0m | \u001b[1mINFO    \u001b[0m | \u001b[36msrc.sample\u001b[0m:\u001b[36msample\u001b[0m:\u001b[36m123\u001b[0m - \u001b[1mNumber of users 407,842 are still greater than expected, keep removing...\u001b[0m\n"
     ]
    },
    {
     "name": "stdout",
     "output_type": "stream",
     "text": [
      "\n",
      "\n",
      "Randomly removing 2529 users - Round 2 started\n"
     ]
    },
    {
     "name": "stderr",
     "output_type": "stream",
     "text": [
      "\u001b[32m2025-06-19 02:02:45.250\u001b[0m | \u001b[1mINFO    \u001b[0m | \u001b[36msrc.sample\u001b[0m:\u001b[36msample\u001b[0m:\u001b[36m119\u001b[0m - \u001b[1mAfter randomly removing users - round 2: num_users=252,964\u001b[0m\n",
      "\u001b[32m2025-06-19 02:02:45.250\u001b[0m | \u001b[1mINFO    \u001b[0m | \u001b[36msrc.sample\u001b[0m:\u001b[36msample\u001b[0m:\u001b[36m123\u001b[0m - \u001b[1mNumber of users 252,964 are still greater than expected, keep removing...\u001b[0m\n"
     ]
    },
    {
     "name": "stdout",
     "output_type": "stream",
     "text": [
      "\n",
      "\n",
      "Randomly removing 2494 users - Round 3 started\n"
     ]
    },
    {
     "name": "stderr",
     "output_type": "stream",
     "text": [
      "\u001b[32m2025-06-19 02:02:51.290\u001b[0m | \u001b[1mINFO    \u001b[0m | \u001b[36msrc.sample\u001b[0m:\u001b[36msample\u001b[0m:\u001b[36m119\u001b[0m - \u001b[1mAfter randomly removing users - round 3: num_users=249,424\u001b[0m\n",
      "\u001b[32m2025-06-19 02:02:51.291\u001b[0m | \u001b[1mINFO    \u001b[0m | \u001b[36msrc.sample\u001b[0m:\u001b[36msample\u001b[0m:\u001b[36m123\u001b[0m - \u001b[1mNumber of users 249,424 are still greater than expected, keep removing...\u001b[0m\n"
     ]
    },
    {
     "name": "stdout",
     "output_type": "stream",
     "text": [
      "\n",
      "\n",
      "Randomly removing 2459 users - Round 4 started\n"
     ]
    },
    {
     "name": "stderr",
     "output_type": "stream",
     "text": [
      "\u001b[32m2025-06-19 02:02:55.484\u001b[0m | \u001b[1mINFO    \u001b[0m | \u001b[36msrc.sample\u001b[0m:\u001b[36msample\u001b[0m:\u001b[36m119\u001b[0m - \u001b[1mAfter randomly removing users - round 4: num_users=245,935\u001b[0m\n",
      "\u001b[32m2025-06-19 02:02:55.484\u001b[0m | \u001b[1mINFO    \u001b[0m | \u001b[36msrc.sample\u001b[0m:\u001b[36msample\u001b[0m:\u001b[36m123\u001b[0m - \u001b[1mNumber of users 245,935 are still greater than expected, keep removing...\u001b[0m\n"
     ]
    },
    {
     "name": "stdout",
     "output_type": "stream",
     "text": [
      "\n",
      "\n",
      "Randomly removing 2424 users - Round 5 started\n"
     ]
    },
    {
     "name": "stderr",
     "output_type": "stream",
     "text": [
      "\u001b[32m2025-06-19 02:02:59.629\u001b[0m | \u001b[1mINFO    \u001b[0m | \u001b[36msrc.sample\u001b[0m:\u001b[36msample\u001b[0m:\u001b[36m119\u001b[0m - \u001b[1mAfter randomly removing users - round 5: num_users=242,418\u001b[0m\n",
      "\u001b[32m2025-06-19 02:02:59.630\u001b[0m | \u001b[1mINFO    \u001b[0m | \u001b[36msrc.sample\u001b[0m:\u001b[36msample\u001b[0m:\u001b[36m123\u001b[0m - \u001b[1mNumber of users 242,418 are still greater than expected, keep removing...\u001b[0m\n"
     ]
    },
    {
     "name": "stdout",
     "output_type": "stream",
     "text": [
      "\n",
      "\n",
      "Randomly removing 2391 users - Round 6 started\n"
     ]
    },
    {
     "name": "stderr",
     "output_type": "stream",
     "text": [
      "\u001b[32m2025-06-19 02:03:05.255\u001b[0m | \u001b[1mINFO    \u001b[0m | \u001b[36msrc.sample\u001b[0m:\u001b[36msample\u001b[0m:\u001b[36m119\u001b[0m - \u001b[1mAfter randomly removing users - round 6: num_users=239,120\u001b[0m\n",
      "\u001b[32m2025-06-19 02:03:05.255\u001b[0m | \u001b[1mINFO    \u001b[0m | \u001b[36msrc.sample\u001b[0m:\u001b[36msample\u001b[0m:\u001b[36m123\u001b[0m - \u001b[1mNumber of users 239,120 are still greater than expected, keep removing...\u001b[0m\n"
     ]
    },
    {
     "name": "stdout",
     "output_type": "stream",
     "text": [
      "\n",
      "\n",
      "Randomly removing 2357 users - Round 7 started\n"
     ]
    },
    {
     "name": "stderr",
     "output_type": "stream",
     "text": [
      "\u001b[32m2025-06-19 02:03:09.363\u001b[0m | \u001b[1mINFO    \u001b[0m | \u001b[36msrc.sample\u001b[0m:\u001b[36msample\u001b[0m:\u001b[36m119\u001b[0m - \u001b[1mAfter randomly removing users - round 7: num_users=235,739\u001b[0m\n",
      "\u001b[32m2025-06-19 02:03:09.363\u001b[0m | \u001b[1mINFO    \u001b[0m | \u001b[36msrc.sample\u001b[0m:\u001b[36msample\u001b[0m:\u001b[36m123\u001b[0m - \u001b[1mNumber of users 235,739 are still greater than expected, keep removing...\u001b[0m\n"
     ]
    },
    {
     "name": "stdout",
     "output_type": "stream",
     "text": [
      "\n",
      "\n",
      "Randomly removing 2325 users - Round 8 started\n"
     ]
    },
    {
     "name": "stderr",
     "output_type": "stream",
     "text": [
      "\u001b[32m2025-06-19 02:03:14.130\u001b[0m | \u001b[1mINFO    \u001b[0m | \u001b[36msrc.sample\u001b[0m:\u001b[36msample\u001b[0m:\u001b[36m119\u001b[0m - \u001b[1mAfter randomly removing users - round 8: num_users=232,584\u001b[0m\n",
      "\u001b[32m2025-06-19 02:03:14.131\u001b[0m | \u001b[1mINFO    \u001b[0m | \u001b[36msrc.sample\u001b[0m:\u001b[36msample\u001b[0m:\u001b[36m123\u001b[0m - \u001b[1mNumber of users 232,584 are still greater than expected, keep removing...\u001b[0m\n"
     ]
    },
    {
     "name": "stdout",
     "output_type": "stream",
     "text": [
      "\n",
      "\n",
      "Randomly removing 2293 users - Round 9 started\n"
     ]
    },
    {
     "name": "stderr",
     "output_type": "stream",
     "text": [
      "\u001b[32m2025-06-19 02:03:18.175\u001b[0m | \u001b[1mINFO    \u001b[0m | \u001b[36msrc.sample\u001b[0m:\u001b[36msample\u001b[0m:\u001b[36m119\u001b[0m - \u001b[1mAfter randomly removing users - round 9: num_users=229,365\u001b[0m\n",
      "\u001b[32m2025-06-19 02:03:18.176\u001b[0m | \u001b[1mINFO    \u001b[0m | \u001b[36msrc.sample\u001b[0m:\u001b[36msample\u001b[0m:\u001b[36m123\u001b[0m - \u001b[1mNumber of users 229,365 are still greater than expected, keep removing...\u001b[0m\n"
     ]
    },
    {
     "name": "stdout",
     "output_type": "stream",
     "text": [
      "\n",
      "\n",
      "Randomly removing 2261 users - Round 10 started\n"
     ]
    },
    {
     "name": "stderr",
     "output_type": "stream",
     "text": [
      "\u001b[32m2025-06-19 02:03:23.547\u001b[0m | \u001b[1mINFO    \u001b[0m | \u001b[36msrc.sample\u001b[0m:\u001b[36msample\u001b[0m:\u001b[36m119\u001b[0m - \u001b[1mAfter randomly removing users - round 10: num_users=226,131\u001b[0m\n",
      "\u001b[32m2025-06-19 02:03:23.547\u001b[0m | \u001b[1mINFO    \u001b[0m | \u001b[36msrc.sample\u001b[0m:\u001b[36msample\u001b[0m:\u001b[36m123\u001b[0m - \u001b[1mNumber of users 226,131 are still greater than expected, keep removing...\u001b[0m\n"
     ]
    },
    {
     "name": "stdout",
     "output_type": "stream",
     "text": [
      "\n",
      "\n",
      "Randomly removing 2229 users - Round 11 started\n"
     ]
    },
    {
     "name": "stderr",
     "output_type": "stream",
     "text": [
      "\u001b[32m2025-06-19 02:03:27.265\u001b[0m | \u001b[1mINFO    \u001b[0m | \u001b[36msrc.sample\u001b[0m:\u001b[36msample\u001b[0m:\u001b[36m119\u001b[0m - \u001b[1mAfter randomly removing users - round 11: num_users=222,920\u001b[0m\n",
      "\u001b[32m2025-06-19 02:03:27.265\u001b[0m | \u001b[1mINFO    \u001b[0m | \u001b[36msrc.sample\u001b[0m:\u001b[36msample\u001b[0m:\u001b[36m123\u001b[0m - \u001b[1mNumber of users 222,920 are still greater than expected, keep removing...\u001b[0m\n"
     ]
    },
    {
     "name": "stdout",
     "output_type": "stream",
     "text": [
      "\n",
      "\n",
      "Randomly removing 2197 users - Round 12 started\n"
     ]
    },
    {
     "name": "stderr",
     "output_type": "stream",
     "text": [
      "\u001b[32m2025-06-19 02:03:35.523\u001b[0m | \u001b[1mINFO    \u001b[0m | \u001b[36msrc.sample\u001b[0m:\u001b[36msample\u001b[0m:\u001b[36m119\u001b[0m - \u001b[1mAfter randomly removing users - round 12: num_users=219,741\u001b[0m\n",
      "\u001b[32m2025-06-19 02:03:35.523\u001b[0m | \u001b[1mINFO    \u001b[0m | \u001b[36msrc.sample\u001b[0m:\u001b[36msample\u001b[0m:\u001b[36m123\u001b[0m - \u001b[1mNumber of users 219,741 are still greater than expected, keep removing...\u001b[0m\n"
     ]
    },
    {
     "name": "stdout",
     "output_type": "stream",
     "text": [
      "\n",
      "\n",
      "Randomly removing 2165 users - Round 13 started\n"
     ]
    },
    {
     "name": "stderr",
     "output_type": "stream",
     "text": [
      "\u001b[32m2025-06-19 02:03:41.044\u001b[0m | \u001b[1mINFO    \u001b[0m | \u001b[36msrc.sample\u001b[0m:\u001b[36msample\u001b[0m:\u001b[36m119\u001b[0m - \u001b[1mAfter randomly removing users - round 13: num_users=216,543\u001b[0m\n",
      "\u001b[32m2025-06-19 02:03:41.045\u001b[0m | \u001b[1mINFO    \u001b[0m | \u001b[36msrc.sample\u001b[0m:\u001b[36msample\u001b[0m:\u001b[36m123\u001b[0m - \u001b[1mNumber of users 216,543 are still greater than expected, keep removing...\u001b[0m\n"
     ]
    },
    {
     "name": "stdout",
     "output_type": "stream",
     "text": [
      "\n",
      "\n",
      "Randomly removing 2133 users - Round 14 started\n"
     ]
    },
    {
     "name": "stderr",
     "output_type": "stream",
     "text": [
      "\u001b[32m2025-06-19 02:03:45.954\u001b[0m | \u001b[1mINFO    \u001b[0m | \u001b[36msrc.sample\u001b[0m:\u001b[36msample\u001b[0m:\u001b[36m119\u001b[0m - \u001b[1mAfter randomly removing users - round 14: num_users=213,372\u001b[0m\n",
      "\u001b[32m2025-06-19 02:03:45.954\u001b[0m | \u001b[1mINFO    \u001b[0m | \u001b[36msrc.sample\u001b[0m:\u001b[36msample\u001b[0m:\u001b[36m123\u001b[0m - \u001b[1mNumber of users 213,372 are still greater than expected, keep removing...\u001b[0m\n"
     ]
    },
    {
     "name": "stdout",
     "output_type": "stream",
     "text": [
      "\n",
      "\n",
      "Randomly removing 2102 users - Round 15 started\n"
     ]
    },
    {
     "name": "stderr",
     "output_type": "stream",
     "text": [
      "\u001b[32m2025-06-19 02:03:51.327\u001b[0m | \u001b[1mINFO    \u001b[0m | \u001b[36msrc.sample\u001b[0m:\u001b[36msample\u001b[0m:\u001b[36m119\u001b[0m - \u001b[1mAfter randomly removing users - round 15: num_users=210,253\u001b[0m\n",
      "\u001b[32m2025-06-19 02:03:51.328\u001b[0m | \u001b[1mINFO    \u001b[0m | \u001b[36msrc.sample\u001b[0m:\u001b[36msample\u001b[0m:\u001b[36m123\u001b[0m - \u001b[1mNumber of users 210,253 are still greater than expected, keep removing...\u001b[0m\n"
     ]
    },
    {
     "name": "stdout",
     "output_type": "stream",
     "text": [
      "\n",
      "\n",
      "Randomly removing 2072 users - Round 16 started\n"
     ]
    },
    {
     "name": "stderr",
     "output_type": "stream",
     "text": [
      "\u001b[32m2025-06-19 02:03:55.442\u001b[0m | \u001b[1mINFO    \u001b[0m | \u001b[36msrc.sample\u001b[0m:\u001b[36msample\u001b[0m:\u001b[36m119\u001b[0m - \u001b[1mAfter randomly removing users - round 16: num_users=207,247\u001b[0m\n",
      "\u001b[32m2025-06-19 02:03:55.442\u001b[0m | \u001b[1mINFO    \u001b[0m | \u001b[36msrc.sample\u001b[0m:\u001b[36msample\u001b[0m:\u001b[36m123\u001b[0m - \u001b[1mNumber of users 207,247 are still greater than expected, keep removing...\u001b[0m\n"
     ]
    },
    {
     "name": "stdout",
     "output_type": "stream",
     "text": [
      "\n",
      "\n",
      "Randomly removing 2042 users - Round 17 started\n"
     ]
    },
    {
     "name": "stderr",
     "output_type": "stream",
     "text": [
      "\u001b[32m2025-06-19 02:03:59.409\u001b[0m | \u001b[1mINFO    \u001b[0m | \u001b[36msrc.sample\u001b[0m:\u001b[36msample\u001b[0m:\u001b[36m119\u001b[0m - \u001b[1mAfter randomly removing users - round 17: num_users=204,211\u001b[0m\n",
      "\u001b[32m2025-06-19 02:03:59.410\u001b[0m | \u001b[1mINFO    \u001b[0m | \u001b[36msrc.sample\u001b[0m:\u001b[36msample\u001b[0m:\u001b[36m123\u001b[0m - \u001b[1mNumber of users 204,211 are still greater than expected, keep removing...\u001b[0m\n"
     ]
    },
    {
     "name": "stdout",
     "output_type": "stream",
     "text": [
      "\n",
      "\n",
      "Randomly removing 2013 users - Round 18 started\n"
     ]
    },
    {
     "name": "stderr",
     "output_type": "stream",
     "text": [
      "\u001b[32m2025-06-19 02:04:05.890\u001b[0m | \u001b[1mINFO    \u001b[0m | \u001b[36msrc.sample\u001b[0m:\u001b[36msample\u001b[0m:\u001b[36m119\u001b[0m - \u001b[1mAfter randomly removing users - round 18: num_users=201,316\u001b[0m\n",
      "\u001b[32m2025-06-19 02:04:05.890\u001b[0m | \u001b[1mINFO    \u001b[0m | \u001b[36msrc.sample\u001b[0m:\u001b[36msample\u001b[0m:\u001b[36m123\u001b[0m - \u001b[1mNumber of users 201,316 are still greater than expected, keep removing...\u001b[0m\n"
     ]
    },
    {
     "name": "stdout",
     "output_type": "stream",
     "text": [
      "\n",
      "\n",
      "Randomly removing 1984 users - Round 19 started\n"
     ]
    },
    {
     "name": "stderr",
     "output_type": "stream",
     "text": [
      "\u001b[32m2025-06-19 02:04:12.070\u001b[0m | \u001b[1mINFO    \u001b[0m | \u001b[36msrc.sample\u001b[0m:\u001b[36msample\u001b[0m:\u001b[36m119\u001b[0m - \u001b[1mAfter randomly removing users - round 19: num_users=198,417\u001b[0m\n",
      "\u001b[32m2025-06-19 02:04:12.070\u001b[0m | \u001b[1mINFO    \u001b[0m | \u001b[36msrc.sample\u001b[0m:\u001b[36msample\u001b[0m:\u001b[36m123\u001b[0m - \u001b[1mNumber of users 198,417 are still greater than expected, keep removing...\u001b[0m\n"
     ]
    },
    {
     "name": "stdout",
     "output_type": "stream",
     "text": [
      "\n",
      "\n",
      "Randomly removing 1954 users - Round 20 started\n"
     ]
    },
    {
     "name": "stderr",
     "output_type": "stream",
     "text": [
      "\u001b[32m2025-06-19 02:04:14.579\u001b[0m | \u001b[1mINFO    \u001b[0m | \u001b[36msrc.sample\u001b[0m:\u001b[36msample\u001b[0m:\u001b[36m119\u001b[0m - \u001b[1mAfter randomly removing users - round 20: num_users=195,431\u001b[0m\n",
      "\u001b[32m2025-06-19 02:04:14.580\u001b[0m | \u001b[1mINFO    \u001b[0m | \u001b[36msrc.sample\u001b[0m:\u001b[36msample\u001b[0m:\u001b[36m123\u001b[0m - \u001b[1mNumber of users 195,431 are still greater than expected, keep removing...\u001b[0m\n"
     ]
    },
    {
     "name": "stdout",
     "output_type": "stream",
     "text": [
      "\n",
      "\n",
      "Randomly removing 1925 users - Round 21 started\n"
     ]
    },
    {
     "name": "stderr",
     "output_type": "stream",
     "text": [
      "\u001b[32m2025-06-19 02:04:18.440\u001b[0m | \u001b[1mINFO    \u001b[0m | \u001b[36msrc.sample\u001b[0m:\u001b[36msample\u001b[0m:\u001b[36m119\u001b[0m - \u001b[1mAfter randomly removing users - round 21: num_users=192,575\u001b[0m\n",
      "\u001b[32m2025-06-19 02:04:18.441\u001b[0m | \u001b[1mINFO    \u001b[0m | \u001b[36msrc.sample\u001b[0m:\u001b[36msample\u001b[0m:\u001b[36m123\u001b[0m - \u001b[1mNumber of users 192,575 are still greater than expected, keep removing...\u001b[0m\n"
     ]
    },
    {
     "name": "stdout",
     "output_type": "stream",
     "text": [
      "\n",
      "\n",
      "Randomly removing 1898 users - Round 22 started\n"
     ]
    },
    {
     "name": "stderr",
     "output_type": "stream",
     "text": [
      "\u001b[32m2025-06-19 02:04:22.111\u001b[0m | \u001b[1mINFO    \u001b[0m | \u001b[36msrc.sample\u001b[0m:\u001b[36msample\u001b[0m:\u001b[36m119\u001b[0m - \u001b[1mAfter randomly removing users - round 22: num_users=189,812\u001b[0m\n",
      "\u001b[32m2025-06-19 02:04:22.111\u001b[0m | \u001b[1mINFO    \u001b[0m | \u001b[36msrc.sample\u001b[0m:\u001b[36msample\u001b[0m:\u001b[36m123\u001b[0m - \u001b[1mNumber of users 189,812 are still greater than expected, keep removing...\u001b[0m\n"
     ]
    },
    {
     "name": "stdout",
     "output_type": "stream",
     "text": [
      "\n",
      "\n",
      "Randomly removing 1870 users - Round 23 started\n"
     ]
    },
    {
     "name": "stderr",
     "output_type": "stream",
     "text": [
      "\u001b[32m2025-06-19 02:04:26.207\u001b[0m | \u001b[1mINFO    \u001b[0m | \u001b[36msrc.sample\u001b[0m:\u001b[36msample\u001b[0m:\u001b[36m119\u001b[0m - \u001b[1mAfter randomly removing users - round 23: num_users=187,042\u001b[0m\n",
      "\u001b[32m2025-06-19 02:04:26.208\u001b[0m | \u001b[1mINFO    \u001b[0m | \u001b[36msrc.sample\u001b[0m:\u001b[36msample\u001b[0m:\u001b[36m123\u001b[0m - \u001b[1mNumber of users 187,042 are still greater than expected, keep removing...\u001b[0m\n"
     ]
    },
    {
     "name": "stdout",
     "output_type": "stream",
     "text": [
      "\n",
      "\n",
      "Randomly removing 1841 users - Round 24 started\n"
     ]
    },
    {
     "name": "stderr",
     "output_type": "stream",
     "text": [
      "\u001b[32m2025-06-19 02:04:29.290\u001b[0m | \u001b[1mINFO    \u001b[0m | \u001b[36msrc.sample\u001b[0m:\u001b[36msample\u001b[0m:\u001b[36m119\u001b[0m - \u001b[1mAfter randomly removing users - round 24: num_users=184,139\u001b[0m\n",
      "\u001b[32m2025-06-19 02:04:29.290\u001b[0m | \u001b[1mINFO    \u001b[0m | \u001b[36msrc.sample\u001b[0m:\u001b[36msample\u001b[0m:\u001b[36m123\u001b[0m - \u001b[1mNumber of users 184,139 are still greater than expected, keep removing...\u001b[0m\n"
     ]
    },
    {
     "name": "stdout",
     "output_type": "stream",
     "text": [
      "\n",
      "\n",
      "Randomly removing 1814 users - Round 25 started\n"
     ]
    },
    {
     "name": "stderr",
     "output_type": "stream",
     "text": [
      "\u001b[32m2025-06-19 02:04:32.267\u001b[0m | \u001b[1mINFO    \u001b[0m | \u001b[36msrc.sample\u001b[0m:\u001b[36msample\u001b[0m:\u001b[36m119\u001b[0m - \u001b[1mAfter randomly removing users - round 25: num_users=181,403\u001b[0m\n",
      "\u001b[32m2025-06-19 02:04:32.268\u001b[0m | \u001b[1mINFO    \u001b[0m | \u001b[36msrc.sample\u001b[0m:\u001b[36msample\u001b[0m:\u001b[36m123\u001b[0m - \u001b[1mNumber of users 181,403 are still greater than expected, keep removing...\u001b[0m\n"
     ]
    },
    {
     "name": "stdout",
     "output_type": "stream",
     "text": [
      "\n",
      "\n",
      "Randomly removing 1787 users - Round 26 started\n"
     ]
    },
    {
     "name": "stderr",
     "output_type": "stream",
     "text": [
      "\u001b[32m2025-06-19 02:04:35.766\u001b[0m | \u001b[1mINFO    \u001b[0m | \u001b[36msrc.sample\u001b[0m:\u001b[36msample\u001b[0m:\u001b[36m119\u001b[0m - \u001b[1mAfter randomly removing users - round 26: num_users=178,749\u001b[0m\n",
      "\u001b[32m2025-06-19 02:04:35.767\u001b[0m | \u001b[1mINFO    \u001b[0m | \u001b[36msrc.sample\u001b[0m:\u001b[36msample\u001b[0m:\u001b[36m123\u001b[0m - \u001b[1mNumber of users 178,749 are still greater than expected, keep removing...\u001b[0m\n"
     ]
    },
    {
     "name": "stdout",
     "output_type": "stream",
     "text": [
      "\n",
      "\n",
      "Randomly removing 1761 users - Round 27 started\n"
     ]
    },
    {
     "name": "stderr",
     "output_type": "stream",
     "text": [
      "\u001b[32m2025-06-19 02:04:38.631\u001b[0m | \u001b[1mINFO    \u001b[0m | \u001b[36msrc.sample\u001b[0m:\u001b[36msample\u001b[0m:\u001b[36m119\u001b[0m - \u001b[1mAfter randomly removing users - round 27: num_users=176,185\u001b[0m\n",
      "\u001b[32m2025-06-19 02:04:38.631\u001b[0m | \u001b[1mINFO    \u001b[0m | \u001b[36msrc.sample\u001b[0m:\u001b[36msample\u001b[0m:\u001b[36m123\u001b[0m - \u001b[1mNumber of users 176,185 are still greater than expected, keep removing...\u001b[0m\n"
     ]
    },
    {
     "name": "stdout",
     "output_type": "stream",
     "text": [
      "\n",
      "\n",
      "Randomly removing 1735 users - Round 28 started\n"
     ]
    },
    {
     "name": "stderr",
     "output_type": "stream",
     "text": [
      "\u001b[32m2025-06-19 02:04:43.543\u001b[0m | \u001b[1mINFO    \u001b[0m | \u001b[36msrc.sample\u001b[0m:\u001b[36msample\u001b[0m:\u001b[36m119\u001b[0m - \u001b[1mAfter randomly removing users - round 28: num_users=173,578\u001b[0m\n",
      "\u001b[32m2025-06-19 02:04:43.544\u001b[0m | \u001b[1mINFO    \u001b[0m | \u001b[36msrc.sample\u001b[0m:\u001b[36msample\u001b[0m:\u001b[36m123\u001b[0m - \u001b[1mNumber of users 173,578 are still greater than expected, keep removing...\u001b[0m\n"
     ]
    },
    {
     "name": "stdout",
     "output_type": "stream",
     "text": [
      "\n",
      "\n",
      "Randomly removing 1707 users - Round 29 started\n"
     ]
    },
    {
     "name": "stderr",
     "output_type": "stream",
     "text": [
      "\u001b[32m2025-06-19 02:04:46.817\u001b[0m | \u001b[1mINFO    \u001b[0m | \u001b[36msrc.sample\u001b[0m:\u001b[36msample\u001b[0m:\u001b[36m119\u001b[0m - \u001b[1mAfter randomly removing users - round 29: num_users=170,747\u001b[0m\n",
      "\u001b[32m2025-06-19 02:04:46.817\u001b[0m | \u001b[1mINFO    \u001b[0m | \u001b[36msrc.sample\u001b[0m:\u001b[36msample\u001b[0m:\u001b[36m123\u001b[0m - \u001b[1mNumber of users 170,747 are still greater than expected, keep removing...\u001b[0m\n"
     ]
    },
    {
     "name": "stdout",
     "output_type": "stream",
     "text": [
      "\n",
      "\n",
      "Randomly removing 1682 users - Round 30 started\n"
     ]
    },
    {
     "name": "stderr",
     "output_type": "stream",
     "text": [
      "\u001b[32m2025-06-19 02:04:50.139\u001b[0m | \u001b[1mINFO    \u001b[0m | \u001b[36msrc.sample\u001b[0m:\u001b[36msample\u001b[0m:\u001b[36m119\u001b[0m - \u001b[1mAfter randomly removing users - round 30: num_users=168,285\u001b[0m\n",
      "\u001b[32m2025-06-19 02:04:50.139\u001b[0m | \u001b[1mINFO    \u001b[0m | \u001b[36msrc.sample\u001b[0m:\u001b[36msample\u001b[0m:\u001b[36m123\u001b[0m - \u001b[1mNumber of users 168,285 are still greater than expected, keep removing...\u001b[0m\n"
     ]
    },
    {
     "name": "stdout",
     "output_type": "stream",
     "text": [
      "\n",
      "\n",
      "Randomly removing 1656 users - Round 31 started\n"
     ]
    },
    {
     "name": "stderr",
     "output_type": "stream",
     "text": [
      "\u001b[32m2025-06-19 02:04:53.330\u001b[0m | \u001b[1mINFO    \u001b[0m | \u001b[36msrc.sample\u001b[0m:\u001b[36msample\u001b[0m:\u001b[36m119\u001b[0m - \u001b[1mAfter randomly removing users - round 31: num_users=165,654\u001b[0m\n",
      "\u001b[32m2025-06-19 02:04:53.330\u001b[0m | \u001b[1mINFO    \u001b[0m | \u001b[36msrc.sample\u001b[0m:\u001b[36msample\u001b[0m:\u001b[36m123\u001b[0m - \u001b[1mNumber of users 165,654 are still greater than expected, keep removing...\u001b[0m\n"
     ]
    },
    {
     "name": "stdout",
     "output_type": "stream",
     "text": [
      "\n",
      "\n",
      "Randomly removing 1631 users - Round 32 started\n"
     ]
    },
    {
     "name": "stderr",
     "output_type": "stream",
     "text": [
      "\u001b[32m2025-06-19 02:04:56.037\u001b[0m | \u001b[1mINFO    \u001b[0m | \u001b[36msrc.sample\u001b[0m:\u001b[36msample\u001b[0m:\u001b[36m119\u001b[0m - \u001b[1mAfter randomly removing users - round 32: num_users=163,171\u001b[0m\n",
      "\u001b[32m2025-06-19 02:04:56.037\u001b[0m | \u001b[1mINFO    \u001b[0m | \u001b[36msrc.sample\u001b[0m:\u001b[36msample\u001b[0m:\u001b[36m123\u001b[0m - \u001b[1mNumber of users 163,171 are still greater than expected, keep removing...\u001b[0m\n"
     ]
    },
    {
     "name": "stdout",
     "output_type": "stream",
     "text": [
      "\n",
      "\n",
      "Randomly removing 1608 users - Round 33 started\n"
     ]
    },
    {
     "name": "stderr",
     "output_type": "stream",
     "text": [
      "\u001b[32m2025-06-19 02:05:00.003\u001b[0m | \u001b[1mINFO    \u001b[0m | \u001b[36msrc.sample\u001b[0m:\u001b[36msample\u001b[0m:\u001b[36m119\u001b[0m - \u001b[1mAfter randomly removing users - round 33: num_users=160,823\u001b[0m\n",
      "\u001b[32m2025-06-19 02:05:00.004\u001b[0m | \u001b[1mINFO    \u001b[0m | \u001b[36msrc.sample\u001b[0m:\u001b[36msample\u001b[0m:\u001b[36m123\u001b[0m - \u001b[1mNumber of users 160,823 are still greater than expected, keep removing...\u001b[0m\n"
     ]
    },
    {
     "name": "stdout",
     "output_type": "stream",
     "text": [
      "\n",
      "\n",
      "Randomly removing 1584 users - Round 34 started\n"
     ]
    },
    {
     "name": "stderr",
     "output_type": "stream",
     "text": [
      "\u001b[32m2025-06-19 02:05:03.487\u001b[0m | \u001b[1mINFO    \u001b[0m | \u001b[36msrc.sample\u001b[0m:\u001b[36msample\u001b[0m:\u001b[36m119\u001b[0m - \u001b[1mAfter randomly removing users - round 34: num_users=158,495\u001b[0m\n",
      "\u001b[32m2025-06-19 02:05:03.488\u001b[0m | \u001b[1mINFO    \u001b[0m | \u001b[36msrc.sample\u001b[0m:\u001b[36msample\u001b[0m:\u001b[36m123\u001b[0m - \u001b[1mNumber of users 158,495 are still greater than expected, keep removing...\u001b[0m\n"
     ]
    },
    {
     "name": "stdout",
     "output_type": "stream",
     "text": [
      "\n",
      "\n",
      "Randomly removing 1560 users - Round 35 started\n"
     ]
    },
    {
     "name": "stderr",
     "output_type": "stream",
     "text": [
      "\u001b[32m2025-06-19 02:05:06.491\u001b[0m | \u001b[1mINFO    \u001b[0m | \u001b[36msrc.sample\u001b[0m:\u001b[36msample\u001b[0m:\u001b[36m119\u001b[0m - \u001b[1mAfter randomly removing users - round 35: num_users=156,058\u001b[0m\n",
      "\u001b[32m2025-06-19 02:05:06.491\u001b[0m | \u001b[1mINFO    \u001b[0m | \u001b[36msrc.sample\u001b[0m:\u001b[36msample\u001b[0m:\u001b[36m123\u001b[0m - \u001b[1mNumber of users 156,058 are still greater than expected, keep removing...\u001b[0m\n"
     ]
    },
    {
     "name": "stdout",
     "output_type": "stream",
     "text": [
      "\n",
      "\n",
      "Randomly removing 1536 users - Round 36 started\n"
     ]
    },
    {
     "name": "stderr",
     "output_type": "stream",
     "text": [
      "\u001b[32m2025-06-19 02:05:09.641\u001b[0m | \u001b[1mINFO    \u001b[0m | \u001b[36msrc.sample\u001b[0m:\u001b[36msample\u001b[0m:\u001b[36m119\u001b[0m - \u001b[1mAfter randomly removing users - round 36: num_users=153,630\u001b[0m\n",
      "\u001b[32m2025-06-19 02:05:09.642\u001b[0m | \u001b[1mINFO    \u001b[0m | \u001b[36msrc.sample\u001b[0m:\u001b[36msample\u001b[0m:\u001b[36m123\u001b[0m - \u001b[1mNumber of users 153,630 are still greater than expected, keep removing...\u001b[0m\n"
     ]
    },
    {
     "name": "stdout",
     "output_type": "stream",
     "text": [
      "\n",
      "\n",
      "Randomly removing 1512 users - Round 37 started\n"
     ]
    },
    {
     "name": "stderr",
     "output_type": "stream",
     "text": [
      "\u001b[32m2025-06-19 02:05:12.130\u001b[0m | \u001b[1mINFO    \u001b[0m | \u001b[36msrc.sample\u001b[0m:\u001b[36msample\u001b[0m:\u001b[36m119\u001b[0m - \u001b[1mAfter randomly removing users - round 37: num_users=151,201\u001b[0m\n",
      "\u001b[32m2025-06-19 02:05:12.131\u001b[0m | \u001b[1mINFO    \u001b[0m | \u001b[36msrc.sample\u001b[0m:\u001b[36msample\u001b[0m:\u001b[36m123\u001b[0m - \u001b[1mNumber of users 151,201 are still greater than expected, keep removing...\u001b[0m\n"
     ]
    },
    {
     "name": "stdout",
     "output_type": "stream",
     "text": [
      "\n",
      "\n",
      "Randomly removing 1489 users - Round 38 started\n"
     ]
    },
    {
     "name": "stderr",
     "output_type": "stream",
     "text": [
      "\u001b[32m2025-06-19 02:05:15.437\u001b[0m | \u001b[1mINFO    \u001b[0m | \u001b[36msrc.sample\u001b[0m:\u001b[36msample\u001b[0m:\u001b[36m119\u001b[0m - \u001b[1mAfter randomly removing users - round 38: num_users=148,939\u001b[0m\n",
      "\u001b[32m2025-06-19 02:05:15.437\u001b[0m | \u001b[1mINFO    \u001b[0m | \u001b[36msrc.sample\u001b[0m:\u001b[36msample\u001b[0m:\u001b[36m123\u001b[0m - \u001b[1mNumber of users 148,939 are still greater than expected, keep removing...\u001b[0m\n"
     ]
    },
    {
     "name": "stdout",
     "output_type": "stream",
     "text": [
      "\n",
      "\n",
      "Randomly removing 1466 users - Round 39 started\n"
     ]
    },
    {
     "name": "stderr",
     "output_type": "stream",
     "text": [
      "\u001b[32m2025-06-19 02:05:18.718\u001b[0m | \u001b[1mINFO    \u001b[0m | \u001b[36msrc.sample\u001b[0m:\u001b[36msample\u001b[0m:\u001b[36m119\u001b[0m - \u001b[1mAfter randomly removing users - round 39: num_users=146,627\u001b[0m\n",
      "\u001b[32m2025-06-19 02:05:18.718\u001b[0m | \u001b[1mINFO    \u001b[0m | \u001b[36msrc.sample\u001b[0m:\u001b[36msample\u001b[0m:\u001b[36m123\u001b[0m - \u001b[1mNumber of users 146,627 are still greater than expected, keep removing...\u001b[0m\n"
     ]
    },
    {
     "name": "stdout",
     "output_type": "stream",
     "text": [
      "\n",
      "\n",
      "Randomly removing 1442 users - Round 40 started\n"
     ]
    },
    {
     "name": "stderr",
     "output_type": "stream",
     "text": [
      "\u001b[32m2025-06-19 02:05:21.041\u001b[0m | \u001b[1mINFO    \u001b[0m | \u001b[36msrc.sample\u001b[0m:\u001b[36msample\u001b[0m:\u001b[36m119\u001b[0m - \u001b[1mAfter randomly removing users - round 40: num_users=144,265\u001b[0m\n",
      "\u001b[32m2025-06-19 02:05:21.041\u001b[0m | \u001b[1mINFO    \u001b[0m | \u001b[36msrc.sample\u001b[0m:\u001b[36msample\u001b[0m:\u001b[36m123\u001b[0m - \u001b[1mNumber of users 144,265 are still greater than expected, keep removing...\u001b[0m\n"
     ]
    },
    {
     "name": "stdout",
     "output_type": "stream",
     "text": [
      "\n",
      "\n",
      "Randomly removing 1421 users - Round 41 started\n"
     ]
    },
    {
     "name": "stderr",
     "output_type": "stream",
     "text": [
      "\u001b[32m2025-06-19 02:05:23.785\u001b[0m | \u001b[1mINFO    \u001b[0m | \u001b[36msrc.sample\u001b[0m:\u001b[36msample\u001b[0m:\u001b[36m119\u001b[0m - \u001b[1mAfter randomly removing users - round 41: num_users=142,145\u001b[0m\n",
      "\u001b[32m2025-06-19 02:05:23.786\u001b[0m | \u001b[1mINFO    \u001b[0m | \u001b[36msrc.sample\u001b[0m:\u001b[36msample\u001b[0m:\u001b[36m123\u001b[0m - \u001b[1mNumber of users 142,145 are still greater than expected, keep removing...\u001b[0m\n"
     ]
    },
    {
     "name": "stdout",
     "output_type": "stream",
     "text": [
      "\n",
      "\n",
      "Randomly removing 1399 users - Round 42 started\n"
     ]
    },
    {
     "name": "stderr",
     "output_type": "stream",
     "text": [
      "\u001b[32m2025-06-19 02:05:26.882\u001b[0m | \u001b[1mINFO    \u001b[0m | \u001b[36msrc.sample\u001b[0m:\u001b[36msample\u001b[0m:\u001b[36m119\u001b[0m - \u001b[1mAfter randomly removing users - round 42: num_users=139,931\u001b[0m\n",
      "\u001b[32m2025-06-19 02:05:26.882\u001b[0m | \u001b[1mINFO    \u001b[0m | \u001b[36msrc.sample\u001b[0m:\u001b[36msample\u001b[0m:\u001b[36m123\u001b[0m - \u001b[1mNumber of users 139,931 are still greater than expected, keep removing...\u001b[0m\n"
     ]
    },
    {
     "name": "stdout",
     "output_type": "stream",
     "text": [
      "\n",
      "\n",
      "Randomly removing 1377 users - Round 43 started\n"
     ]
    },
    {
     "name": "stderr",
     "output_type": "stream",
     "text": [
      "\u001b[32m2025-06-19 02:05:31.559\u001b[0m | \u001b[1mINFO    \u001b[0m | \u001b[36msrc.sample\u001b[0m:\u001b[36msample\u001b[0m:\u001b[36m119\u001b[0m - \u001b[1mAfter randomly removing users - round 43: num_users=137,773\u001b[0m\n",
      "\u001b[32m2025-06-19 02:05:31.559\u001b[0m | \u001b[1mINFO    \u001b[0m | \u001b[36msrc.sample\u001b[0m:\u001b[36msample\u001b[0m:\u001b[36m123\u001b[0m - \u001b[1mNumber of users 137,773 are still greater than expected, keep removing...\u001b[0m\n"
     ]
    },
    {
     "name": "stdout",
     "output_type": "stream",
     "text": [
      "\n",
      "\n",
      "Randomly removing 1355 users - Round 44 started\n"
     ]
    },
    {
     "name": "stderr",
     "output_type": "stream",
     "text": [
      "\u001b[32m2025-06-19 02:05:33.738\u001b[0m | \u001b[1mINFO    \u001b[0m | \u001b[36msrc.sample\u001b[0m:\u001b[36msample\u001b[0m:\u001b[36m119\u001b[0m - \u001b[1mAfter randomly removing users - round 44: num_users=135,549\u001b[0m\n",
      "\u001b[32m2025-06-19 02:05:33.738\u001b[0m | \u001b[1mINFO    \u001b[0m | \u001b[36msrc.sample\u001b[0m:\u001b[36msample\u001b[0m:\u001b[36m123\u001b[0m - \u001b[1mNumber of users 135,549 are still greater than expected, keep removing...\u001b[0m\n"
     ]
    },
    {
     "name": "stdout",
     "output_type": "stream",
     "text": [
      "\n",
      "\n",
      "Randomly removing 1334 users - Round 45 started\n"
     ]
    },
    {
     "name": "stderr",
     "output_type": "stream",
     "text": [
      "\u001b[32m2025-06-19 02:05:36.319\u001b[0m | \u001b[1mINFO    \u001b[0m | \u001b[36msrc.sample\u001b[0m:\u001b[36msample\u001b[0m:\u001b[36m119\u001b[0m - \u001b[1mAfter randomly removing users - round 45: num_users=133,488\u001b[0m\n",
      "\u001b[32m2025-06-19 02:05:36.320\u001b[0m | \u001b[1mINFO    \u001b[0m | \u001b[36msrc.sample\u001b[0m:\u001b[36msample\u001b[0m:\u001b[36m123\u001b[0m - \u001b[1mNumber of users 133,488 are still greater than expected, keep removing...\u001b[0m\n"
     ]
    },
    {
     "name": "stdout",
     "output_type": "stream",
     "text": [
      "\n",
      "\n",
      "Randomly removing 1313 users - Round 46 started\n"
     ]
    },
    {
     "name": "stderr",
     "output_type": "stream",
     "text": [
      "\u001b[32m2025-06-19 02:05:39.597\u001b[0m | \u001b[1mINFO    \u001b[0m | \u001b[36msrc.sample\u001b[0m:\u001b[36msample\u001b[0m:\u001b[36m119\u001b[0m - \u001b[1mAfter randomly removing users - round 46: num_users=131,359\u001b[0m\n",
      "\u001b[32m2025-06-19 02:05:39.598\u001b[0m | \u001b[1mINFO    \u001b[0m | \u001b[36msrc.sample\u001b[0m:\u001b[36msample\u001b[0m:\u001b[36m123\u001b[0m - \u001b[1mNumber of users 131,359 are still greater than expected, keep removing...\u001b[0m\n"
     ]
    },
    {
     "name": "stdout",
     "output_type": "stream",
     "text": [
      "\n",
      "\n",
      "Randomly removing 1290 users - Round 47 started\n"
     ]
    },
    {
     "name": "stderr",
     "output_type": "stream",
     "text": [
      "\u001b[32m2025-06-19 02:05:42.332\u001b[0m | \u001b[1mINFO    \u001b[0m | \u001b[36msrc.sample\u001b[0m:\u001b[36msample\u001b[0m:\u001b[36m119\u001b[0m - \u001b[1mAfter randomly removing users - round 47: num_users=129,077\u001b[0m\n",
      "\u001b[32m2025-06-19 02:05:42.333\u001b[0m | \u001b[1mINFO    \u001b[0m | \u001b[36msrc.sample\u001b[0m:\u001b[36msample\u001b[0m:\u001b[36m123\u001b[0m - \u001b[1mNumber of users 129,077 are still greater than expected, keep removing...\u001b[0m\n"
     ]
    },
    {
     "name": "stdout",
     "output_type": "stream",
     "text": [
      "\n",
      "\n",
      "Randomly removing 1270 users - Round 48 started\n"
     ]
    },
    {
     "name": "stderr",
     "output_type": "stream",
     "text": [
      "\u001b[32m2025-06-19 02:05:44.757\u001b[0m | \u001b[1mINFO    \u001b[0m | \u001b[36msrc.sample\u001b[0m:\u001b[36msample\u001b[0m:\u001b[36m119\u001b[0m - \u001b[1mAfter randomly removing users - round 48: num_users=127,031\u001b[0m\n",
      "\u001b[32m2025-06-19 02:05:44.757\u001b[0m | \u001b[1mINFO    \u001b[0m | \u001b[36msrc.sample\u001b[0m:\u001b[36msample\u001b[0m:\u001b[36m123\u001b[0m - \u001b[1mNumber of users 127,031 are still greater than expected, keep removing...\u001b[0m\n"
     ]
    },
    {
     "name": "stdout",
     "output_type": "stream",
     "text": [
      "\n",
      "\n",
      "Randomly removing 1249 users - Round 49 started\n"
     ]
    },
    {
     "name": "stderr",
     "output_type": "stream",
     "text": [
      "\u001b[32m2025-06-19 02:05:47.957\u001b[0m | \u001b[1mINFO    \u001b[0m | \u001b[36msrc.sample\u001b[0m:\u001b[36msample\u001b[0m:\u001b[36m119\u001b[0m - \u001b[1mAfter randomly removing users - round 49: num_users=124,941\u001b[0m\n",
      "\u001b[32m2025-06-19 02:05:47.958\u001b[0m | \u001b[1mINFO    \u001b[0m | \u001b[36msrc.sample\u001b[0m:\u001b[36msample\u001b[0m:\u001b[36m123\u001b[0m - \u001b[1mNumber of users 124,941 are still greater than expected, keep removing...\u001b[0m\n"
     ]
    },
    {
     "name": "stdout",
     "output_type": "stream",
     "text": [
      "\n",
      "\n",
      "Randomly removing 1229 users - Round 50 started\n"
     ]
    },
    {
     "name": "stderr",
     "output_type": "stream",
     "text": [
      "\u001b[32m2025-06-19 02:05:50.391\u001b[0m | \u001b[1mINFO    \u001b[0m | \u001b[36msrc.sample\u001b[0m:\u001b[36msample\u001b[0m:\u001b[36m119\u001b[0m - \u001b[1mAfter randomly removing users - round 50: num_users=122,950\u001b[0m\n",
      "\u001b[32m2025-06-19 02:05:50.392\u001b[0m | \u001b[1mINFO    \u001b[0m | \u001b[36msrc.sample\u001b[0m:\u001b[36msample\u001b[0m:\u001b[36m123\u001b[0m - \u001b[1mNumber of users 122,950 are still greater than expected, keep removing...\u001b[0m\n"
     ]
    },
    {
     "name": "stdout",
     "output_type": "stream",
     "text": [
      "\n",
      "\n",
      "Randomly removing 1209 users - Round 51 started\n"
     ]
    },
    {
     "name": "stderr",
     "output_type": "stream",
     "text": [
      "\u001b[32m2025-06-19 02:05:53.023\u001b[0m | \u001b[1mINFO    \u001b[0m | \u001b[36msrc.sample\u001b[0m:\u001b[36msample\u001b[0m:\u001b[36m119\u001b[0m - \u001b[1mAfter randomly removing users - round 51: num_users=120,922\u001b[0m\n",
      "\u001b[32m2025-06-19 02:05:53.024\u001b[0m | \u001b[1mINFO    \u001b[0m | \u001b[36msrc.sample\u001b[0m:\u001b[36msample\u001b[0m:\u001b[36m123\u001b[0m - \u001b[1mNumber of users 120,922 are still greater than expected, keep removing...\u001b[0m\n"
     ]
    },
    {
     "name": "stdout",
     "output_type": "stream",
     "text": [
      "\n",
      "\n",
      "Randomly removing 1188 users - Round 52 started\n"
     ]
    },
    {
     "name": "stderr",
     "output_type": "stream",
     "text": [
      "\u001b[32m2025-06-19 02:05:54.920\u001b[0m | \u001b[1mINFO    \u001b[0m | \u001b[36msrc.sample\u001b[0m:\u001b[36msample\u001b[0m:\u001b[36m119\u001b[0m - \u001b[1mAfter randomly removing users - round 52: num_users=118,871\u001b[0m\n",
      "\u001b[32m2025-06-19 02:05:54.920\u001b[0m | \u001b[1mINFO    \u001b[0m | \u001b[36msrc.sample\u001b[0m:\u001b[36msample\u001b[0m:\u001b[36m123\u001b[0m - \u001b[1mNumber of users 118,871 are still greater than expected, keep removing...\u001b[0m\n"
     ]
    },
    {
     "name": "stdout",
     "output_type": "stream",
     "text": [
      "\n",
      "\n",
      "Randomly removing 1170 users - Round 53 started\n"
     ]
    },
    {
     "name": "stderr",
     "output_type": "stream",
     "text": [
      "\u001b[32m2025-06-19 02:05:56.792\u001b[0m | \u001b[1mINFO    \u001b[0m | \u001b[36msrc.sample\u001b[0m:\u001b[36msample\u001b[0m:\u001b[36m119\u001b[0m - \u001b[1mAfter randomly removing users - round 53: num_users=117,000\u001b[0m\n",
      "\u001b[32m2025-06-19 02:05:56.792\u001b[0m | \u001b[1mINFO    \u001b[0m | \u001b[36msrc.sample\u001b[0m:\u001b[36msample\u001b[0m:\u001b[36m123\u001b[0m - \u001b[1mNumber of users 117,000 are still greater than expected, keep removing...\u001b[0m\n"
     ]
    },
    {
     "name": "stdout",
     "output_type": "stream",
     "text": [
      "\n",
      "\n",
      "Randomly removing 1151 users - Round 54 started\n"
     ]
    },
    {
     "name": "stderr",
     "output_type": "stream",
     "text": [
      "\u001b[32m2025-06-19 02:06:00.900\u001b[0m | \u001b[1mINFO    \u001b[0m | \u001b[36msrc.sample\u001b[0m:\u001b[36msample\u001b[0m:\u001b[36m119\u001b[0m - \u001b[1mAfter randomly removing users - round 54: num_users=115,120\u001b[0m\n",
      "\u001b[32m2025-06-19 02:06:00.901\u001b[0m | \u001b[1mINFO    \u001b[0m | \u001b[36msrc.sample\u001b[0m:\u001b[36msample\u001b[0m:\u001b[36m123\u001b[0m - \u001b[1mNumber of users 115,120 are still greater than expected, keep removing...\u001b[0m\n"
     ]
    },
    {
     "name": "stdout",
     "output_type": "stream",
     "text": [
      "\n",
      "\n",
      "Randomly removing 1132 users - Round 55 started\n"
     ]
    },
    {
     "name": "stderr",
     "output_type": "stream",
     "text": [
      "\u001b[32m2025-06-19 02:06:03.034\u001b[0m | \u001b[1mINFO    \u001b[0m | \u001b[36msrc.sample\u001b[0m:\u001b[36msample\u001b[0m:\u001b[36m119\u001b[0m - \u001b[1mAfter randomly removing users - round 55: num_users=113,204\u001b[0m\n",
      "\u001b[32m2025-06-19 02:06:03.035\u001b[0m | \u001b[1mINFO    \u001b[0m | \u001b[36msrc.sample\u001b[0m:\u001b[36msample\u001b[0m:\u001b[36m123\u001b[0m - \u001b[1mNumber of users 113,204 are still greater than expected, keep removing...\u001b[0m\n"
     ]
    },
    {
     "name": "stdout",
     "output_type": "stream",
     "text": [
      "\n",
      "\n",
      "Randomly removing 1113 users - Round 56 started\n"
     ]
    },
    {
     "name": "stderr",
     "output_type": "stream",
     "text": [
      "\u001b[32m2025-06-19 02:06:06.374\u001b[0m | \u001b[1mINFO    \u001b[0m | \u001b[36msrc.sample\u001b[0m:\u001b[36msample\u001b[0m:\u001b[36m119\u001b[0m - \u001b[1mAfter randomly removing users - round 56: num_users=111,326\u001b[0m\n",
      "\u001b[32m2025-06-19 02:06:06.375\u001b[0m | \u001b[1mINFO    \u001b[0m | \u001b[36msrc.sample\u001b[0m:\u001b[36msample\u001b[0m:\u001b[36m123\u001b[0m - \u001b[1mNumber of users 111,326 are still greater than expected, keep removing...\u001b[0m\n"
     ]
    },
    {
     "name": "stdout",
     "output_type": "stream",
     "text": [
      "\n",
      "\n",
      "Randomly removing 1093 users - Round 57 started\n"
     ]
    },
    {
     "name": "stderr",
     "output_type": "stream",
     "text": [
      "\u001b[32m2025-06-19 02:06:08.812\u001b[0m | \u001b[1mINFO    \u001b[0m | \u001b[36msrc.sample\u001b[0m:\u001b[36msample\u001b[0m:\u001b[36m119\u001b[0m - \u001b[1mAfter randomly removing users - round 57: num_users=109,353\u001b[0m\n",
      "\u001b[32m2025-06-19 02:06:08.813\u001b[0m | \u001b[1mINFO    \u001b[0m | \u001b[36msrc.sample\u001b[0m:\u001b[36msample\u001b[0m:\u001b[36m123\u001b[0m - \u001b[1mNumber of users 109,353 are still greater than expected, keep removing...\u001b[0m\n"
     ]
    },
    {
     "name": "stdout",
     "output_type": "stream",
     "text": [
      "\n",
      "\n",
      "Randomly removing 1074 users - Round 58 started\n"
     ]
    },
    {
     "name": "stderr",
     "output_type": "stream",
     "text": [
      "\u001b[32m2025-06-19 02:06:11.511\u001b[0m | \u001b[1mINFO    \u001b[0m | \u001b[36msrc.sample\u001b[0m:\u001b[36msample\u001b[0m:\u001b[36m119\u001b[0m - \u001b[1mAfter randomly removing users - round 58: num_users=107,462\u001b[0m\n",
      "\u001b[32m2025-06-19 02:06:11.511\u001b[0m | \u001b[1mINFO    \u001b[0m | \u001b[36msrc.sample\u001b[0m:\u001b[36msample\u001b[0m:\u001b[36m123\u001b[0m - \u001b[1mNumber of users 107,462 are still greater than expected, keep removing...\u001b[0m\n"
     ]
    },
    {
     "name": "stdout",
     "output_type": "stream",
     "text": [
      "\n",
      "\n",
      "Randomly removing 1055 users - Round 59 started\n"
     ]
    },
    {
     "name": "stderr",
     "output_type": "stream",
     "text": [
      "\u001b[32m2025-06-19 02:06:13.783\u001b[0m | \u001b[1mINFO    \u001b[0m | \u001b[36msrc.sample\u001b[0m:\u001b[36msample\u001b[0m:\u001b[36m119\u001b[0m - \u001b[1mAfter randomly removing users - round 59: num_users=105,583\u001b[0m\n",
      "\u001b[32m2025-06-19 02:06:13.784\u001b[0m | \u001b[1mINFO    \u001b[0m | \u001b[36msrc.sample\u001b[0m:\u001b[36msample\u001b[0m:\u001b[36m123\u001b[0m - \u001b[1mNumber of users 105,583 are still greater than expected, keep removing...\u001b[0m\n"
     ]
    },
    {
     "name": "stdout",
     "output_type": "stream",
     "text": [
      "\n",
      "\n",
      "Randomly removing 1038 users - Round 60 started\n"
     ]
    },
    {
     "name": "stderr",
     "output_type": "stream",
     "text": [
      "\u001b[32m2025-06-19 02:06:15.763\u001b[0m | \u001b[1mINFO    \u001b[0m | \u001b[36msrc.sample\u001b[0m:\u001b[36msample\u001b[0m:\u001b[36m119\u001b[0m - \u001b[1mAfter randomly removing users - round 60: num_users=103,886\u001b[0m\n",
      "\u001b[32m2025-06-19 02:06:15.763\u001b[0m | \u001b[1mINFO    \u001b[0m | \u001b[36msrc.sample\u001b[0m:\u001b[36msample\u001b[0m:\u001b[36m123\u001b[0m - \u001b[1mNumber of users 103,886 are still greater than expected, keep removing...\u001b[0m\n"
     ]
    },
    {
     "name": "stdout",
     "output_type": "stream",
     "text": [
      "\n",
      "\n",
      "Randomly removing 1022 users - Round 61 started\n"
     ]
    },
    {
     "name": "stderr",
     "output_type": "stream",
     "text": [
      "\u001b[32m2025-06-19 02:06:17.361\u001b[0m | \u001b[1mINFO    \u001b[0m | \u001b[36msrc.sample\u001b[0m:\u001b[36msample\u001b[0m:\u001b[36m119\u001b[0m - \u001b[1mAfter randomly removing users - round 61: num_users=102,204\u001b[0m\n",
      "\u001b[32m2025-06-19 02:06:17.362\u001b[0m | \u001b[1mINFO    \u001b[0m | \u001b[36msrc.sample\u001b[0m:\u001b[36msample\u001b[0m:\u001b[36m123\u001b[0m - \u001b[1mNumber of users 102,204 are still greater than expected, keep removing...\u001b[0m\n"
     ]
    },
    {
     "name": "stdout",
     "output_type": "stream",
     "text": [
      "\n",
      "\n",
      "Randomly removing 1004 users - Round 62 started\n"
     ]
    },
    {
     "name": "stderr",
     "output_type": "stream",
     "text": [
      "\u001b[32m2025-06-19 02:06:19.799\u001b[0m | \u001b[1mINFO    \u001b[0m | \u001b[36msrc.sample\u001b[0m:\u001b[36msample\u001b[0m:\u001b[36m119\u001b[0m - \u001b[1mAfter randomly removing users - round 62: num_users=100,461\u001b[0m\n",
      "\u001b[32m2025-06-19 02:06:19.800\u001b[0m | \u001b[1mINFO    \u001b[0m | \u001b[36msrc.sample\u001b[0m:\u001b[36msample\u001b[0m:\u001b[36m123\u001b[0m - \u001b[1mNumber of users 100,461 are still greater than expected, keep removing...\u001b[0m\n"
     ]
    },
    {
     "name": "stdout",
     "output_type": "stream",
     "text": [
      "\n",
      "\n",
      "Randomly removing 988 users - Round 63 started\n"
     ]
    },
    {
     "name": "stderr",
     "output_type": "stream",
     "text": [
      "\u001b[32m2025-06-19 02:06:21.934\u001b[0m | \u001b[1mINFO    \u001b[0m | \u001b[36msrc.sample\u001b[0m:\u001b[36msample\u001b[0m:\u001b[36m119\u001b[0m - \u001b[1mAfter randomly removing users - round 63: num_users=98,821\u001b[0m\n",
      "\u001b[32m2025-06-19 02:06:21.935\u001b[0m | \u001b[1mINFO    \u001b[0m | \u001b[36msrc.sample\u001b[0m:\u001b[36msample\u001b[0m:\u001b[36m123\u001b[0m - \u001b[1mNumber of users 98,821 are still greater than expected, keep removing...\u001b[0m\n"
     ]
    },
    {
     "name": "stdout",
     "output_type": "stream",
     "text": [
      "\n",
      "\n",
      "Randomly removing 970 users - Round 64 started\n"
     ]
    },
    {
     "name": "stderr",
     "output_type": "stream",
     "text": [
      "\u001b[32m2025-06-19 02:06:23.405\u001b[0m | \u001b[1mINFO    \u001b[0m | \u001b[36msrc.sample\u001b[0m:\u001b[36msample\u001b[0m:\u001b[36m119\u001b[0m - \u001b[1mAfter randomly removing users - round 64: num_users=97,095\u001b[0m\n",
      "\u001b[32m2025-06-19 02:06:23.405\u001b[0m | \u001b[1mINFO    \u001b[0m | \u001b[36msrc.sample\u001b[0m:\u001b[36msample\u001b[0m:\u001b[36m123\u001b[0m - \u001b[1mNumber of users 97,095 are still greater than expected, keep removing...\u001b[0m\n"
     ]
    },
    {
     "name": "stdout",
     "output_type": "stream",
     "text": [
      "\n",
      "\n",
      "Randomly removing 954 users - Round 65 started\n"
     ]
    },
    {
     "name": "stderr",
     "output_type": "stream",
     "text": [
      "\u001b[32m2025-06-19 02:06:25.395\u001b[0m | \u001b[1mINFO    \u001b[0m | \u001b[36msrc.sample\u001b[0m:\u001b[36msample\u001b[0m:\u001b[36m119\u001b[0m - \u001b[1mAfter randomly removing users - round 65: num_users=95,473\u001b[0m\n",
      "\u001b[32m2025-06-19 02:06:25.396\u001b[0m | \u001b[1mINFO    \u001b[0m | \u001b[36msrc.sample\u001b[0m:\u001b[36msample\u001b[0m:\u001b[36m123\u001b[0m - \u001b[1mNumber of users 95,473 are still greater than expected, keep removing...\u001b[0m\n"
     ]
    },
    {
     "name": "stdout",
     "output_type": "stream",
     "text": [
      "\n",
      "\n",
      "Randomly removing 938 users - Round 66 started\n"
     ]
    },
    {
     "name": "stderr",
     "output_type": "stream",
     "text": [
      "\u001b[32m2025-06-19 02:06:27.618\u001b[0m | \u001b[1mINFO    \u001b[0m | \u001b[36msrc.sample\u001b[0m:\u001b[36msample\u001b[0m:\u001b[36m119\u001b[0m - \u001b[1mAfter randomly removing users - round 66: num_users=93,849\u001b[0m\n",
      "\u001b[32m2025-06-19 02:06:27.619\u001b[0m | \u001b[1mINFO    \u001b[0m | \u001b[36msrc.sample\u001b[0m:\u001b[36msample\u001b[0m:\u001b[36m123\u001b[0m - \u001b[1mNumber of users 93,849 are still greater than expected, keep removing...\u001b[0m\n"
     ]
    },
    {
     "name": "stdout",
     "output_type": "stream",
     "text": [
      "\n",
      "\n",
      "Randomly removing 922 users - Round 67 started\n"
     ]
    },
    {
     "name": "stderr",
     "output_type": "stream",
     "text": [
      "\u001b[32m2025-06-19 02:06:29.090\u001b[0m | \u001b[1mINFO    \u001b[0m | \u001b[36msrc.sample\u001b[0m:\u001b[36msample\u001b[0m:\u001b[36m119\u001b[0m - \u001b[1mAfter randomly removing users - round 67: num_users=92,200\u001b[0m\n",
      "\u001b[32m2025-06-19 02:06:29.090\u001b[0m | \u001b[1mINFO    \u001b[0m | \u001b[36msrc.sample\u001b[0m:\u001b[36msample\u001b[0m:\u001b[36m123\u001b[0m - \u001b[1mNumber of users 92,200 are still greater than expected, keep removing...\u001b[0m\n"
     ]
    },
    {
     "name": "stdout",
     "output_type": "stream",
     "text": [
      "\n",
      "\n",
      "Randomly removing 907 users - Round 68 started\n"
     ]
    },
    {
     "name": "stderr",
     "output_type": "stream",
     "text": [
      "\u001b[32m2025-06-19 02:06:30.985\u001b[0m | \u001b[1mINFO    \u001b[0m | \u001b[36msrc.sample\u001b[0m:\u001b[36msample\u001b[0m:\u001b[36m119\u001b[0m - \u001b[1mAfter randomly removing users - round 68: num_users=90,735\u001b[0m\n",
      "\u001b[32m2025-06-19 02:06:30.985\u001b[0m | \u001b[1mINFO    \u001b[0m | \u001b[36msrc.sample\u001b[0m:\u001b[36msample\u001b[0m:\u001b[36m123\u001b[0m - \u001b[1mNumber of users 90,735 are still greater than expected, keep removing...\u001b[0m\n"
     ]
    },
    {
     "name": "stdout",
     "output_type": "stream",
     "text": [
      "\n",
      "\n",
      "Randomly removing 891 users - Round 69 started\n"
     ]
    },
    {
     "name": "stderr",
     "output_type": "stream",
     "text": [
      "\u001b[32m2025-06-19 02:06:32.389\u001b[0m | \u001b[1mINFO    \u001b[0m | \u001b[36msrc.sample\u001b[0m:\u001b[36msample\u001b[0m:\u001b[36m119\u001b[0m - \u001b[1mAfter randomly removing users - round 69: num_users=89,142\u001b[0m\n",
      "\u001b[32m2025-06-19 02:06:32.389\u001b[0m | \u001b[1mINFO    \u001b[0m | \u001b[36msrc.sample\u001b[0m:\u001b[36msample\u001b[0m:\u001b[36m123\u001b[0m - \u001b[1mNumber of users 89,142 are still greater than expected, keep removing...\u001b[0m\n"
     ]
    },
    {
     "name": "stdout",
     "output_type": "stream",
     "text": [
      "\n",
      "\n",
      "Randomly removing 876 users - Round 70 started\n"
     ]
    },
    {
     "name": "stderr",
     "output_type": "stream",
     "text": [
      "\u001b[32m2025-06-19 02:06:33.785\u001b[0m | \u001b[1mINFO    \u001b[0m | \u001b[36msrc.sample\u001b[0m:\u001b[36msample\u001b[0m:\u001b[36m119\u001b[0m - \u001b[1mAfter randomly removing users - round 70: num_users=87,656\u001b[0m\n",
      "\u001b[32m2025-06-19 02:06:33.785\u001b[0m | \u001b[1mINFO    \u001b[0m | \u001b[36msrc.sample\u001b[0m:\u001b[36msample\u001b[0m:\u001b[36m123\u001b[0m - \u001b[1mNumber of users 87,656 are still greater than expected, keep removing...\u001b[0m\n"
     ]
    },
    {
     "name": "stdout",
     "output_type": "stream",
     "text": [
      "\n",
      "\n",
      "Randomly removing 861 users - Round 71 started\n"
     ]
    },
    {
     "name": "stderr",
     "output_type": "stream",
     "text": [
      "\u001b[32m2025-06-19 02:06:36.050\u001b[0m | \u001b[1mINFO    \u001b[0m | \u001b[36msrc.sample\u001b[0m:\u001b[36msample\u001b[0m:\u001b[36m119\u001b[0m - \u001b[1mAfter randomly removing users - round 71: num_users=86,186\u001b[0m\n",
      "\u001b[32m2025-06-19 02:06:36.051\u001b[0m | \u001b[1mINFO    \u001b[0m | \u001b[36msrc.sample\u001b[0m:\u001b[36msample\u001b[0m:\u001b[36m123\u001b[0m - \u001b[1mNumber of users 86,186 are still greater than expected, keep removing...\u001b[0m\n"
     ]
    },
    {
     "name": "stdout",
     "output_type": "stream",
     "text": [
      "\n",
      "\n",
      "Randomly removing 846 users - Round 72 started\n"
     ]
    },
    {
     "name": "stderr",
     "output_type": "stream",
     "text": [
      "\u001b[32m2025-06-19 02:06:38.287\u001b[0m | \u001b[1mINFO    \u001b[0m | \u001b[36msrc.sample\u001b[0m:\u001b[36msample\u001b[0m:\u001b[36m119\u001b[0m - \u001b[1mAfter randomly removing users - round 72: num_users=84,642\u001b[0m\n",
      "\u001b[32m2025-06-19 02:06:38.288\u001b[0m | \u001b[1mINFO    \u001b[0m | \u001b[36msrc.sample\u001b[0m:\u001b[36msample\u001b[0m:\u001b[36m123\u001b[0m - \u001b[1mNumber of users 84,642 are still greater than expected, keep removing...\u001b[0m\n"
     ]
    },
    {
     "name": "stdout",
     "output_type": "stream",
     "text": [
      "\n",
      "\n",
      "Randomly removing 830 users - Round 73 started\n"
     ]
    },
    {
     "name": "stderr",
     "output_type": "stream",
     "text": [
      "\u001b[32m2025-06-19 02:06:39.838\u001b[0m | \u001b[1mINFO    \u001b[0m | \u001b[36msrc.sample\u001b[0m:\u001b[36msample\u001b[0m:\u001b[36m119\u001b[0m - \u001b[1mAfter randomly removing users - round 73: num_users=83,059\u001b[0m\n",
      "\u001b[32m2025-06-19 02:06:39.838\u001b[0m | \u001b[1mINFO    \u001b[0m | \u001b[36msrc.sample\u001b[0m:\u001b[36msample\u001b[0m:\u001b[36m123\u001b[0m - \u001b[1mNumber of users 83,059 are still greater than expected, keep removing...\u001b[0m\n"
     ]
    },
    {
     "name": "stdout",
     "output_type": "stream",
     "text": [
      "\n",
      "\n",
      "Randomly removing 816 users - Round 74 started\n"
     ]
    },
    {
     "name": "stderr",
     "output_type": "stream",
     "text": [
      "\u001b[32m2025-06-19 02:06:42.895\u001b[0m | \u001b[1mINFO    \u001b[0m | \u001b[36msrc.sample\u001b[0m:\u001b[36msample\u001b[0m:\u001b[36m119\u001b[0m - \u001b[1mAfter randomly removing users - round 74: num_users=81,694\u001b[0m\n",
      "\u001b[32m2025-06-19 02:06:42.896\u001b[0m | \u001b[1mINFO    \u001b[0m | \u001b[36msrc.sample\u001b[0m:\u001b[36msample\u001b[0m:\u001b[36m123\u001b[0m - \u001b[1mNumber of users 81,694 are still greater than expected, keep removing...\u001b[0m\n"
     ]
    },
    {
     "name": "stdout",
     "output_type": "stream",
     "text": [
      "\n",
      "\n",
      "Randomly removing 801 users - Round 75 started\n"
     ]
    },
    {
     "name": "stderr",
     "output_type": "stream",
     "text": [
      "\u001b[32m2025-06-19 02:06:44.150\u001b[0m | \u001b[1mINFO    \u001b[0m | \u001b[36msrc.sample\u001b[0m:\u001b[36msample\u001b[0m:\u001b[36m119\u001b[0m - \u001b[1mAfter randomly removing users - round 75: num_users=80,106\u001b[0m\n",
      "\u001b[32m2025-06-19 02:06:44.151\u001b[0m | \u001b[1mINFO    \u001b[0m | \u001b[36msrc.sample\u001b[0m:\u001b[36msample\u001b[0m:\u001b[36m123\u001b[0m - \u001b[1mNumber of users 80,106 are still greater than expected, keep removing...\u001b[0m\n"
     ]
    },
    {
     "name": "stdout",
     "output_type": "stream",
     "text": [
      "\n",
      "\n",
      "Randomly removing 786 users - Round 76 started\n"
     ]
    },
    {
     "name": "stderr",
     "output_type": "stream",
     "text": [
      "\u001b[32m2025-06-19 02:06:46.742\u001b[0m | \u001b[1mINFO    \u001b[0m | \u001b[36msrc.sample\u001b[0m:\u001b[36msample\u001b[0m:\u001b[36m119\u001b[0m - \u001b[1mAfter randomly removing users - round 76: num_users=78,670\u001b[0m\n",
      "\u001b[32m2025-06-19 02:06:46.743\u001b[0m | \u001b[1mINFO    \u001b[0m | \u001b[36msrc.sample\u001b[0m:\u001b[36msample\u001b[0m:\u001b[36m123\u001b[0m - \u001b[1mNumber of users 78,670 are still greater than expected, keep removing...\u001b[0m\n"
     ]
    },
    {
     "name": "stdout",
     "output_type": "stream",
     "text": [
      "\n",
      "\n",
      "Randomly removing 772 users - Round 77 started\n"
     ]
    },
    {
     "name": "stderr",
     "output_type": "stream",
     "text": [
      "\u001b[32m2025-06-19 02:06:48.356\u001b[0m | \u001b[1mINFO    \u001b[0m | \u001b[36msrc.sample\u001b[0m:\u001b[36msample\u001b[0m:\u001b[36m119\u001b[0m - \u001b[1mAfter randomly removing users - round 77: num_users=77,234\u001b[0m\n",
      "\u001b[32m2025-06-19 02:06:48.356\u001b[0m | \u001b[1mINFO    \u001b[0m | \u001b[36msrc.sample\u001b[0m:\u001b[36msample\u001b[0m:\u001b[36m123\u001b[0m - \u001b[1mNumber of users 77,234 are still greater than expected, keep removing...\u001b[0m\n"
     ]
    },
    {
     "name": "stdout",
     "output_type": "stream",
     "text": [
      "\n",
      "\n",
      "Randomly removing 758 users - Round 78 started\n"
     ]
    },
    {
     "name": "stderr",
     "output_type": "stream",
     "text": [
      "\u001b[32m2025-06-19 02:06:50.286\u001b[0m | \u001b[1mINFO    \u001b[0m | \u001b[36msrc.sample\u001b[0m:\u001b[36msample\u001b[0m:\u001b[36m119\u001b[0m - \u001b[1mAfter randomly removing users - round 78: num_users=75,886\u001b[0m\n",
      "\u001b[32m2025-06-19 02:06:50.287\u001b[0m | \u001b[1mINFO    \u001b[0m | \u001b[36msrc.sample\u001b[0m:\u001b[36msample\u001b[0m:\u001b[36m123\u001b[0m - \u001b[1mNumber of users 75,886 are still greater than expected, keep removing...\u001b[0m\n"
     ]
    },
    {
     "name": "stdout",
     "output_type": "stream",
     "text": [
      "\n",
      "\n",
      "Randomly removing 744 users - Round 79 started\n"
     ]
    },
    {
     "name": "stderr",
     "output_type": "stream",
     "text": [
      "\u001b[32m2025-06-19 02:06:51.667\u001b[0m | \u001b[1mINFO    \u001b[0m | \u001b[36msrc.sample\u001b[0m:\u001b[36msample\u001b[0m:\u001b[36m119\u001b[0m - \u001b[1mAfter randomly removing users - round 79: num_users=74,497\u001b[0m\n",
      "\u001b[32m2025-06-19 02:06:51.667\u001b[0m | \u001b[1mINFO    \u001b[0m | \u001b[36msrc.sample\u001b[0m:\u001b[36msample\u001b[0m:\u001b[36m123\u001b[0m - \u001b[1mNumber of users 74,497 are still greater than expected, keep removing...\u001b[0m\n"
     ]
    },
    {
     "name": "stdout",
     "output_type": "stream",
     "text": [
      "\n",
      "\n",
      "Randomly removing 731 users - Round 80 started\n"
     ]
    },
    {
     "name": "stderr",
     "output_type": "stream",
     "text": [
      "\u001b[32m2025-06-19 02:06:52.987\u001b[0m | \u001b[1mINFO    \u001b[0m | \u001b[36msrc.sample\u001b[0m:\u001b[36msample\u001b[0m:\u001b[36m119\u001b[0m - \u001b[1mAfter randomly removing users - round 80: num_users=73,135\u001b[0m\n",
      "\u001b[32m2025-06-19 02:06:52.987\u001b[0m | \u001b[1mINFO    \u001b[0m | \u001b[36msrc.sample\u001b[0m:\u001b[36msample\u001b[0m:\u001b[36m123\u001b[0m - \u001b[1mNumber of users 73,135 are still greater than expected, keep removing...\u001b[0m\n"
     ]
    },
    {
     "name": "stdout",
     "output_type": "stream",
     "text": [
      "\n",
      "\n",
      "Randomly removing 717 users - Round 81 started\n"
     ]
    },
    {
     "name": "stderr",
     "output_type": "stream",
     "text": [
      "\u001b[32m2025-06-19 02:06:54.272\u001b[0m | \u001b[1mINFO    \u001b[0m | \u001b[36msrc.sample\u001b[0m:\u001b[36msample\u001b[0m:\u001b[36m119\u001b[0m - \u001b[1mAfter randomly removing users - round 81: num_users=71,748\u001b[0m\n",
      "\u001b[32m2025-06-19 02:06:54.272\u001b[0m | \u001b[1mINFO    \u001b[0m | \u001b[36msrc.sample\u001b[0m:\u001b[36msample\u001b[0m:\u001b[36m123\u001b[0m - \u001b[1mNumber of users 71,748 are still greater than expected, keep removing...\u001b[0m\n"
     ]
    },
    {
     "name": "stdout",
     "output_type": "stream",
     "text": [
      "\n",
      "\n",
      "Randomly removing 705 users - Round 82 started\n"
     ]
    },
    {
     "name": "stderr",
     "output_type": "stream",
     "text": [
      "\u001b[32m2025-06-19 02:06:55.714\u001b[0m | \u001b[1mINFO    \u001b[0m | \u001b[36msrc.sample\u001b[0m:\u001b[36msample\u001b[0m:\u001b[36m119\u001b[0m - \u001b[1mAfter randomly removing users - round 82: num_users=70,547\u001b[0m\n",
      "\u001b[32m2025-06-19 02:06:55.714\u001b[0m | \u001b[1mINFO    \u001b[0m | \u001b[36msrc.sample\u001b[0m:\u001b[36msample\u001b[0m:\u001b[36m123\u001b[0m - \u001b[1mNumber of users 70,547 are still greater than expected, keep removing...\u001b[0m\n"
     ]
    },
    {
     "name": "stdout",
     "output_type": "stream",
     "text": [
      "\n",
      "\n",
      "Randomly removing 692 users - Round 83 started\n"
     ]
    },
    {
     "name": "stderr",
     "output_type": "stream",
     "text": [
      "\u001b[32m2025-06-19 02:06:56.742\u001b[0m | \u001b[1mINFO    \u001b[0m | \u001b[36msrc.sample\u001b[0m:\u001b[36msample\u001b[0m:\u001b[36m119\u001b[0m - \u001b[1mAfter randomly removing users - round 83: num_users=69,236\u001b[0m\n",
      "\u001b[32m2025-06-19 02:06:56.742\u001b[0m | \u001b[1mINFO    \u001b[0m | \u001b[36msrc.sample\u001b[0m:\u001b[36msample\u001b[0m:\u001b[36m123\u001b[0m - \u001b[1mNumber of users 69,236 are still greater than expected, keep removing...\u001b[0m\n"
     ]
    },
    {
     "name": "stdout",
     "output_type": "stream",
     "text": [
      "\n",
      "\n",
      "Randomly removing 679 users - Round 84 started\n"
     ]
    },
    {
     "name": "stderr",
     "output_type": "stream",
     "text": [
      "\u001b[32m2025-06-19 02:06:58.151\u001b[0m | \u001b[1mINFO    \u001b[0m | \u001b[36msrc.sample\u001b[0m:\u001b[36msample\u001b[0m:\u001b[36m119\u001b[0m - \u001b[1mAfter randomly removing users - round 84: num_users=67,959\u001b[0m\n",
      "\u001b[32m2025-06-19 02:06:58.152\u001b[0m | \u001b[1mINFO    \u001b[0m | \u001b[36msrc.sample\u001b[0m:\u001b[36msample\u001b[0m:\u001b[36m123\u001b[0m - \u001b[1mNumber of users 67,959 are still greater than expected, keep removing...\u001b[0m\n"
     ]
    },
    {
     "name": "stdout",
     "output_type": "stream",
     "text": [
      "\n",
      "\n",
      "Randomly removing 666 users - Round 85 started\n"
     ]
    },
    {
     "name": "stderr",
     "output_type": "stream",
     "text": [
      "\u001b[32m2025-06-19 02:07:00.167\u001b[0m | \u001b[1mINFO    \u001b[0m | \u001b[36msrc.sample\u001b[0m:\u001b[36msample\u001b[0m:\u001b[36m119\u001b[0m - \u001b[1mAfter randomly removing users - round 85: num_users=66,676\u001b[0m\n",
      "\u001b[32m2025-06-19 02:07:00.168\u001b[0m | \u001b[1mINFO    \u001b[0m | \u001b[36msrc.sample\u001b[0m:\u001b[36msample\u001b[0m:\u001b[36m123\u001b[0m - \u001b[1mNumber of users 66,676 are still greater than expected, keep removing...\u001b[0m\n"
     ]
    },
    {
     "name": "stdout",
     "output_type": "stream",
     "text": [
      "\n",
      "\n",
      "Randomly removing 655 users - Round 86 started\n"
     ]
    },
    {
     "name": "stderr",
     "output_type": "stream",
     "text": [
      "\u001b[32m2025-06-19 02:07:01.226\u001b[0m | \u001b[1mINFO    \u001b[0m | \u001b[36msrc.sample\u001b[0m:\u001b[36msample\u001b[0m:\u001b[36m119\u001b[0m - \u001b[1mAfter randomly removing users - round 86: num_users=65,527\u001b[0m\n",
      "\u001b[32m2025-06-19 02:07:01.226\u001b[0m | \u001b[1mINFO    \u001b[0m | \u001b[36msrc.sample\u001b[0m:\u001b[36msample\u001b[0m:\u001b[36m123\u001b[0m - \u001b[1mNumber of users 65,527 are still greater than expected, keep removing...\u001b[0m\n"
     ]
    },
    {
     "name": "stdout",
     "output_type": "stream",
     "text": [
      "\n",
      "\n",
      "Randomly removing 644 users - Round 87 started\n"
     ]
    },
    {
     "name": "stderr",
     "output_type": "stream",
     "text": [
      "\u001b[32m2025-06-19 02:07:02.982\u001b[0m | \u001b[1mINFO    \u001b[0m | \u001b[36msrc.sample\u001b[0m:\u001b[36msample\u001b[0m:\u001b[36m119\u001b[0m - \u001b[1mAfter randomly removing users - round 87: num_users=64,408\u001b[0m\n",
      "\u001b[32m2025-06-19 02:07:02.983\u001b[0m | \u001b[1mINFO    \u001b[0m | \u001b[36msrc.sample\u001b[0m:\u001b[36msample\u001b[0m:\u001b[36m123\u001b[0m - \u001b[1mNumber of users 64,408 are still greater than expected, keep removing...\u001b[0m\n"
     ]
    },
    {
     "name": "stdout",
     "output_type": "stream",
     "text": [
      "\n",
      "\n",
      "Randomly removing 631 users - Round 88 started\n"
     ]
    },
    {
     "name": "stderr",
     "output_type": "stream",
     "text": [
      "\u001b[32m2025-06-19 02:07:04.451\u001b[0m | \u001b[1mINFO    \u001b[0m | \u001b[36msrc.sample\u001b[0m:\u001b[36msample\u001b[0m:\u001b[36m119\u001b[0m - \u001b[1mAfter randomly removing users - round 88: num_users=63,148\u001b[0m\n",
      "\u001b[32m2025-06-19 02:07:04.451\u001b[0m | \u001b[1mINFO    \u001b[0m | \u001b[36msrc.sample\u001b[0m:\u001b[36msample\u001b[0m:\u001b[36m123\u001b[0m - \u001b[1mNumber of users 63,148 are still greater than expected, keep removing...\u001b[0m\n"
     ]
    },
    {
     "name": "stdout",
     "output_type": "stream",
     "text": [
      "\n",
      "\n",
      "Randomly removing 619 users - Round 89 started\n"
     ]
    },
    {
     "name": "stderr",
     "output_type": "stream",
     "text": [
      "\u001b[32m2025-06-19 02:07:05.902\u001b[0m | \u001b[1mINFO    \u001b[0m | \u001b[36msrc.sample\u001b[0m:\u001b[36msample\u001b[0m:\u001b[36m119\u001b[0m - \u001b[1mAfter randomly removing users - round 89: num_users=61,922\u001b[0m\n",
      "\u001b[32m2025-06-19 02:07:05.903\u001b[0m | \u001b[1mINFO    \u001b[0m | \u001b[36msrc.sample\u001b[0m:\u001b[36msample\u001b[0m:\u001b[36m123\u001b[0m - \u001b[1mNumber of users 61,922 are still greater than expected, keep removing...\u001b[0m\n"
     ]
    },
    {
     "name": "stdout",
     "output_type": "stream",
     "text": [
      "\n",
      "\n",
      "Randomly removing 607 users - Round 90 started\n"
     ]
    },
    {
     "name": "stderr",
     "output_type": "stream",
     "text": [
      "\u001b[32m2025-06-19 02:07:08.407\u001b[0m | \u001b[1mINFO    \u001b[0m | \u001b[36msrc.sample\u001b[0m:\u001b[36msample\u001b[0m:\u001b[36m119\u001b[0m - \u001b[1mAfter randomly removing users - round 90: num_users=60,744\u001b[0m\n",
      "\u001b[32m2025-06-19 02:07:08.408\u001b[0m | \u001b[1mINFO    \u001b[0m | \u001b[36msrc.sample\u001b[0m:\u001b[36msample\u001b[0m:\u001b[36m123\u001b[0m - \u001b[1mNumber of users 60,744 are still greater than expected, keep removing...\u001b[0m\n"
     ]
    },
    {
     "name": "stdout",
     "output_type": "stream",
     "text": [
      "\n",
      "\n",
      "Randomly removing 593 users - Round 91 started\n"
     ]
    },
    {
     "name": "stderr",
     "output_type": "stream",
     "text": [
      "\u001b[32m2025-06-19 02:07:09.658\u001b[0m | \u001b[1mINFO    \u001b[0m | \u001b[36msrc.sample\u001b[0m:\u001b[36msample\u001b[0m:\u001b[36m119\u001b[0m - \u001b[1mAfter randomly removing users - round 91: num_users=59,376\u001b[0m\n",
      "\u001b[32m2025-06-19 02:07:09.659\u001b[0m | \u001b[1mINFO    \u001b[0m | \u001b[36msrc.sample\u001b[0m:\u001b[36msample\u001b[0m:\u001b[36m123\u001b[0m - \u001b[1mNumber of users 59,376 are still greater than expected, keep removing...\u001b[0m\n"
     ]
    },
    {
     "name": "stdout",
     "output_type": "stream",
     "text": [
      "\n",
      "\n",
      "Randomly removing 581 users - Round 92 started\n"
     ]
    },
    {
     "name": "stderr",
     "output_type": "stream",
     "text": [
      "\u001b[32m2025-06-19 02:07:10.870\u001b[0m | \u001b[1mINFO    \u001b[0m | \u001b[36msrc.sample\u001b[0m:\u001b[36msample\u001b[0m:\u001b[36m119\u001b[0m - \u001b[1mAfter randomly removing users - round 92: num_users=58,188\u001b[0m\n",
      "\u001b[32m2025-06-19 02:07:10.870\u001b[0m | \u001b[1mINFO    \u001b[0m | \u001b[36msrc.sample\u001b[0m:\u001b[36msample\u001b[0m:\u001b[36m123\u001b[0m - \u001b[1mNumber of users 58,188 are still greater than expected, keep removing...\u001b[0m\n"
     ]
    },
    {
     "name": "stdout",
     "output_type": "stream",
     "text": [
      "\n",
      "\n",
      "Randomly removing 569 users - Round 93 started\n"
     ]
    },
    {
     "name": "stderr",
     "output_type": "stream",
     "text": [
      "\u001b[32m2025-06-19 02:07:12.420\u001b[0m | \u001b[1mINFO    \u001b[0m | \u001b[36msrc.sample\u001b[0m:\u001b[36msample\u001b[0m:\u001b[36m119\u001b[0m - \u001b[1mAfter randomly removing users - round 93: num_users=56,971\u001b[0m\n",
      "\u001b[32m2025-06-19 02:07:12.420\u001b[0m | \u001b[1mINFO    \u001b[0m | \u001b[36msrc.sample\u001b[0m:\u001b[36msample\u001b[0m:\u001b[36m123\u001b[0m - \u001b[1mNumber of users 56,971 are still greater than expected, keep removing...\u001b[0m\n"
     ]
    },
    {
     "name": "stdout",
     "output_type": "stream",
     "text": [
      "\n",
      "\n",
      "Randomly removing 557 users - Round 94 started\n"
     ]
    },
    {
     "name": "stderr",
     "output_type": "stream",
     "text": [
      "\u001b[32m2025-06-19 02:07:13.601\u001b[0m | \u001b[1mINFO    \u001b[0m | \u001b[36msrc.sample\u001b[0m:\u001b[36msample\u001b[0m:\u001b[36m119\u001b[0m - \u001b[1mAfter randomly removing users - round 94: num_users=55,740\u001b[0m\n",
      "\u001b[32m2025-06-19 02:07:13.601\u001b[0m | \u001b[1mINFO    \u001b[0m | \u001b[36msrc.sample\u001b[0m:\u001b[36msample\u001b[0m:\u001b[36m123\u001b[0m - \u001b[1mNumber of users 55,740 are still greater than expected, keep removing...\u001b[0m\n"
     ]
    },
    {
     "name": "stdout",
     "output_type": "stream",
     "text": [
      "\n",
      "\n",
      "Randomly removing 545 users - Round 95 started\n"
     ]
    },
    {
     "name": "stderr",
     "output_type": "stream",
     "text": [
      "\u001b[32m2025-06-19 02:07:14.711\u001b[0m | \u001b[1mINFO    \u001b[0m | \u001b[36msrc.sample\u001b[0m:\u001b[36msample\u001b[0m:\u001b[36m119\u001b[0m - \u001b[1mAfter randomly removing users - round 95: num_users=54,564\u001b[0m\n",
      "\u001b[32m2025-06-19 02:07:14.712\u001b[0m | \u001b[1mINFO    \u001b[0m | \u001b[36msrc.sample\u001b[0m:\u001b[36msample\u001b[0m:\u001b[36m123\u001b[0m - \u001b[1mNumber of users 54,564 are still greater than expected, keep removing...\u001b[0m\n"
     ]
    },
    {
     "name": "stdout",
     "output_type": "stream",
     "text": [
      "\n",
      "\n",
      "Randomly removing 534 users - Round 96 started\n"
     ]
    },
    {
     "name": "stderr",
     "output_type": "stream",
     "text": [
      "\u001b[32m2025-06-19 02:07:15.682\u001b[0m | \u001b[1mINFO    \u001b[0m | \u001b[36msrc.sample\u001b[0m:\u001b[36msample\u001b[0m:\u001b[36m119\u001b[0m - \u001b[1mAfter randomly removing users - round 96: num_users=53,490\u001b[0m\n",
      "\u001b[32m2025-06-19 02:07:15.682\u001b[0m | \u001b[1mINFO    \u001b[0m | \u001b[36msrc.sample\u001b[0m:\u001b[36msample\u001b[0m:\u001b[36m123\u001b[0m - \u001b[1mNumber of users 53,490 are still greater than expected, keep removing...\u001b[0m\n"
     ]
    },
    {
     "name": "stdout",
     "output_type": "stream",
     "text": [
      "\n",
      "\n",
      "Randomly removing 525 users - Round 97 started\n"
     ]
    },
    {
     "name": "stderr",
     "output_type": "stream",
     "text": [
      "\u001b[32m2025-06-19 02:07:17.138\u001b[0m | \u001b[1mINFO    \u001b[0m | \u001b[36msrc.sample\u001b[0m:\u001b[36msample\u001b[0m:\u001b[36m119\u001b[0m - \u001b[1mAfter randomly removing users - round 97: num_users=52,580\u001b[0m\n",
      "\u001b[32m2025-06-19 02:07:17.138\u001b[0m | \u001b[1mINFO    \u001b[0m | \u001b[36msrc.sample\u001b[0m:\u001b[36msample\u001b[0m:\u001b[36m123\u001b[0m - \u001b[1mNumber of users 52,580 are still greater than expected, keep removing...\u001b[0m\n"
     ]
    },
    {
     "name": "stdout",
     "output_type": "stream",
     "text": [
      "\n",
      "\n",
      "Randomly removing 514 users - Round 98 started\n"
     ]
    },
    {
     "name": "stderr",
     "output_type": "stream",
     "text": [
      "\u001b[32m2025-06-19 02:07:18.063\u001b[0m | \u001b[1mINFO    \u001b[0m | \u001b[36msrc.sample\u001b[0m:\u001b[36msample\u001b[0m:\u001b[36m119\u001b[0m - \u001b[1mAfter randomly removing users - round 98: num_users=51,493\u001b[0m\n",
      "\u001b[32m2025-06-19 02:07:18.063\u001b[0m | \u001b[1mINFO    \u001b[0m | \u001b[36msrc.sample\u001b[0m:\u001b[36msample\u001b[0m:\u001b[36m123\u001b[0m - \u001b[1mNumber of users 51,493 are still greater than expected, keep removing...\u001b[0m\n"
     ]
    },
    {
     "name": "stdout",
     "output_type": "stream",
     "text": [
      "\n",
      "\n",
      "Randomly removing 504 users - Round 99 started\n"
     ]
    },
    {
     "name": "stderr",
     "output_type": "stream",
     "text": [
      "\u001b[32m2025-06-19 02:07:19.070\u001b[0m | \u001b[1mINFO    \u001b[0m | \u001b[36msrc.sample\u001b[0m:\u001b[36msample\u001b[0m:\u001b[36m119\u001b[0m - \u001b[1mAfter randomly removing users - round 99: num_users=50,474\u001b[0m\n",
      "\u001b[32m2025-06-19 02:07:19.071\u001b[0m | \u001b[1mINFO    \u001b[0m | \u001b[36msrc.sample\u001b[0m:\u001b[36msample\u001b[0m:\u001b[36m123\u001b[0m - \u001b[1mNumber of users 50,474 are still greater than expected, keep removing...\u001b[0m\n"
     ]
    },
    {
     "name": "stdout",
     "output_type": "stream",
     "text": [
      "\n",
      "\n",
      "Randomly removing 495 users - Round 100 started\n"
     ]
    },
    {
     "name": "stderr",
     "output_type": "stream",
     "text": [
      "\u001b[32m2025-06-19 02:07:20.543\u001b[0m | \u001b[1mINFO    \u001b[0m | \u001b[36msrc.sample\u001b[0m:\u001b[36msample\u001b[0m:\u001b[36m119\u001b[0m - \u001b[1mAfter randomly removing users - round 100: num_users=49,525\u001b[0m\n",
      "\u001b[32m2025-06-19 02:07:20.544\u001b[0m | \u001b[1mINFO    \u001b[0m | \u001b[36msrc.sample\u001b[0m:\u001b[36msample\u001b[0m:\u001b[36m123\u001b[0m - \u001b[1mNumber of users 49,525 are still greater than expected, keep removing...\u001b[0m\n"
     ]
    },
    {
     "name": "stdout",
     "output_type": "stream",
     "text": [
      "\n",
      "\n",
      "Randomly removing 484 users - Round 101 started\n"
     ]
    },
    {
     "name": "stderr",
     "output_type": "stream",
     "text": [
      "\u001b[32m2025-06-19 02:07:21.521\u001b[0m | \u001b[1mINFO    \u001b[0m | \u001b[36msrc.sample\u001b[0m:\u001b[36msample\u001b[0m:\u001b[36m119\u001b[0m - \u001b[1mAfter randomly removing users - round 101: num_users=48,454\u001b[0m\n",
      "\u001b[32m2025-06-19 02:07:21.522\u001b[0m | \u001b[1mINFO    \u001b[0m | \u001b[36msrc.sample\u001b[0m:\u001b[36msample\u001b[0m:\u001b[36m123\u001b[0m - \u001b[1mNumber of users 48,454 are still greater than expected, keep removing...\u001b[0m\n"
     ]
    },
    {
     "name": "stdout",
     "output_type": "stream",
     "text": [
      "\n",
      "\n",
      "Randomly removing 475 users - Round 102 started\n"
     ]
    },
    {
     "name": "stderr",
     "output_type": "stream",
     "text": [
      "\u001b[32m2025-06-19 02:07:22.384\u001b[0m | \u001b[1mINFO    \u001b[0m | \u001b[36msrc.sample\u001b[0m:\u001b[36msample\u001b[0m:\u001b[36m119\u001b[0m - \u001b[1mAfter randomly removing users - round 102: num_users=47,500\u001b[0m\n",
      "\u001b[32m2025-06-19 02:07:22.384\u001b[0m | \u001b[1mINFO    \u001b[0m | \u001b[36msrc.sample\u001b[0m:\u001b[36msample\u001b[0m:\u001b[36m123\u001b[0m - \u001b[1mNumber of users 47,500 are still greater than expected, keep removing...\u001b[0m\n"
     ]
    },
    {
     "name": "stdout",
     "output_type": "stream",
     "text": [
      "\n",
      "\n",
      "Randomly removing 465 users - Round 103 started\n"
     ]
    },
    {
     "name": "stderr",
     "output_type": "stream",
     "text": [
      "\u001b[32m2025-06-19 02:07:23.076\u001b[0m | \u001b[1mINFO    \u001b[0m | \u001b[36msrc.sample\u001b[0m:\u001b[36msample\u001b[0m:\u001b[36m119\u001b[0m - \u001b[1mAfter randomly removing users - round 103: num_users=46,560\u001b[0m\n",
      "\u001b[32m2025-06-19 02:07:23.076\u001b[0m | \u001b[1mINFO    \u001b[0m | \u001b[36msrc.sample\u001b[0m:\u001b[36msample\u001b[0m:\u001b[36m123\u001b[0m - \u001b[1mNumber of users 46,560 are still greater than expected, keep removing...\u001b[0m\n"
     ]
    },
    {
     "name": "stdout",
     "output_type": "stream",
     "text": [
      "\n",
      "\n",
      "Randomly removing 457 users - Round 104 started\n"
     ]
    },
    {
     "name": "stderr",
     "output_type": "stream",
     "text": [
      "\u001b[32m2025-06-19 02:07:24.124\u001b[0m | \u001b[1mINFO    \u001b[0m | \u001b[36msrc.sample\u001b[0m:\u001b[36msample\u001b[0m:\u001b[36m119\u001b[0m - \u001b[1mAfter randomly removing users - round 104: num_users=45,706\u001b[0m\n",
      "\u001b[32m2025-06-19 02:07:24.125\u001b[0m | \u001b[1mINFO    \u001b[0m | \u001b[36msrc.sample\u001b[0m:\u001b[36msample\u001b[0m:\u001b[36m123\u001b[0m - \u001b[1mNumber of users 45,706 are still greater than expected, keep removing...\u001b[0m\n"
     ]
    },
    {
     "name": "stdout",
     "output_type": "stream",
     "text": [
      "\n",
      "\n",
      "Randomly removing 448 users - Round 105 started\n"
     ]
    },
    {
     "name": "stderr",
     "output_type": "stream",
     "text": [
      "\u001b[32m2025-06-19 02:07:25.278\u001b[0m | \u001b[1mINFO    \u001b[0m | \u001b[36msrc.sample\u001b[0m:\u001b[36msample\u001b[0m:\u001b[36m119\u001b[0m - \u001b[1mAfter randomly removing users - round 105: num_users=44,860\u001b[0m\n",
      "\u001b[32m2025-06-19 02:07:25.279\u001b[0m | \u001b[1mINFO    \u001b[0m | \u001b[36msrc.sample\u001b[0m:\u001b[36msample\u001b[0m:\u001b[36m123\u001b[0m - \u001b[1mNumber of users 44,860 are still greater than expected, keep removing...\u001b[0m\n"
     ]
    },
    {
     "name": "stdout",
     "output_type": "stream",
     "text": [
      "\n",
      "\n",
      "Randomly removing 439 users - Round 106 started\n"
     ]
    },
    {
     "name": "stderr",
     "output_type": "stream",
     "text": [
      "\u001b[32m2025-06-19 02:07:26.125\u001b[0m | \u001b[1mINFO    \u001b[0m | \u001b[36msrc.sample\u001b[0m:\u001b[36msample\u001b[0m:\u001b[36m119\u001b[0m - \u001b[1mAfter randomly removing users - round 106: num_users=43,906\u001b[0m\n",
      "\u001b[32m2025-06-19 02:07:26.126\u001b[0m | \u001b[1mINFO    \u001b[0m | \u001b[36msrc.sample\u001b[0m:\u001b[36msample\u001b[0m:\u001b[36m123\u001b[0m - \u001b[1mNumber of users 43,906 are still greater than expected, keep removing...\u001b[0m\n"
     ]
    },
    {
     "name": "stdout",
     "output_type": "stream",
     "text": [
      "\n",
      "\n",
      "Randomly removing 429 users - Round 107 started\n"
     ]
    },
    {
     "name": "stderr",
     "output_type": "stream",
     "text": [
      "\u001b[32m2025-06-19 02:07:27.047\u001b[0m | \u001b[1mINFO    \u001b[0m | \u001b[36msrc.sample\u001b[0m:\u001b[36msample\u001b[0m:\u001b[36m119\u001b[0m - \u001b[1mAfter randomly removing users - round 107: num_users=42,941\u001b[0m\n",
      "\u001b[32m2025-06-19 02:07:27.047\u001b[0m | \u001b[1mINFO    \u001b[0m | \u001b[36msrc.sample\u001b[0m:\u001b[36msample\u001b[0m:\u001b[36m123\u001b[0m - \u001b[1mNumber of users 42,941 are still greater than expected, keep removing...\u001b[0m\n"
     ]
    },
    {
     "name": "stdout",
     "output_type": "stream",
     "text": [
      "\n",
      "\n",
      "Randomly removing 420 users - Round 108 started\n"
     ]
    },
    {
     "name": "stderr",
     "output_type": "stream",
     "text": [
      "\u001b[32m2025-06-19 02:07:27.639\u001b[0m | \u001b[1mINFO    \u001b[0m | \u001b[36msrc.sample\u001b[0m:\u001b[36msample\u001b[0m:\u001b[36m119\u001b[0m - \u001b[1mAfter randomly removing users - round 108: num_users=42,034\u001b[0m\n",
      "\u001b[32m2025-06-19 02:07:27.639\u001b[0m | \u001b[1mINFO    \u001b[0m | \u001b[36msrc.sample\u001b[0m:\u001b[36msample\u001b[0m:\u001b[36m123\u001b[0m - \u001b[1mNumber of users 42,034 are still greater than expected, keep removing...\u001b[0m\n"
     ]
    },
    {
     "name": "stdout",
     "output_type": "stream",
     "text": [
      "\n",
      "\n",
      "Randomly removing 411 users - Round 109 started\n"
     ]
    },
    {
     "name": "stderr",
     "output_type": "stream",
     "text": [
      "\u001b[32m2025-06-19 02:07:28.434\u001b[0m | \u001b[1mINFO    \u001b[0m | \u001b[36msrc.sample\u001b[0m:\u001b[36msample\u001b[0m:\u001b[36m119\u001b[0m - \u001b[1mAfter randomly removing users - round 109: num_users=41,189\u001b[0m\n",
      "\u001b[32m2025-06-19 02:07:28.435\u001b[0m | \u001b[1mINFO    \u001b[0m | \u001b[36msrc.sample\u001b[0m:\u001b[36msample\u001b[0m:\u001b[36m123\u001b[0m - \u001b[1mNumber of users 41,189 are still greater than expected, keep removing...\u001b[0m\n"
     ]
    },
    {
     "name": "stdout",
     "output_type": "stream",
     "text": [
      "\n",
      "\n",
      "Randomly removing 403 users - Round 110 started\n"
     ]
    },
    {
     "name": "stderr",
     "output_type": "stream",
     "text": [
      "\u001b[32m2025-06-19 02:07:29.209\u001b[0m | \u001b[1mINFO    \u001b[0m | \u001b[36msrc.sample\u001b[0m:\u001b[36msample\u001b[0m:\u001b[36m119\u001b[0m - \u001b[1mAfter randomly removing users - round 110: num_users=40,372\u001b[0m\n",
      "\u001b[32m2025-06-19 02:07:29.209\u001b[0m | \u001b[1mINFO    \u001b[0m | \u001b[36msrc.sample\u001b[0m:\u001b[36msample\u001b[0m:\u001b[36m123\u001b[0m - \u001b[1mNumber of users 40,372 are still greater than expected, keep removing...\u001b[0m\n"
     ]
    },
    {
     "name": "stdout",
     "output_type": "stream",
     "text": [
      "\n",
      "\n",
      "Randomly removing 394 users - Round 111 started\n"
     ]
    },
    {
     "name": "stderr",
     "output_type": "stream",
     "text": [
      "\u001b[32m2025-06-19 02:07:29.880\u001b[0m | \u001b[1mINFO    \u001b[0m | \u001b[36msrc.sample\u001b[0m:\u001b[36msample\u001b[0m:\u001b[36m119\u001b[0m - \u001b[1mAfter randomly removing users - round 111: num_users=39,480\u001b[0m\n",
      "\u001b[32m2025-06-19 02:07:29.880\u001b[0m | \u001b[1mINFO    \u001b[0m | \u001b[36msrc.sample\u001b[0m:\u001b[36msample\u001b[0m:\u001b[36m123\u001b[0m - \u001b[1mNumber of users 39,480 are still greater than expected, keep removing...\u001b[0m\n"
     ]
    },
    {
     "name": "stdout",
     "output_type": "stream",
     "text": [
      "\n",
      "\n",
      "Randomly removing 386 users - Round 112 started\n"
     ]
    },
    {
     "name": "stderr",
     "output_type": "stream",
     "text": [
      "\u001b[32m2025-06-19 02:07:30.633\u001b[0m | \u001b[1mINFO    \u001b[0m | \u001b[36msrc.sample\u001b[0m:\u001b[36msample\u001b[0m:\u001b[36m119\u001b[0m - \u001b[1mAfter randomly removing users - round 112: num_users=38,620\u001b[0m\n",
      "\u001b[32m2025-06-19 02:07:30.633\u001b[0m | \u001b[1mINFO    \u001b[0m | \u001b[36msrc.sample\u001b[0m:\u001b[36msample\u001b[0m:\u001b[36m123\u001b[0m - \u001b[1mNumber of users 38,620 are still greater than expected, keep removing...\u001b[0m\n"
     ]
    },
    {
     "name": "stdout",
     "output_type": "stream",
     "text": [
      "\n",
      "\n",
      "Randomly removing 378 users - Round 113 started\n"
     ]
    },
    {
     "name": "stderr",
     "output_type": "stream",
     "text": [
      "\u001b[32m2025-06-19 02:07:31.289\u001b[0m | \u001b[1mINFO    \u001b[0m | \u001b[36msrc.sample\u001b[0m:\u001b[36msample\u001b[0m:\u001b[36m119\u001b[0m - \u001b[1mAfter randomly removing users - round 113: num_users=37,805\u001b[0m\n",
      "\u001b[32m2025-06-19 02:07:31.289\u001b[0m | \u001b[1mINFO    \u001b[0m | \u001b[36msrc.sample\u001b[0m:\u001b[36msample\u001b[0m:\u001b[36m123\u001b[0m - \u001b[1mNumber of users 37,805 are still greater than expected, keep removing...\u001b[0m\n"
     ]
    },
    {
     "name": "stdout",
     "output_type": "stream",
     "text": [
      "\n",
      "\n",
      "Randomly removing 370 users - Round 114 started\n"
     ]
    },
    {
     "name": "stderr",
     "output_type": "stream",
     "text": [
      "\u001b[32m2025-06-19 02:07:32.371\u001b[0m | \u001b[1mINFO    \u001b[0m | \u001b[36msrc.sample\u001b[0m:\u001b[36msample\u001b[0m:\u001b[36m119\u001b[0m - \u001b[1mAfter randomly removing users - round 114: num_users=37,014\u001b[0m\n",
      "\u001b[32m2025-06-19 02:07:32.371\u001b[0m | \u001b[1mINFO    \u001b[0m | \u001b[36msrc.sample\u001b[0m:\u001b[36msample\u001b[0m:\u001b[36m123\u001b[0m - \u001b[1mNumber of users 37,014 are still greater than expected, keep removing...\u001b[0m\n"
     ]
    },
    {
     "name": "stdout",
     "output_type": "stream",
     "text": [
      "\n",
      "\n",
      "Randomly removing 362 users - Round 115 started\n"
     ]
    },
    {
     "name": "stderr",
     "output_type": "stream",
     "text": [
      "\u001b[32m2025-06-19 02:07:33.000\u001b[0m | \u001b[1mINFO    \u001b[0m | \u001b[36msrc.sample\u001b[0m:\u001b[36msample\u001b[0m:\u001b[36m119\u001b[0m - \u001b[1mAfter randomly removing users - round 115: num_users=36,249\u001b[0m\n",
      "\u001b[32m2025-06-19 02:07:33.001\u001b[0m | \u001b[1mINFO    \u001b[0m | \u001b[36msrc.sample\u001b[0m:\u001b[36msample\u001b[0m:\u001b[36m123\u001b[0m - \u001b[1mNumber of users 36,249 are still greater than expected, keep removing...\u001b[0m\n"
     ]
    },
    {
     "name": "stdout",
     "output_type": "stream",
     "text": [
      "\n",
      "\n",
      "Randomly removing 354 users - Round 116 started\n"
     ]
    },
    {
     "name": "stderr",
     "output_type": "stream",
     "text": [
      "\u001b[32m2025-06-19 02:07:33.997\u001b[0m | \u001b[1mINFO    \u001b[0m | \u001b[36msrc.sample\u001b[0m:\u001b[36msample\u001b[0m:\u001b[36m119\u001b[0m - \u001b[1mAfter randomly removing users - round 116: num_users=35,474\u001b[0m\n",
      "\u001b[32m2025-06-19 02:07:33.998\u001b[0m | \u001b[1mINFO    \u001b[0m | \u001b[36msrc.sample\u001b[0m:\u001b[36msample\u001b[0m:\u001b[36m123\u001b[0m - \u001b[1mNumber of users 35,474 are still greater than expected, keep removing...\u001b[0m\n"
     ]
    },
    {
     "name": "stdout",
     "output_type": "stream",
     "text": [
      "\n",
      "\n",
      "Randomly removing 345 users - Round 117 started\n"
     ]
    },
    {
     "name": "stderr",
     "output_type": "stream",
     "text": [
      "\u001b[32m2025-06-19 02:07:34.920\u001b[0m | \u001b[1mINFO    \u001b[0m | \u001b[36msrc.sample\u001b[0m:\u001b[36msample\u001b[0m:\u001b[36m119\u001b[0m - \u001b[1mAfter randomly removing users - round 117: num_users=34,518\u001b[0m\n",
      "\u001b[32m2025-06-19 02:07:34.921\u001b[0m | \u001b[1mINFO    \u001b[0m | \u001b[36msrc.sample\u001b[0m:\u001b[36msample\u001b[0m:\u001b[36m123\u001b[0m - \u001b[1mNumber of users 34,518 are still greater than expected, keep removing...\u001b[0m\n"
     ]
    },
    {
     "name": "stdout",
     "output_type": "stream",
     "text": [
      "\n",
      "\n",
      "Randomly removing 337 users - Round 118 started\n"
     ]
    },
    {
     "name": "stderr",
     "output_type": "stream",
     "text": [
      "\u001b[32m2025-06-19 02:07:35.474\u001b[0m | \u001b[1mINFO    \u001b[0m | \u001b[36msrc.sample\u001b[0m:\u001b[36msample\u001b[0m:\u001b[36m119\u001b[0m - \u001b[1mAfter randomly removing users - round 118: num_users=33,761\u001b[0m\n",
      "\u001b[32m2025-06-19 02:07:35.474\u001b[0m | \u001b[1mINFO    \u001b[0m | \u001b[36msrc.sample\u001b[0m:\u001b[36msample\u001b[0m:\u001b[36m123\u001b[0m - \u001b[1mNumber of users 33,761 are still greater than expected, keep removing...\u001b[0m\n"
     ]
    },
    {
     "name": "stdout",
     "output_type": "stream",
     "text": [
      "\n",
      "\n",
      "Randomly removing 329 users - Round 119 started\n"
     ]
    },
    {
     "name": "stderr",
     "output_type": "stream",
     "text": [
      "\u001b[32m2025-06-19 02:07:36.031\u001b[0m | \u001b[1mINFO    \u001b[0m | \u001b[36msrc.sample\u001b[0m:\u001b[36msample\u001b[0m:\u001b[36m119\u001b[0m - \u001b[1mAfter randomly removing users - round 119: num_users=32,962\u001b[0m\n",
      "\u001b[32m2025-06-19 02:07:36.032\u001b[0m | \u001b[1mINFO    \u001b[0m | \u001b[36msrc.sample\u001b[0m:\u001b[36msample\u001b[0m:\u001b[36m123\u001b[0m - \u001b[1mNumber of users 32,962 are still greater than expected, keep removing...\u001b[0m\n"
     ]
    },
    {
     "name": "stdout",
     "output_type": "stream",
     "text": [
      "\n",
      "\n",
      "Randomly removing 322 users - Round 120 started\n"
     ]
    },
    {
     "name": "stderr",
     "output_type": "stream",
     "text": [
      "\u001b[32m2025-06-19 02:07:36.476\u001b[0m | \u001b[1mINFO    \u001b[0m | \u001b[36msrc.sample\u001b[0m:\u001b[36msample\u001b[0m:\u001b[36m119\u001b[0m - \u001b[1mAfter randomly removing users - round 120: num_users=32,214\u001b[0m\n",
      "\u001b[32m2025-06-19 02:07:36.477\u001b[0m | \u001b[1mINFO    \u001b[0m | \u001b[36msrc.sample\u001b[0m:\u001b[36msample\u001b[0m:\u001b[36m123\u001b[0m - \u001b[1mNumber of users 32,214 are still greater than expected, keep removing...\u001b[0m\n"
     ]
    },
    {
     "name": "stdout",
     "output_type": "stream",
     "text": [
      "\n",
      "\n",
      "Randomly removing 316 users - Round 121 started\n"
     ]
    },
    {
     "name": "stderr",
     "output_type": "stream",
     "text": [
      "\u001b[32m2025-06-19 02:07:36.995\u001b[0m | \u001b[1mINFO    \u001b[0m | \u001b[36msrc.sample\u001b[0m:\u001b[36msample\u001b[0m:\u001b[36m119\u001b[0m - \u001b[1mAfter randomly removing users - round 121: num_users=31,605\u001b[0m\n",
      "\u001b[32m2025-06-19 02:07:36.996\u001b[0m | \u001b[1mINFO    \u001b[0m | \u001b[36msrc.sample\u001b[0m:\u001b[36msample\u001b[0m:\u001b[36m123\u001b[0m - \u001b[1mNumber of users 31,605 are still greater than expected, keep removing...\u001b[0m\n"
     ]
    },
    {
     "name": "stdout",
     "output_type": "stream",
     "text": [
      "\n",
      "\n",
      "Randomly removing 310 users - Round 122 started\n"
     ]
    },
    {
     "name": "stderr",
     "output_type": "stream",
     "text": [
      "\u001b[32m2025-06-19 02:07:37.415\u001b[0m | \u001b[1mINFO    \u001b[0m | \u001b[36msrc.sample\u001b[0m:\u001b[36msample\u001b[0m:\u001b[36m119\u001b[0m - \u001b[1mAfter randomly removing users - round 122: num_users=31,015\u001b[0m\n",
      "\u001b[32m2025-06-19 02:07:37.416\u001b[0m | \u001b[1mINFO    \u001b[0m | \u001b[36msrc.sample\u001b[0m:\u001b[36msample\u001b[0m:\u001b[36m123\u001b[0m - \u001b[1mNumber of users 31,015 are still greater than expected, keep removing...\u001b[0m\n"
     ]
    },
    {
     "name": "stdout",
     "output_type": "stream",
     "text": [
      "\n",
      "\n",
      "Randomly removing 303 users - Round 123 started\n"
     ]
    },
    {
     "name": "stderr",
     "output_type": "stream",
     "text": [
      "\u001b[32m2025-06-19 02:07:37.998\u001b[0m | \u001b[1mINFO    \u001b[0m | \u001b[36msrc.sample\u001b[0m:\u001b[36msample\u001b[0m:\u001b[36m119\u001b[0m - \u001b[1mAfter randomly removing users - round 123: num_users=30,391\u001b[0m\n",
      "\u001b[32m2025-06-19 02:07:37.999\u001b[0m | \u001b[1mINFO    \u001b[0m | \u001b[36msrc.sample\u001b[0m:\u001b[36msample\u001b[0m:\u001b[36m123\u001b[0m - \u001b[1mNumber of users 30,391 are still greater than expected, keep removing...\u001b[0m\n"
     ]
    },
    {
     "name": "stdout",
     "output_type": "stream",
     "text": [
      "\n",
      "\n",
      "Randomly removing 296 users - Round 124 started\n"
     ]
    },
    {
     "name": "stderr",
     "output_type": "stream",
     "text": [
      "\u001b[32m2025-06-19 02:07:38.688\u001b[0m | \u001b[1mINFO    \u001b[0m | \u001b[36msrc.sample\u001b[0m:\u001b[36msample\u001b[0m:\u001b[36m119\u001b[0m - \u001b[1mAfter randomly removing users - round 124: num_users=29,698\u001b[0m\n",
      "\u001b[32m2025-06-19 02:07:38.689\u001b[0m | \u001b[1mINFO    \u001b[0m | \u001b[36msrc.sample\u001b[0m:\u001b[36msample\u001b[0m:\u001b[36m123\u001b[0m - \u001b[1mNumber of users 29,698 are still greater than expected, keep removing...\u001b[0m\n"
     ]
    },
    {
     "name": "stdout",
     "output_type": "stream",
     "text": [
      "\n",
      "\n",
      "Randomly removing 290 users - Round 125 started\n"
     ]
    },
    {
     "name": "stderr",
     "output_type": "stream",
     "text": [
      "\u001b[32m2025-06-19 02:07:39.536\u001b[0m | \u001b[1mINFO    \u001b[0m | \u001b[36msrc.sample\u001b[0m:\u001b[36msample\u001b[0m:\u001b[36m119\u001b[0m - \u001b[1mAfter randomly removing users - round 125: num_users=29,016\u001b[0m\n",
      "\u001b[32m2025-06-19 02:07:39.537\u001b[0m | \u001b[1mINFO    \u001b[0m | \u001b[36msrc.sample\u001b[0m:\u001b[36msample\u001b[0m:\u001b[36m123\u001b[0m - \u001b[1mNumber of users 29,016 are still greater than expected, keep removing...\u001b[0m\n"
     ]
    },
    {
     "name": "stdout",
     "output_type": "stream",
     "text": [
      "\n",
      "\n",
      "Randomly removing 282 users - Round 126 started\n"
     ]
    },
    {
     "name": "stderr",
     "output_type": "stream",
     "text": [
      "\u001b[32m2025-06-19 02:07:40.820\u001b[0m | \u001b[1mINFO    \u001b[0m | \u001b[36msrc.sample\u001b[0m:\u001b[36msample\u001b[0m:\u001b[36m119\u001b[0m - \u001b[1mAfter randomly removing users - round 126: num_users=28,200\u001b[0m\n",
      "\u001b[32m2025-06-19 02:07:40.820\u001b[0m | \u001b[1mINFO    \u001b[0m | \u001b[36msrc.sample\u001b[0m:\u001b[36msample\u001b[0m:\u001b[36m123\u001b[0m - \u001b[1mNumber of users 28,200 are still greater than expected, keep removing...\u001b[0m\n"
     ]
    },
    {
     "name": "stdout",
     "output_type": "stream",
     "text": [
      "\n",
      "\n",
      "Randomly removing 273 users - Round 127 started\n"
     ]
    },
    {
     "name": "stderr",
     "output_type": "stream",
     "text": [
      "\u001b[32m2025-06-19 02:07:41.622\u001b[0m | \u001b[1mINFO    \u001b[0m | \u001b[36msrc.sample\u001b[0m:\u001b[36msample\u001b[0m:\u001b[36m119\u001b[0m - \u001b[1mAfter randomly removing users - round 127: num_users=27,305\u001b[0m\n",
      "\u001b[32m2025-06-19 02:07:41.622\u001b[0m | \u001b[1mINFO    \u001b[0m | \u001b[36msrc.sample\u001b[0m:\u001b[36msample\u001b[0m:\u001b[36m123\u001b[0m - \u001b[1mNumber of users 27,305 are still greater than expected, keep removing...\u001b[0m\n"
     ]
    },
    {
     "name": "stdout",
     "output_type": "stream",
     "text": [
      "\n",
      "\n",
      "Randomly removing 265 users - Round 128 started\n"
     ]
    },
    {
     "name": "stderr",
     "output_type": "stream",
     "text": [
      "\u001b[32m2025-06-19 02:07:42.411\u001b[0m | \u001b[1mINFO    \u001b[0m | \u001b[36msrc.sample\u001b[0m:\u001b[36msample\u001b[0m:\u001b[36m119\u001b[0m - \u001b[1mAfter randomly removing users - round 128: num_users=26,563\u001b[0m\n",
      "\u001b[32m2025-06-19 02:07:42.411\u001b[0m | \u001b[1mINFO    \u001b[0m | \u001b[36msrc.sample\u001b[0m:\u001b[36msample\u001b[0m:\u001b[36m123\u001b[0m - \u001b[1mNumber of users 26,563 are still greater than expected, keep removing...\u001b[0m\n"
     ]
    },
    {
     "name": "stdout",
     "output_type": "stream",
     "text": [
      "\n",
      "\n",
      "Randomly removing 258 users - Round 129 started\n"
     ]
    },
    {
     "name": "stderr",
     "output_type": "stream",
     "text": [
      "\u001b[32m2025-06-19 02:07:42.924\u001b[0m | \u001b[1mINFO    \u001b[0m | \u001b[36msrc.sample\u001b[0m:\u001b[36msample\u001b[0m:\u001b[36m119\u001b[0m - \u001b[1mAfter randomly removing users - round 129: num_users=25,832\u001b[0m\n",
      "\u001b[32m2025-06-19 02:07:42.925\u001b[0m | \u001b[1mINFO    \u001b[0m | \u001b[36msrc.sample\u001b[0m:\u001b[36msample\u001b[0m:\u001b[36m123\u001b[0m - \u001b[1mNumber of users 25,832 are still greater than expected, keep removing...\u001b[0m\n"
     ]
    },
    {
     "name": "stdout",
     "output_type": "stream",
     "text": [
      "\n",
      "\n",
      "Randomly removing 250 users - Round 130 started\n"
     ]
    },
    {
     "name": "stderr",
     "output_type": "stream",
     "text": [
      "\u001b[32m2025-06-19 02:07:43.601\u001b[0m | \u001b[1mINFO    \u001b[0m | \u001b[36msrc.sample\u001b[0m:\u001b[36msample\u001b[0m:\u001b[36m119\u001b[0m - \u001b[1mAfter randomly removing users - round 130: num_users=25,085\u001b[0m\n",
      "\u001b[32m2025-06-19 02:07:43.602\u001b[0m | \u001b[1mINFO    \u001b[0m | \u001b[36msrc.sample\u001b[0m:\u001b[36msample\u001b[0m:\u001b[36m123\u001b[0m - \u001b[1mNumber of users 25,085 are still greater than expected, keep removing...\u001b[0m\n"
     ]
    },
    {
     "name": "stdout",
     "output_type": "stream",
     "text": [
      "\n",
      "\n",
      "Randomly removing 242 users - Round 131 started\n"
     ]
    },
    {
     "name": "stderr",
     "output_type": "stream",
     "text": [
      "\u001b[32m2025-06-19 02:07:44.107\u001b[0m | \u001b[1mINFO    \u001b[0m | \u001b[36msrc.sample\u001b[0m:\u001b[36msample\u001b[0m:\u001b[36m119\u001b[0m - \u001b[1mAfter randomly removing users - round 131: num_users=24,265\u001b[0m\n",
      "\u001b[32m2025-06-19 02:07:44.108\u001b[0m | \u001b[1mINFO    \u001b[0m | \u001b[36msrc.sample\u001b[0m:\u001b[36msample\u001b[0m:\u001b[36m123\u001b[0m - \u001b[1mNumber of users 24,265 are still greater than expected, keep removing...\u001b[0m\n"
     ]
    },
    {
     "name": "stdout",
     "output_type": "stream",
     "text": [
      "\n",
      "\n",
      "Randomly removing 235 users - Round 132 started\n"
     ]
    },
    {
     "name": "stderr",
     "output_type": "stream",
     "text": [
      "\u001b[32m2025-06-19 02:07:44.608\u001b[0m | \u001b[1mINFO    \u001b[0m | \u001b[36msrc.sample\u001b[0m:\u001b[36msample\u001b[0m:\u001b[36m119\u001b[0m - \u001b[1mAfter randomly removing users - round 132: num_users=23,520\u001b[0m\n",
      "\u001b[32m2025-06-19 02:07:44.608\u001b[0m | \u001b[1mINFO    \u001b[0m | \u001b[36msrc.sample\u001b[0m:\u001b[36msample\u001b[0m:\u001b[36m123\u001b[0m - \u001b[1mNumber of users 23,520 are still greater than expected, keep removing...\u001b[0m\n"
     ]
    },
    {
     "name": "stdout",
     "output_type": "stream",
     "text": [
      "\n",
      "\n",
      "Randomly removing 228 users - Round 133 started\n"
     ]
    },
    {
     "name": "stderr",
     "output_type": "stream",
     "text": [
      "\u001b[32m2025-06-19 02:07:45.084\u001b[0m | \u001b[1mINFO    \u001b[0m | \u001b[36msrc.sample\u001b[0m:\u001b[36msample\u001b[0m:\u001b[36m119\u001b[0m - \u001b[1mAfter randomly removing users - round 133: num_users=22,812\u001b[0m\n",
      "\u001b[32m2025-06-19 02:07:45.085\u001b[0m | \u001b[1mINFO    \u001b[0m | \u001b[36msrc.sample\u001b[0m:\u001b[36msample\u001b[0m:\u001b[36m123\u001b[0m - \u001b[1mNumber of users 22,812 are still greater than expected, keep removing...\u001b[0m\n"
     ]
    },
    {
     "name": "stdout",
     "output_type": "stream",
     "text": [
      "\n",
      "\n",
      "Randomly removing 220 users - Round 134 started\n"
     ]
    },
    {
     "name": "stderr",
     "output_type": "stream",
     "text": [
      "\u001b[32m2025-06-19 02:07:45.648\u001b[0m | \u001b[1mINFO    \u001b[0m | \u001b[36msrc.sample\u001b[0m:\u001b[36msample\u001b[0m:\u001b[36m119\u001b[0m - \u001b[1mAfter randomly removing users - round 134: num_users=22,081\u001b[0m\n",
      "\u001b[32m2025-06-19 02:07:45.648\u001b[0m | \u001b[1mINFO    \u001b[0m | \u001b[36msrc.sample\u001b[0m:\u001b[36msample\u001b[0m:\u001b[36m123\u001b[0m - \u001b[1mNumber of users 22,081 are still greater than expected, keep removing...\u001b[0m\n"
     ]
    },
    {
     "name": "stdout",
     "output_type": "stream",
     "text": [
      "\n",
      "\n",
      "Randomly removing 213 users - Round 135 started\n"
     ]
    },
    {
     "name": "stderr",
     "output_type": "stream",
     "text": [
      "\u001b[32m2025-06-19 02:07:46.189\u001b[0m | \u001b[1mINFO    \u001b[0m | \u001b[36msrc.sample\u001b[0m:\u001b[36msample\u001b[0m:\u001b[36m119\u001b[0m - \u001b[1mAfter randomly removing users - round 135: num_users=21,398\u001b[0m\n",
      "\u001b[32m2025-06-19 02:07:46.190\u001b[0m | \u001b[1mINFO    \u001b[0m | \u001b[36msrc.sample\u001b[0m:\u001b[36msample\u001b[0m:\u001b[36m123\u001b[0m - \u001b[1mNumber of users 21,398 are still greater than expected, keep removing...\u001b[0m\n"
     ]
    },
    {
     "name": "stdout",
     "output_type": "stream",
     "text": [
      "\n",
      "\n",
      "Randomly removing 208 users - Round 136 started\n"
     ]
    },
    {
     "name": "stderr",
     "output_type": "stream",
     "text": [
      "\u001b[32m2025-06-19 02:07:46.764\u001b[0m | \u001b[1mINFO    \u001b[0m | \u001b[36msrc.sample\u001b[0m:\u001b[36msample\u001b[0m:\u001b[36m119\u001b[0m - \u001b[1mAfter randomly removing users - round 136: num_users=20,895\u001b[0m\n",
      "\u001b[32m2025-06-19 02:07:46.765\u001b[0m | \u001b[1mINFO    \u001b[0m | \u001b[36msrc.sample\u001b[0m:\u001b[36msample\u001b[0m:\u001b[36m123\u001b[0m - \u001b[1mNumber of users 20,895 are still greater than expected, keep removing...\u001b[0m\n"
     ]
    },
    {
     "name": "stdout",
     "output_type": "stream",
     "text": [
      "\n",
      "\n",
      "Randomly removing 202 users - Round 137 started\n"
     ]
    },
    {
     "name": "stderr",
     "output_type": "stream",
     "text": [
      "\u001b[32m2025-06-19 02:07:47.131\u001b[0m | \u001b[1mINFO    \u001b[0m | \u001b[36msrc.sample\u001b[0m:\u001b[36msample\u001b[0m:\u001b[36m119\u001b[0m - \u001b[1mAfter randomly removing users - round 137: num_users=20,246\u001b[0m\n",
      "\u001b[32m2025-06-19 02:07:47.131\u001b[0m | \u001b[1mINFO    \u001b[0m | \u001b[36msrc.sample\u001b[0m:\u001b[36msample\u001b[0m:\u001b[36m123\u001b[0m - \u001b[1mNumber of users 20,246 are still greater than expected, keep removing...\u001b[0m\n"
     ]
    },
    {
     "name": "stdout",
     "output_type": "stream",
     "text": [
      "\n",
      "\n",
      "Randomly removing 196 users - Round 138 started\n"
     ]
    },
    {
     "name": "stderr",
     "output_type": "stream",
     "text": [
      "\u001b[32m2025-06-19 02:07:47.860\u001b[0m | \u001b[1mINFO    \u001b[0m | \u001b[36msrc.sample\u001b[0m:\u001b[36msample\u001b[0m:\u001b[36m119\u001b[0m - \u001b[1mAfter randomly removing users - round 138: num_users=19,695\u001b[0m\n",
      "\u001b[32m2025-06-19 02:07:47.860\u001b[0m | \u001b[1mINFO    \u001b[0m | \u001b[36msrc.sample\u001b[0m:\u001b[36msample\u001b[0m:\u001b[36m123\u001b[0m - \u001b[1mNumber of users 19,695 are still greater than expected, keep removing...\u001b[0m\n"
     ]
    },
    {
     "name": "stdout",
     "output_type": "stream",
     "text": [
      "\n",
      "\n",
      "Randomly removing 190 users - Round 139 started\n"
     ]
    },
    {
     "name": "stderr",
     "output_type": "stream",
     "text": [
      "\u001b[32m2025-06-19 02:07:48.160\u001b[0m | \u001b[1mINFO    \u001b[0m | \u001b[36msrc.sample\u001b[0m:\u001b[36msample\u001b[0m:\u001b[36m119\u001b[0m - \u001b[1mAfter randomly removing users - round 139: num_users=19,020\u001b[0m\n",
      "\u001b[32m2025-06-19 02:07:48.160\u001b[0m | \u001b[1mINFO    \u001b[0m | \u001b[36msrc.sample\u001b[0m:\u001b[36msample\u001b[0m:\u001b[36m123\u001b[0m - \u001b[1mNumber of users 19,020 are still greater than expected, keep removing...\u001b[0m\n"
     ]
    },
    {
     "name": "stdout",
     "output_type": "stream",
     "text": [
      "\n",
      "\n",
      "Randomly removing 184 users - Round 140 started\n"
     ]
    },
    {
     "name": "stderr",
     "output_type": "stream",
     "text": [
      "\u001b[32m2025-06-19 02:07:48.571\u001b[0m | \u001b[1mINFO    \u001b[0m | \u001b[36msrc.sample\u001b[0m:\u001b[36msample\u001b[0m:\u001b[36m119\u001b[0m - \u001b[1mAfter randomly removing users - round 140: num_users=18,475\u001b[0m\n",
      "\u001b[32m2025-06-19 02:07:48.571\u001b[0m | \u001b[1mINFO    \u001b[0m | \u001b[36msrc.sample\u001b[0m:\u001b[36msample\u001b[0m:\u001b[36m123\u001b[0m - \u001b[1mNumber of users 18,475 are still greater than expected, keep removing...\u001b[0m\n"
     ]
    },
    {
     "name": "stdout",
     "output_type": "stream",
     "text": [
      "\n",
      "\n",
      "Randomly removing 179 users - Round 141 started\n"
     ]
    },
    {
     "name": "stderr",
     "output_type": "stream",
     "text": [
      "\u001b[32m2025-06-19 02:07:48.892\u001b[0m | \u001b[1mINFO    \u001b[0m | \u001b[36msrc.sample\u001b[0m:\u001b[36msample\u001b[0m:\u001b[36m119\u001b[0m - \u001b[1mAfter randomly removing users - round 141: num_users=17,953\u001b[0m\n",
      "\u001b[32m2025-06-19 02:07:48.893\u001b[0m | \u001b[1mINFO    \u001b[0m | \u001b[36msrc.sample\u001b[0m:\u001b[36msample\u001b[0m:\u001b[36m123\u001b[0m - \u001b[1mNumber of users 17,953 are still greater than expected, keep removing...\u001b[0m\n"
     ]
    },
    {
     "name": "stdout",
     "output_type": "stream",
     "text": [
      "\n",
      "\n",
      "Randomly removing 175 users - Round 142 started\n"
     ]
    },
    {
     "name": "stderr",
     "output_type": "stream",
     "text": [
      "\u001b[32m2025-06-19 02:07:49.199\u001b[0m | \u001b[1mINFO    \u001b[0m | \u001b[36msrc.sample\u001b[0m:\u001b[36msample\u001b[0m:\u001b[36m119\u001b[0m - \u001b[1mAfter randomly removing users - round 142: num_users=17,507\u001b[0m\n",
      "\u001b[32m2025-06-19 02:07:49.200\u001b[0m | \u001b[1mINFO    \u001b[0m | \u001b[36msrc.sample\u001b[0m:\u001b[36msample\u001b[0m:\u001b[36m123\u001b[0m - \u001b[1mNumber of users 17,507 are still greater than expected, keep removing...\u001b[0m\n"
     ]
    },
    {
     "name": "stdout",
     "output_type": "stream",
     "text": [
      "\n",
      "\n",
      "Randomly removing 170 users - Round 143 started\n"
     ]
    },
    {
     "name": "stderr",
     "output_type": "stream",
     "text": [
      "\u001b[32m2025-06-19 02:07:49.622\u001b[0m | \u001b[1mINFO    \u001b[0m | \u001b[36msrc.sample\u001b[0m:\u001b[36msample\u001b[0m:\u001b[36m119\u001b[0m - \u001b[1mAfter randomly removing users - round 143: num_users=17,028\u001b[0m\n",
      "\u001b[32m2025-06-19 02:07:49.622\u001b[0m | \u001b[1mINFO    \u001b[0m | \u001b[36msrc.sample\u001b[0m:\u001b[36msample\u001b[0m:\u001b[36m123\u001b[0m - \u001b[1mNumber of users 17,028 are still greater than expected, keep removing...\u001b[0m\n"
     ]
    },
    {
     "name": "stdout",
     "output_type": "stream",
     "text": [
      "\n",
      "\n",
      "Randomly removing 164 users - Round 144 started\n"
     ]
    },
    {
     "name": "stderr",
     "output_type": "stream",
     "text": [
      "\u001b[32m2025-06-19 02:07:49.859\u001b[0m | \u001b[1mINFO    \u001b[0m | \u001b[36msrc.sample\u001b[0m:\u001b[36msample\u001b[0m:\u001b[36m119\u001b[0m - \u001b[1mAfter randomly removing users - round 144: num_users=16,499\u001b[0m\n",
      "\u001b[32m2025-06-19 02:07:49.859\u001b[0m | \u001b[1mINFO    \u001b[0m | \u001b[36msrc.sample\u001b[0m:\u001b[36msample\u001b[0m:\u001b[36m123\u001b[0m - \u001b[1mNumber of users 16,499 are still greater than expected, keep removing...\u001b[0m\n"
     ]
    },
    {
     "name": "stdout",
     "output_type": "stream",
     "text": [
      "\n",
      "\n",
      "Randomly removing 161 users - Round 145 started\n"
     ]
    },
    {
     "name": "stderr",
     "output_type": "stream",
     "text": [
      "\u001b[32m2025-06-19 02:07:50.249\u001b[0m | \u001b[1mINFO    \u001b[0m | \u001b[36msrc.sample\u001b[0m:\u001b[36msample\u001b[0m:\u001b[36m119\u001b[0m - \u001b[1mAfter randomly removing users - round 145: num_users=16,139\u001b[0m\n",
      "\u001b[32m2025-06-19 02:07:50.250\u001b[0m | \u001b[1mINFO    \u001b[0m | \u001b[36msrc.sample\u001b[0m:\u001b[36msample\u001b[0m:\u001b[36m123\u001b[0m - \u001b[1mNumber of users 16,139 are still greater than expected, keep removing...\u001b[0m\n"
     ]
    },
    {
     "name": "stdout",
     "output_type": "stream",
     "text": [
      "\n",
      "\n",
      "Randomly removing 154 users - Round 146 started\n"
     ]
    },
    {
     "name": "stderr",
     "output_type": "stream",
     "text": [
      "\u001b[32m2025-06-19 02:07:50.676\u001b[0m | \u001b[1mINFO    \u001b[0m | \u001b[36msrc.sample\u001b[0m:\u001b[36msample\u001b[0m:\u001b[36m119\u001b[0m - \u001b[1mAfter randomly removing users - round 146: num_users=15,485\u001b[0m\n",
      "\u001b[32m2025-06-19 02:07:50.677\u001b[0m | \u001b[1mINFO    \u001b[0m | \u001b[36msrc.sample\u001b[0m:\u001b[36msample\u001b[0m:\u001b[36m123\u001b[0m - \u001b[1mNumber of users 15,485 are still greater than expected, keep removing...\u001b[0m\n"
     ]
    },
    {
     "name": "stdout",
     "output_type": "stream",
     "text": [
      "\n",
      "\n",
      "Randomly removing 149 users - Round 147 started\n"
     ]
    },
    {
     "name": "stderr",
     "output_type": "stream",
     "text": [
      "\u001b[32m2025-06-19 02:07:51.238\u001b[0m | \u001b[1mINFO    \u001b[0m | \u001b[36msrc.sample\u001b[0m:\u001b[36msample\u001b[0m:\u001b[36m119\u001b[0m - \u001b[1mAfter randomly removing users - round 147: num_users=14,963\u001b[0m\n",
      "\u001b[32m2025-06-19 02:07:51.238\u001b[0m | \u001b[1mINFO    \u001b[0m | \u001b[36msrc.sample\u001b[0m:\u001b[36msample\u001b[0m:\u001b[36m123\u001b[0m - \u001b[1mNumber of users 14,963 are still greater than expected, keep removing...\u001b[0m\n"
     ]
    },
    {
     "name": "stdout",
     "output_type": "stream",
     "text": [
      "\n",
      "\n",
      "Randomly removing 143 users - Round 148 started\n"
     ]
    },
    {
     "name": "stderr",
     "output_type": "stream",
     "text": [
      "\u001b[32m2025-06-19 02:07:51.592\u001b[0m | \u001b[1mINFO    \u001b[0m | \u001b[36msrc.sample\u001b[0m:\u001b[36msample\u001b[0m:\u001b[36m119\u001b[0m - \u001b[1mAfter randomly removing users - round 148: num_users=14,384\u001b[0m\n",
      "\u001b[32m2025-06-19 02:07:51.593\u001b[0m | \u001b[1mINFO    \u001b[0m | \u001b[36msrc.sample\u001b[0m:\u001b[36msample\u001b[0m:\u001b[36m123\u001b[0m - \u001b[1mNumber of users 14,384 are still greater than expected, keep removing...\u001b[0m\n"
     ]
    },
    {
     "name": "stdout",
     "output_type": "stream",
     "text": [
      "\n",
      "\n",
      "Randomly removing 140 users - Round 149 started\n"
     ]
    },
    {
     "name": "stderr",
     "output_type": "stream",
     "text": [
      "\u001b[32m2025-06-19 02:07:52.077\u001b[0m | \u001b[1mINFO    \u001b[0m | \u001b[36msrc.sample\u001b[0m:\u001b[36msample\u001b[0m:\u001b[36m119\u001b[0m - \u001b[1mAfter randomly removing users - round 149: num_users=14,037\u001b[0m\n",
      "\u001b[32m2025-06-19 02:07:52.078\u001b[0m | \u001b[1mINFO    \u001b[0m | \u001b[36msrc.sample\u001b[0m:\u001b[36msample\u001b[0m:\u001b[36m123\u001b[0m - \u001b[1mNumber of users 14,037 are still greater than expected, keep removing...\u001b[0m\n"
     ]
    },
    {
     "name": "stdout",
     "output_type": "stream",
     "text": [
      "\n",
      "\n",
      "Randomly removing 134 users - Round 150 started\n"
     ]
    },
    {
     "name": "stderr",
     "output_type": "stream",
     "text": [
      "\u001b[32m2025-06-19 02:07:52.466\u001b[0m | \u001b[1mINFO    \u001b[0m | \u001b[36msrc.sample\u001b[0m:\u001b[36msample\u001b[0m:\u001b[36m119\u001b[0m - \u001b[1mAfter randomly removing users - round 150: num_users=13,433\u001b[0m\n",
      "\u001b[32m2025-06-19 02:07:52.466\u001b[0m | \u001b[1mINFO    \u001b[0m | \u001b[36msrc.sample\u001b[0m:\u001b[36msample\u001b[0m:\u001b[36m123\u001b[0m - \u001b[1mNumber of users 13,433 are still greater than expected, keep removing...\u001b[0m\n"
     ]
    },
    {
     "name": "stdout",
     "output_type": "stream",
     "text": [
      "\n",
      "\n",
      "Randomly removing 128 users - Round 151 started\n"
     ]
    },
    {
     "name": "stderr",
     "output_type": "stream",
     "text": [
      "\u001b[32m2025-06-19 02:07:52.759\u001b[0m | \u001b[1mINFO    \u001b[0m | \u001b[36msrc.sample\u001b[0m:\u001b[36msample\u001b[0m:\u001b[36m119\u001b[0m - \u001b[1mAfter randomly removing users - round 151: num_users=12,873\u001b[0m\n",
      "\u001b[32m2025-06-19 02:07:52.760\u001b[0m | \u001b[1mINFO    \u001b[0m | \u001b[36msrc.sample\u001b[0m:\u001b[36msample\u001b[0m:\u001b[36m123\u001b[0m - \u001b[1mNumber of users 12,873 are still greater than expected, keep removing...\u001b[0m\n",
      "\u001b[32m2025-06-19 02:07:52.775\u001b[0m | \u001b[1mINFO    \u001b[0m | \u001b[36msrc.sample\u001b[0m:\u001b[36msample\u001b[0m:\u001b[36m140\u001b[0m - \u001b[1mNumber of val_df records 966 are falling below expected threshold, stop and use `sample_df` as final output...\u001b[0m\n",
      "\u001b[32m2025-06-19 02:07:52.781\u001b[0m | \u001b[1mINFO    \u001b[0m | \u001b[36msrc.sample\u001b[0m:\u001b[36msample\u001b[0m:\u001b[36m149\u001b[0m - \u001b[1mlen(sample_users)=12,409 len(sample_items)=4,143\u001b[0m\n"
     ]
    }
   ],
   "source": [
    "data_sampler = InteractionDataSampler(\n",
    "    user_col=args.user_col,\n",
    "    item_col=args.item_col,\n",
    "    sample_users=args.sample_users,\n",
    "    min_val_records=1000,\n",
    "    random_seed=args.random_seed,\n",
    "    min_item_interactions=args.min_item_interactions,\n",
    "    min_user_interactions=args.min_user_interactions,\n",
    "    debug=False,\n",
    ")\n",
    "sample_df, val_sample_df = data_sampler.sample(train_raw, val_raw)"
   ]
  },
  {
   "cell_type": "code",
   "execution_count": 9,
   "metadata": {},
   "outputs": [
    {
     "name": "stderr",
     "output_type": "stream",
     "text": [
      "\u001b[32m2025-06-19 02:07:52.793\u001b[0m | \u001b[1mINFO    \u001b[0m | \u001b[36m__main__\u001b[0m:\u001b[36m<module>\u001b[0m:\u001b[36m4\u001b[0m - \u001b[1mlen(sample_users)=12409 len(sample_items)=4143\u001b[0m\n",
      "\u001b[32m2025-06-19 02:07:52.818\u001b[0m | \u001b[1mINFO    \u001b[0m | \u001b[36m__main__\u001b[0m:\u001b[36m<module>\u001b[0m:\u001b[36m15\u001b[0m - \u001b[1mlen(train_items)=4143, len(train_users)=12409\u001b[0m\n",
      "\u001b[32m2025-06-19 02:07:52.819\u001b[0m | \u001b[1mINFO    \u001b[0m | \u001b[36m__main__\u001b[0m:\u001b[36m<module>\u001b[0m:\u001b[36m16\u001b[0m - \u001b[1mlen(val_items)=651, len(val_users)=644\u001b[0m\n",
      "\u001b[32m2025-06-19 02:07:52.820\u001b[0m | \u001b[1mINFO    \u001b[0m | \u001b[36m__main__\u001b[0m:\u001b[36m<module>\u001b[0m:\u001b[36m19\u001b[0m - \u001b[1mPercentage of val users in train: 100%\u001b[0m\n",
      "\u001b[32m2025-06-19 02:07:52.820\u001b[0m | \u001b[1mINFO    \u001b[0m | \u001b[36m__main__\u001b[0m:\u001b[36m<module>\u001b[0m:\u001b[36m22\u001b[0m - \u001b[1mPercentage of val items in train: 100%\u001b[0m\n",
      "\u001b[32m2025-06-19 02:07:52.820\u001b[0m | \u001b[1mINFO    \u001b[0m | \u001b[36m__main__\u001b[0m:\u001b[36m<module>\u001b[0m:\u001b[36m25\u001b[0m - \u001b[1mSparsity: 99.8236%\u001b[0m\n"
     ]
    }
   ],
   "source": [
    "train_sample_df = sample_df.copy()\n",
    "sample_users = train_sample_df[args.user_col].unique()\n",
    "sample_items = train_sample_df[args.item_col].unique()\n",
    "logger.info(f\"{len(sample_users)=} {len(sample_items)=}\")\n",
    "\n",
    "val_sample_df = val_raw.loc[\n",
    "    lambda df: df[args.user_col].isin(sample_users)\n",
    "    & df[args.item_col].isin(sample_items)\n",
    "]\n",
    "\n",
    "train_items = train_sample_df[args.item_col].unique()\n",
    "train_users = train_sample_df[args.user_col].unique()\n",
    "val_items = val_sample_df[args.item_col].unique()\n",
    "val_users = val_sample_df[args.user_col].unique()\n",
    "logger.info(f\"{len(train_items)=}, {len(train_users)=}\")\n",
    "logger.info(f\"{len(val_items)=}, {len(val_users)=}\")\n",
    "val_users_in_train = set(val_users).intersection(set(train_users))\n",
    "val_items_in_train = set(val_items).intersection(set(train_items))\n",
    "logger.info(\n",
    "    f\"Percentage of val users in train: {len(val_users_in_train) / len(val_users):,.0%}\"\n",
    ")\n",
    "logger.info(\n",
    "    f\"Percentage of val items in train: {len(val_items_in_train) / len(val_items):,.0%}\"\n",
    ")\n",
    "logger.info(\n",
    "    f\"Sparsity: {1 - len(train_sample_df) / (len(train_items) * len(train_users)):,.4%}\"\n",
    ")"
   ]
  },
  {
   "cell_type": "code",
   "execution_count": 10,
   "metadata": {},
   "outputs": [],
   "source": [
    "assert train_sample_df.groupby(args.user_col).size().min() >= args.min_user_interactions\n",
    "assert train_sample_df.groupby(args.item_col).size().min() >= args.min_item_interactions"
   ]
  },
  {
   "cell_type": "code",
   "execution_count": 11,
   "metadata": {},
   "outputs": [
    {
     "data": {
      "text/html": [
       "<div>\n",
       "<style scoped>\n",
       "    .dataframe tbody tr th:only-of-type {\n",
       "        vertical-align: middle;\n",
       "    }\n",
       "\n",
       "    .dataframe tbody tr th {\n",
       "        vertical-align: top;\n",
       "    }\n",
       "\n",
       "    .dataframe thead th {\n",
       "        text-align: right;\n",
       "    }\n",
       "</style>\n",
       "<table border=\"1\" class=\"dataframe\">\n",
       "  <thead>\n",
       "    <tr style=\"text-align: right;\">\n",
       "      <th></th>\n",
       "      <th>count</th>\n",
       "      <th>unique</th>\n",
       "      <th>top</th>\n",
       "      <th>freq</th>\n",
       "      <th>mean</th>\n",
       "      <th>std</th>\n",
       "      <th>min</th>\n",
       "      <th>25%</th>\n",
       "      <th>50%</th>\n",
       "      <th>75%</th>\n",
       "      <th>max</th>\n",
       "    </tr>\n",
       "  </thead>\n",
       "  <tbody>\n",
       "    <tr>\n",
       "      <th>user_id</th>\n",
       "      <td>90700</td>\n",
       "      <td>12409</td>\n",
       "      <td>AGTM6TECFNENFVXRGNVCFUYVL22A</td>\n",
       "      <td>87</td>\n",
       "      <td>NaN</td>\n",
       "      <td>NaN</td>\n",
       "      <td>NaN</td>\n",
       "      <td>NaN</td>\n",
       "      <td>NaN</td>\n",
       "      <td>NaN</td>\n",
       "      <td>NaN</td>\n",
       "    </tr>\n",
       "    <tr>\n",
       "      <th>parent_asin</th>\n",
       "      <td>90700</td>\n",
       "      <td>4143</td>\n",
       "      <td>B0BW3QTWJJ</td>\n",
       "      <td>437</td>\n",
       "      <td>NaN</td>\n",
       "      <td>NaN</td>\n",
       "      <td>NaN</td>\n",
       "      <td>NaN</td>\n",
       "      <td>NaN</td>\n",
       "      <td>NaN</td>\n",
       "      <td>NaN</td>\n",
       "    </tr>\n",
       "    <tr>\n",
       "      <th>rating</th>\n",
       "      <td>90700.0</td>\n",
       "      <td>NaN</td>\n",
       "      <td>NaN</td>\n",
       "      <td>NaN</td>\n",
       "      <td>4.554344</td>\n",
       "      <td>0.928609</td>\n",
       "      <td>1.0</td>\n",
       "      <td>5.0</td>\n",
       "      <td>5.0</td>\n",
       "      <td>5.0</td>\n",
       "      <td>5.0</td>\n",
       "    </tr>\n",
       "    <tr>\n",
       "      <th>timestamp</th>\n",
       "      <td>90700.0</td>\n",
       "      <td>NaN</td>\n",
       "      <td>NaN</td>\n",
       "      <td>NaN</td>\n",
       "      <td>1490914780140.189941</td>\n",
       "      <td>68577577958.464668</td>\n",
       "      <td>1036400058000.0</td>\n",
       "      <td>1442153383000.0</td>\n",
       "      <td>1485965216500.0</td>\n",
       "      <td>1546654323543.5</td>\n",
       "      <td>1628640736369.0</td>\n",
       "    </tr>\n",
       "  </tbody>\n",
       "</table>\n",
       "</div>"
      ],
      "text/plain": [
       "               count unique                           top freq  \\\n",
       "user_id        90700  12409  AGTM6TECFNENFVXRGNVCFUYVL22A   87   \n",
       "parent_asin    90700   4143                    B0BW3QTWJJ  437   \n",
       "rating       90700.0    NaN                           NaN  NaN   \n",
       "timestamp    90700.0    NaN                           NaN  NaN   \n",
       "\n",
       "                             mean                 std              min  \\\n",
       "user_id                       NaN                 NaN              NaN   \n",
       "parent_asin                   NaN                 NaN              NaN   \n",
       "rating                   4.554344            0.928609              1.0   \n",
       "timestamp    1490914780140.189941  68577577958.464668  1036400058000.0   \n",
       "\n",
       "                         25%              50%              75%  \\\n",
       "user_id                  NaN              NaN              NaN   \n",
       "parent_asin              NaN              NaN              NaN   \n",
       "rating                   5.0              5.0              5.0   \n",
       "timestamp    1442153383000.0  1485965216500.0  1546654323543.5   \n",
       "\n",
       "                         max  \n",
       "user_id                  NaN  \n",
       "parent_asin              NaN  \n",
       "rating                   5.0  \n",
       "timestamp    1628640736369.0  "
      ]
     },
     "execution_count": 11,
     "metadata": {},
     "output_type": "execute_result"
    }
   ],
   "source": [
    "train_sample_df.describe(include=\"all\").T"
   ]
  },
  {
   "cell_type": "markdown",
   "metadata": {},
   "source": [
    "## Persist sample"
   ]
  },
  {
   "cell_type": "code",
   "execution_count": 13,
   "metadata": {},
   "outputs": [],
   "source": [
    "train_sample_df.to_parquet(\"../data/train.parquet\")\n",
    "val_sample_df.to_parquet(\"../data/val.parquet\")"
   ]
  },
  {
   "cell_type": "code",
   "execution_count": 14,
   "metadata": {},
   "outputs": [],
   "source": [
    "from datasets import load_dataset\n",
    "\n",
    "metadata_raw = load_dataset(\n",
    "    \"McAuley-Lab/Amazon-Reviews-2023\", \"raw_meta_Toys_and_Games\", trust_remote_code=True\n",
    ")\n",
    "metadata_raw_df = metadata_raw[\"full\"].to_pandas()\n",
    "metadata_raw_df.to_parquet(\"../data/raw_meta.parquet\")"
   ]
  }
 ],
 "metadata": {
  "kernelspec": {
   "display_name": "Python (datn-recsys)",
   "language": "python",
   "name": "datn-recsys"
  },
  "language_info": {
   "codemirror_mode": {
    "name": "ipython",
    "version": 3
   },
   "file_extension": ".py",
   "mimetype": "text/x-python",
   "name": "python",
   "nbconvert_exporter": "python",
   "pygments_lexer": "ipython3",
   "version": "3.11.9"
  }
 },
 "nbformat": 4,
 "nbformat_minor": 2
}
